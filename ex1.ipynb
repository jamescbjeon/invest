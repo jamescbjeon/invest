{
 "cells": [
  {
   "cell_type": "code",
   "execution_count": null,
   "metadata": {},
   "outputs": [],
   "source": [
    "#Settings\n",
    "new_money_in = 10000\n",
    "#Set our rebalance threshold\n",
    "rebal_threshold = .05 #allowable allocation drift\n",
    "rebal_timeframe = 180 #in days"
   ]
  },
  {
   "cell_type": "code",
   "execution_count": null,
   "metadata": {},
   "outputs": [],
   "source": [
    "#Define target and current allocations\n",
    "#create our target allocation\n",
    "columns_t = ['ticker','allocation_target','assetclass']\n",
    "positions_t = [['VTSAX',0.5652,'ST'],\n",
    "               ['VIGAX',0.0131,'ST'],\n",
    "               ['VSMAX',0.0066,'ST'],\n",
    "               ['VSEQX',0.0066,'ST'],\n",
    "               ['VWIGX',0.0507,'ST'],\n",
    "               ['VTRIX',0.0507,'ST'],\n",
    "               ['VTIAX',0.1521,'ST'],\n",
    "               ['VBTLX',0.035,'BD'],\n",
    "               ['VTABX',0.015,'BD'],\n",
    "               ['VGSLX',0.05,'RE'],\n",
    "               ['VNQI',0.01,'RE'],\n",
    "               ['VDE',0.03,'ST'],\n",
    "               ['GLD',0.015,'CS']]\n",
    "\n",
    "#set our current portfolio\n",
    "columns_c = ['accounttype','accountid','lastrebaldate','ticker','assetclass','basisdate','costbasis','shares']\n",
    "positions_c = [['RIRA','1111','2018-11-16','VBTLX','BD','2018-11-16',1,913.483],\n",
    "             ['RIRA','1111','2018-11-16','VTIAX','ST','2018-11-16',1,514.298],\n",
    "             ['RIRA','1111','2018-11-16','VTSAX','ST','2018-11-16',10,151.121],\n",
    "             ['RIRA','2222','2018-11-16','VBTLX','BD','2018-11-16',1,772.407],\n",
    "             ['RIRA','2222','2018-11-16','VTSAX','ST','2018-11-16',20,151.578],\n",
    "             ['TAXB','3333','2018-11-16','AAPL','ST','2018-11-16',1,3.14],\n",
    "             ['TAXB','3333','2018-11-16','VTSAX','ST','2018-11-16',10,549.871]]"
   ]
  },
  {
   "cell_type": "code",
   "execution_count": null,
   "metadata": {},
   "outputs": [],
   "source": [
    "#Lets import the necessary packages\n",
    "import pandas as pd\n",
    "from IPython.display import display\n",
    "pd.set_option('display.max_columns', None)\n",
    "import numpy as np\n",
    "import datetime\n",
    "import decimal\n",
    "from pandas_datareader import data as pdr\n",
    "from keys import tiingo_key\n",
    "#define todays datetime\n",
    "now = datetime.datetime.now()\n",
    "#uncomment below to override tiingo_key with your own! \n",
    "#tiingo_key = 'YOURKEYGOESHERE'"
   ]
  },
  {
   "cell_type": "code",
   "execution_count": null,
   "metadata": {},
   "outputs": [],
   "source": []
  },
  {
   "cell_type": "code",
   "execution_count": null,
   "metadata": {},
   "outputs": [],
   "source": []
  },
  {
   "cell_type": "code",
   "execution_count": null,
   "metadata": {},
   "outputs": [],
   "source": []
  },
  {
   "cell_type": "code",
   "execution_count": null,
   "metadata": {},
   "outputs": [],
   "source": []
  }
 ],
 "metadata": {
  "kernelspec": {
   "display_name": "Python 3",
   "language": "python",
   "name": "python3"
  },
  "language_info": {
   "codemirror_mode": {
    "name": "ipython",
    "version": 3
   },
   "file_extension": ".py",
   "mimetype": "text/x-python",
   "name": "python",
   "nbconvert_exporter": "python",
   "pygments_lexer": "ipython3",
   "version": "3.8.3"
  }
 },
 "nbformat": 4,
 "nbformat_minor": 4
}
