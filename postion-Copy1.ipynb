{
 "cells": [
  {
   "cell_type": "markdown",
   "metadata": {},
   "source": [
    "## Input and Preparation"
   ]
  },
  {
   "cell_type": "code",
   "execution_count": null,
   "metadata": {},
   "outputs": [],
   "source": [
    "### 매주 입력 필요\n",
    "\n",
    "# 투자금 변화 입력\n",
    "list_capital = [\n",
    "    ['2021-12-10', 1500000, 2000000, 0, 17100000, 0],\n",
    "    ['2022-03-21', 1500000, 2000000, 750000, 17100000, 0],\n",
    "    ['2022-04-21', 1500000, 2000000, 1000000, 17100000, 0], \n",
    "    ['2022-05-11', 1500000, 2000000, 1000000, 17100000, 51411787], \n",
    "    ['2022-05-14', 2000000, 2000000, 1000000, 17100000, 51411787],\n",
    "    ['2022-05-21', 2000000, 2000000, 1250000, 17100000, 51411787]\n",
    "]\n",
    "\n",
    "# 주차별 자산평가액 입력\n",
    "list_eva = [\n",
    "    ['2021-12-10', 1500000, 2000000, 0, 17100000, 0],\n",
    "    ['2022-04-01', 1320963, 1815919, 745075, 17169766, 0],\n",
    "    ['2022-04-08', 1328128, 1824105, 739964, 17110423, 0],\n",
    "    ['2022-04-20', 1306232, 1843025, 734283, 17122584, 0],\n",
    "    ['2022-04-26', 1300044, 1825530, 974443, 16710626, 0],\n",
    "    ['2022-05-04', 1297685, 1810670, 973821, 16818596, 0],\n",
    "    ['2022-05-11', 1280706, 1787935, 963967, 16557094, 51411787],\n",
    "    ['2022-05-18', 1747918, 1792125, 963923, 16606513, 51411787],\n",
    "    ['2022-05-25', 1803813, 1768880, 1203089, 16567673, 51411787],\n",
    "    ['2022-06-01', 1719094, 1759435, 1218145, 16809988, 51411787],\n",
    "    ['2022-06-08', 1720456, 1767500, 1215795, 16921678, 51411787]\n",
    "]\n",
    "\n",
    "# 종목 정보 - 신규 종목 매수 시, 별도 지정 필요\n",
    "ticker = {\n",
    "    '005930': ['삼성전자',  'KR',  'STOCK'],\n",
    "    '000660': ['SK하이닉스',  'KR',  'STOCK'],\n",
    "    '035420': ['NAVER',  'KR',  'STOCK'],\n",
    "    '069500': ['KODEX 200',  'KR',  'ETF'],\n",
    "    '088980': ['맥쿼리인프라',  'KR',  'STOCK'],\n",
    "    '123310': ['TIGER 인버스',  'KR',  'ETF'],\n",
    "    '133690': ['TIGER 미국나스닥100',  'US',  'ETF'],\n",
    "    '139280': ['TIGER 경기방어',  'KR',  'ETF'],\n",
    "    '157490': ['TIGER 소프트웨어',  'KR',  'ETF'],\n",
    "    '195980': ['ARIRANG 신흥국MSCI(합성 H)',  'Global',  'ETF'],\n",
    "    '219390': ['KBSTAR 미국S&P원유생산기업(합성 H)',  'US',  'Commodity'],\n",
    "    '266410': ['KODEX 필수소비재',  'KR',  'ETF'],\n",
    "    '271050': ['KODEX WTI원유선물인버스(H)',  'Global',  'Commodity'],\n",
    "    '319640': ['TIGER 골드선물(H)',  'Global',  'Commodity'],\n",
    "    '329200': ['TIGER 리츠부동산인프라', 'KR', 'RealEstate'],\n",
    "    '334690': ['KBSTAR 팔라듐선물(H)',  'Global',  'Commodity'],\n",
    "    '332610': ['ARIRANG 미국단기우량회사채',  'US',  'Bond'],\n",
    "    '360750': ['TIGER 미국S&P500',  'US',  'ETF'],\n",
    "    '371450': ['TIGER 글로벌클라우드컴퓨팅INDXX',  'US',  'ETF'],\n",
    "    '371460': ['TIGER 차이나전기차SOLACTIVE',  'CN',  'ETF'],\n",
    "    '373790': ['KOSEF 미국방어배당성장나스닥',  'US',  'ETF'],\n",
    "    '394350': ['KOSEF 릭소글로벌퓨처모빌리티MSCI',  'Global',  'ETF'],\n",
    "    '409810': ['KODEX 미국나스닥100선물인버스(H)',  'US',  'ETF'],\n",
    "    '411420': ['KODEX 미국메타버스나스닥액티브',  'US',  'ETF'],\n",
    "    '500058': ['신한 S&P500 VIX S/T 선물 ETN C', 'US', 'ETF'],\n",
    "    '510006': ['대신 인버스 니켈선물 ETN(H)',  'Global',  'Commodity'],\n",
    "    '530020': ['삼성 미국 대형 가치주 ETN',  'US',  'ETF'],\n",
    "    '570049': ['TRUE S&P500 양매도 4% OTM ETN(H)',  'US',  'ETF'],\n",
    "    '590018': ['미래에셋 중국 심천 100 ETN',  'CN',  'ETF']\n",
    "}\n",
    "\n",
    "# 일자, Ticker, 주식수, 체결가격, Bank account\n",
    "# Price: 매수+, 매도-\n",
    "actions = [\n",
    "    ['2021-12-13', '005930', 1, 77100, '14'],\n",
    "    ['2021-12-13', '069500', 2, 40027, '14'],\n",
    "    ['2020-12-13', '360750', 7, 14028, '14'],\n",
    "    ['2021-12-21', '005930', 2, 78200, '14'],\n",
    "    ['2021-12-22', '000660', 1, 128500, '14'],\n",
    "    ['2021-12-22', '005930', 2, 79100, '14'],\n",
    "    ['2021-12-22', '035420', 1, 378000, '14'],\n",
    "    ['2021-12-23', '088980', 7, 14150, '14'],\n",
    "    ['2021-12-23', '133690', 3, 86165, '01'],\n",
    "    ['2021-12-24', '005930', 2, 80800, '14'],\n",
    "    ['2021-12-24', '133690', 3, 86600, '01'],\n",
    "    ['2021-12-24', '360750', 15, 14125, '01'],\n",
    "    ['2022-01-03', '411420', 20, 10150, '01'],\n",
    "    ['2022-01-04', '530020', 9, 17512, '14'],\n",
    "    ['2022-01-06', '133690', 5, 84920, '14'],\n",
    "    ['2022-01-06', '530020', 7, 17870, '14'],\n",
    "    ['2022-01-06', '590018', 15, 20085, '14'],\n",
    "    ['2022-01-06', '360750', 14, 14215, '14'],\n",
    "    ['2022-01-06', '005930', -7, 77500, '14'],\n",
    "    ['2022-01-06', '035420', -1, 346000, '14'],\n",
    "    ['2022-01-06', '069500', -2, 39435, '14'],\n",
    "    ['2022-01-06', '088980', -7, 13800, '14'],\n",
    "    ['2022-01-24', '334690', 19, 12090, '01'],\n",
    "    ['2022-01-24', '411420', -20, 8475, '01'],\n",
    "    ['2022-01-28', '510006', 53, 3820, '01'],\n",
    "    ['2022-01-28', '000660', -1, 119500, '14'],\n",
    "    ['2022-02-14', '409810', 41, 11230, '01'],\n",
    "    ['2022-02-14', '133690', -6, 76300, '01'],\n",
    "    ['2022-02-15', '271050', 17, 5835, '01'],\n",
    "    ['2022-02-24', '510006', -53, 3360, '01'],\n",
    "    ['2022-02-24', '360750', -15, 12535, '01'],\n",
    "    ['2022-02-24', '133690', -5, 70930, '14'],\n",
    "    ['2022-02-24', '360750', -21, 12552, '14'],\n",
    "    ['2022-03-04', '195980', 11, 11045, '29'],\n",
    "    ['2022-03-04', '360750', 9, 13225, '29'],\n",
    "    ['2022-03-07', '271050', 95, 4249, '14'],\n",
    "    ['2022-03-10', '334690', -19, 16735, '01'],\n",
    "    ['2022-03-14', '319640', 14, 14270, '14'],\n",
    "    ['2022-03-14', '570049', 17, 11670, '14'],\n",
    "    ['2022-03-14', '123310', 20, 4895, '01'],\n",
    "    ['2022-03-14', '219390', 180, 5545, '28'],\n",
    "    ['2022-03-14', '332610', 10, 102840, '28'],\n",
    "    ['2022-03-14', '373790', 77, 12950, '28'],\n",
    "    ['2022-03-16', '590018', -15, 16243, '14'],\n",
    "    ['2022-03-16', '195980', -11, 9865, '29'],\n",
    "    ['2022-03-23', '123310', -19, 4770, '01'],\n",
    "    ['2022-03-23', '271050', -94, 4450, '14'],\n",
    "    ['2022-03-23', '266410', 127, 7910, '28'],\n",
    "    ['2022-03-30', '409810', -40, 10390, '01'],\n",
    "    ['2022-03-30', '570049', 25, 11715, '14'],\n",
    "    ['2022-03-30', '360750', 9, 14115, '29'],\n",
    "    ['2022-03-30', '133690', 1, 82580, '29'],\n",
    "    ['2022-03-30', '139280', 99, 10130, '28'],\n",
    "    ['2022-03-30', '371450', 101, 9900, '28'],\n",
    "    ['2022-03-30', '157490', 70, 14325, '28'],\n",
    "    ['2022-03-30', '394350', 91, 10984, '28'],\n",
    "    ['2022-03-30', '371460', 68, 14720, '28'],\n",
    "    ['2022-04-21', '329200', 154, 6495, '28'],\n",
    "    ['2022-04-29', '570049', 42, 11865, '14'],\n",
    "    ['2022-05-12', '394350', -82, 9360, '28'],\n",
    "    ['2022-05-12', '371450', -101, 7830, '28'],\n",
    "    ['2022-05-17', '409810', 80, 12580, '01'],\n",
    "    ['2022-06-09', '500058', 24, 8550, '01'],\n",
    "    ['2022-06-09', '500058', 35, 8560, '14']\n",
    "]"
   ]
  },
  {
   "cell_type": "code",
   "execution_count": 1,
   "metadata": {},
   "outputs": [],
   "source": [
    "# Bank Account\n",
    "account = {\n",
    "    '01': 'FR',\n",
    "    '14': 'SA',\n",
    "    '29': 'RP',\n",
    "    '28': 'DC',\n",
    "    'MA': 'MA'\n",
    "}"
   ]
  },
  {
   "cell_type": "code",
   "execution_count": 2,
   "metadata": {
    "colab": {
     "base_uri": "https://localhost:8080/"
    },
    "id": "eCR4Z9-30PnW",
    "outputId": "88f0f028-471f-4732-f6f9-aad2fac2fc16"
   },
   "outputs": [],
   "source": [
    "# Import libraries\n",
    "from datetime import datetime, timedelta\n",
    "\n",
    "import pandas as pd\n",
    "import numpy as np\n",
    "\n",
    "import matplotlib.pyplot as plt\n",
    "plt.rcParams['font.family'] = 'AppleGothic' # Matplotlib 한글서체 오류처리\n",
    "plt.rc('axes', unicode_minus=False)\n",
    "\n",
    "# !pip install yfinance\n",
    "import yfinance as yf  # Yahoo Finance API\n",
    "\n",
    "# !pip install pykrx\n",
    "# from pykrx import stock  # 네이버금융\n",
    "\n",
    "# !pip install pandas-datareader # 주식 데이터 조회\n",
    "import pandas_datareader as web\n",
    "\n",
    "# !pip install mplfinance # 금융차트\n",
    "import mplfinance as mpf\n",
    "# 한국식 캔들차트 생성을 위한 스타일 지정 (상승-빨강, 하락-파랑)\n",
    "colorset = mpf.make_marketcolors(up='tab:red', down='tab:blue', volume='tab:blue')\n",
    "s = mpf.make_mpf_style(marketcolors= colorset)"
   ]
  },
  {
   "cell_type": "code",
   "execution_count": null,
   "metadata": {
    "id": "qx4J9C1BZ-Du"
   },
   "outputs": [],
   "source": [
    "# capital, eva 데이터프레임 생성\n",
    "def define_cap(caplist, total):\n",
    "    df = pd.DataFrame(caplist, columns= ['DATE'] + list(account.values()))\n",
    "    df.DATE = pd.to_datetime(df.DATE)\n",
    "    df.set_index(['DATE'], inplace= True)\n",
    "    df[total] = df.loc[:, df.columns!='EVENT'].sum(axis=1)\n",
    "    return df\n",
    "\n",
    "# 개별 계정에 대해 자본 대비 평가액 변화 확인\n",
    "def cap_change(account_col):\n",
    "    account_cap = capital[account_col][-1]\n",
    "    account_eva = eva[account_col][-1]\n",
    "    account_del = account_eva - account_cap\n",
    "    return [account_cap, account_eva, account_del, account_del / account_cap * 100]    \n",
    "\n",
    "# ticker로 해당 종목 이름열인 'NAME'을 생성 - 별도 반환없이 바로 지정된 df에 생성\n",
    "def tcknaming(df):\n",
    "  df['NAME'] = df.TICKER.map(lambda x: ticker[x][0])"
   ]
  },
  {
   "cell_type": "markdown",
   "metadata": {},
   "source": [
    "## Capital"
   ]
  },
  {
   "cell_type": "code",
   "execution_count": null,
   "metadata": {},
   "outputs": [],
   "source": [
    "capital = pd.read_excel('position.xlsx', sheet_name='capital')\n",
    "capital"
   ]
  },
  {
   "cell_type": "code",
   "execution_count": null,
   "metadata": {},
   "outputs": [],
   "source": [
    "capital.info()"
   ]
  },
  {
   "cell_type": "code",
   "execution_count": null,
   "metadata": {
    "id": "AvslkIF82dDG"
   },
   "outputs": [],
   "source": [
    "# 투자금 현황\n",
    "list_capital = pd.read_excel('position.xlsx', sheet_name='capital')\n",
    "\n",
    "capital = define_cap(list_capital, 'CAP')\n",
    "capital['DELTA'] = capital.CAP.diff()\n",
    "\n",
    "capital.style.format(\"{:,.0f}\")\n",
    "# capital"
   ]
  },
  {
   "cell_type": "code",
   "execution_count": null,
   "metadata": {},
   "outputs": [],
   "source": [
    "capital[list(account.values())].plot(kind='bar', stacked=True, figsize=(12, 3), title= \"Total Capital - Won\")"
   ]
  },
  {
   "cell_type": "code",
   "execution_count": null,
   "metadata": {},
   "outputs": [],
   "source": [
    "# 100만원 이하 자산변화에 대한 라인 그래프 생성\n",
    "capital.DELTA[capital.DELTA < 1000000].plot(kind='line', marker='o', figsize= (12, 3), title = 'Capital Change - Won')"
   ]
  },
  {
   "cell_type": "markdown",
   "metadata": {},
   "source": [
    "## Evaluation"
   ]
  },
  {
   "cell_type": "code",
   "execution_count": null,
   "metadata": {},
   "outputs": [],
   "source": [
    "# 입력된 값으로 1) df 생성, 2) capital 내 CAP열 값과 Join, 3) front fill로 없는 행 생성, 4) 불필요 행 삭제\n",
    "eva = define_cap(list_eva, 'EVA').join(capital.CAP, how= 'outer', sort= True)\n",
    "eva.CAP = eva.CAP.fillna(method= 'ffill')\n",
    "eva.dropna(inplace= True)\n",
    "eva = eva.astype('int')\n",
    "\n",
    "eva['PROFIT'] = eva.EVA - eva.CAP\n",
    "eva['PROFIT%'] = eva.PROFIT / eva.CAP * 100\n",
    "\n",
    "eva.style.format(\"{:,.0f}\")"
   ]
  },
  {
   "cell_type": "code",
   "execution_count": null,
   "metadata": {
    "scrolled": true
   },
   "outputs": [],
   "source": [
    "print(\"Latest Position\")\n",
    "print(\"------------------------------\")\n",
    "print(\"Capital        ₩\", f'{eva.CAP[-1]:,}')\n",
    "print(\"Evaluation     ₩\", f'{eva.EVA[-1]:,}')\n",
    "print(\"Profit         ₩\", f'{eva.PROFIT[-1]:,}')\n",
    "print(\"Profit%        {:.1f} %\".format(eva['PROFIT%'][-1]))"
   ]
  },
  {
   "cell_type": "code",
   "execution_count": null,
   "metadata": {},
   "outputs": [],
   "source": [
    "print('EVALUATION BY ACCOUT')\n",
    "print(' ')\n",
    "print('Capital    Evaluation    Profit    Profit%    ACC')\n",
    "print('------------------------------------------------------')\n",
    "for acc in list(account.values()):\n",
    "    print('₩', f'{cap_change(acc)[0]:,}', ' ', f'{cap_change(acc)[1]:,}', ' ', f'{cap_change(acc)[2]:,}', ' ',f'{cap_change(acc)[3]:.1f}', '%   ', acc)"
   ]
  },
  {
   "cell_type": "code",
   "execution_count": null,
   "metadata": {},
   "outputs": [],
   "source": [
    "eva.PROFIT.plot(marker='o', figsize=(12, 3), title = 'PROFIT change - Million ₩')"
   ]
  },
  {
   "cell_type": "code",
   "execution_count": null,
   "metadata": {},
   "outputs": [],
   "source": [
    "eva['PROFIT%'].plot(marker='o', figsize=(12, 3), title = 'PROFIT% change')"
   ]
  },
  {
   "cell_type": "code",
   "execution_count": null,
   "metadata": {
    "scrolled": false
   },
   "outputs": [],
   "source": [
    "for mycap in account.values():\n",
    "    eva[mycap].plot(kind='line', marker='o', figsize=(12, 3), title= mycap)\n",
    "    plt.show()"
   ]
  },
  {
   "cell_type": "markdown",
   "metadata": {},
   "source": [
    "## Evaluation with Benchmark"
   ]
  },
  {
   "cell_type": "code",
   "execution_count": null,
   "metadata": {},
   "outputs": [],
   "source": [
    "# 주요 벤치마크 지표와 Performance 비교\n",
    "bmticker = {'S&P500': '^GSPC', 'Nasdaq': '^IXIC', 'KOSPI':'^KS11'}\n",
    "bmdf = pd.DataFrame()\n",
    "\n",
    "for tk in bmticker:\n",
    "    tk_yahoo = yf.Ticker(bmticker[tk])\n",
    "    data = tk_yahoo.history(start= eva.index[0])['Close']\n",
    "    bmdf[tk] = data\n",
    "    \n",
    "bmdf = bmdf.dropna().astype('int32')\n",
    "\n",
    "evabm = eva[['EVA', 'CAP', 'PROFIT', 'PROFIT%']].join(bmdf, how= 'inner', sort= True)\n",
    "\n",
    "evabm['BM_SP500'] = evabm['S&P500'] / evabm['S&P500'][0] * 100 - 100\n",
    "evabm['BM_Nasdaq'] = evabm['Nasdaq'] / evabm['Nasdaq'][0] * 100 - 100\n",
    "evabm['BM_KOSPI'] = evabm['KOSPI'] / evabm['KOSPI'][0] * 100 - 100\n",
    "\n",
    "evabm['MY_BM'] = evabm['PROFIT%'] - evabm['PROFIT%'][0]\n",
    "\n",
    "evabm.style.format(\"{:,.0f}\")"
   ]
  },
  {
   "cell_type": "code",
   "execution_count": null,
   "metadata": {},
   "outputs": [],
   "source": [
    "evabm[['MY_BM', 'BM_SP500', 'BM_Nasdaq', 'BM_KOSPI']].plot(marker='o', figsize=(12, 3))"
   ]
  },
  {
   "cell_type": "markdown",
   "metadata": {},
   "source": [
    "## Trading"
   ]
  },
  {
   "cell_type": "code",
   "execution_count": null,
   "metadata": {
    "colab": {
     "base_uri": "https://localhost:8080/",
     "height": 206
    },
    "id": "miEOOoJS0SYu",
    "outputId": "ab7998ed-dc71-4221-bb35-f30e31a80127"
   },
   "outputs": [],
   "source": [
    "position = pd.DataFrame(actions, columns=['DATE', 'TICKER', 'STOCKS', 'PRICE', 'ACCOUNT'])\n",
    "# position.set_index('TICKER', inplace= True)\n",
    "\n",
    "# 총 거래 가격. 현금 유출/유입으로 계산하므로 -1로 부호 반전\n",
    "position['CAP'] = -1 * position.STOCKS * position.PRICE\n",
    "# 매도 여부를 Boolean 형태로 별도 열 생성\n",
    "position['SELL'] = position.STOCKS.apply(lambda x: True if x < 0 else False)\n",
    "\n",
    "position.tail()"
   ]
  },
  {
   "cell_type": "code",
   "execution_count": null,
   "metadata": {
    "colab": {
     "base_uri": "https://localhost:8080/"
    },
    "id": "88sTbDwmSSET",
    "outputId": "556271ca-9aea-4437-902d-125f8d82a522"
   },
   "outputs": [],
   "source": [
    "# 전체 거래횟수\n",
    "print('Total Transaction:', len(position))\n",
    "print('    Buy  ', len(position) - position.SELL.sum())\n",
    "print('    Sell ', position.SELL.sum())\n",
    "print('  ')\n",
    "\n",
    "# 거래회전량 계산 - 매도기준\n",
    "\n",
    "total_buy = position.loc[position.SELL == False, 'CAP'].sum() * -1\n",
    "rotation_rate_buy = total_buy / eva.CAP[-1] * 100\n",
    "rotation_days = (pd.Timestamp(position.DATE.iloc[-1]) - capital.index[0]).days\n",
    "\n",
    "print('-----------------------')\n",
    "print(\"Total BUY    ₩\", f'{total_buy:,}')\n",
    "print(\" \")\n",
    "print(\"Buy Rotation : Target < 100% / year\")\n",
    "print(\"    {:.1f} %\".format(rotation_rate_buy), \"over\", rotation_days, \"days\")\n",
    "print(\"    {:.1f} %\".format(rotation_rate_buy / rotation_days * 365), \"/ year\")\n",
    "print('  ')\n",
    "\n",
    "total_sell = position.loc[position.SELL == True, 'CAP'].sum()\n",
    "rotation_rate_sell = total_sell / eva.CAP[-1] * 100\n",
    "\n",
    "print('-----------------------')\n",
    "print(\"Total SELL    ₩\", f'{total_sell:,}')\n",
    "print(\" \")\n",
    "print(\"Sell Rotation : Target < 30% / year\")\n",
    "print(\"    {:.1f} %\".format(rotation_rate_sell), \"over\", rotation_days, \"days\")\n",
    "print(\"    {:.1f} %\".format(rotation_rate_sell / rotation_days * 365), \"/ year\")\n",
    "\n",
    "\n",
    "# rotation_per_year = rotation_rate / rotation_days * 365"
   ]
  },
  {
   "cell_type": "code",
   "execution_count": null,
   "metadata": {
    "id": "YtxcIrGcg0fT"
   },
   "outputs": [],
   "source": [
    "# open - 보유 중인 계약, closed - 종료된 거래을 담기 위한 각각의 df 생성\n",
    "open = pd.DataFrame(columns=['TICKER', 'STOCKS', 'INVEST', 'AVG_PRICE'])\n",
    "closed = pd.DataFrame(columns=['TICKER', 'DATE', 'BUY', 'SELL', 'DELTA', 'PROFIT%', 'STOCKS', 'CAP_CHANGE'])\n",
    "\n",
    "# postion df를 loop하면서 SELL여부를 기준으로 open/closed df에 이력 추가 및 계산\n",
    "for i, row in position.iterrows():\n",
    "  # 매도일 경우, 1) closed df에 이력 추가. 2) open df에서는 주식수만 삭감하며 투자금액은 기존 평균가로 재산출\n",
    "  if row['SELL'] == True:\n",
    "    # print(i, 'SELL', row['TICKER'], row['TICKER'], row['DATE'], row['PRICE'],row['STOCKS'])\n",
    "    buy = -1 * int(open.loc[open.TICKER == row['TICKER'], 'AVG_PRICE'])\n",
    "    delta =  row['PRICE'] - buy\n",
    "    profitper = delta / buy * 100\n",
    "    capchange = -1 * delta * row['STOCKS']\n",
    "    closed.loc[len(closed)] = [row['TICKER'], row['DATE'], buy, row['PRICE'], delta, profitper, row['STOCKS'], capchange]\n",
    "    # print(closed)\n",
    "    open.loc[i] = [row['TICKER'], row['STOCKS'], row['CAP'], 0]\n",
    "    open = open.groupby(['TICKER']).sum().reset_index()\n",
    "    open = open[open.STOCKS != 0]\n",
    "    open.INVEST = open.STOCKS * open.AVG_PRICE\n",
    "\n",
    "  # 매수일 경우, 주식수/거래대금을 기재 후 종목으로 합산 후 평균가 재산출\n",
    "  else:\n",
    "    # print(i, 'BUY', row['TICKER'], row['STOCKS'], row['CAP'])\n",
    "    open.loc[i] = [row['TICKER'], row['STOCKS'], row['CAP'], np.nan]\n",
    "    open = open.groupby(['TICKER']).sum().reset_index()\n",
    "    # open = open[open.STOCKS != 0]\n",
    "    open['AVG_PRICE'] = open.INVEST / open.STOCKS\n",
    "    # print(open)\n",
    "    # print(\"***********\")\n",
    "    # print(\" \")\n",
    "\n",
    "# 용이성을 위해 종목명을 병기하고 열 순서 변경\n",
    "tcknaming(closed)\n",
    "closed = closed[['DATE', 'TICKER', 'NAME', 'BUY', 'SELL', 'DELTA', 'PROFIT%', 'STOCKS', 'CAP_CHANGE']]\n",
    "tcknaming(open)\n",
    "open = open[['TICKER', 'NAME', 'STOCKS', 'AVG_PRICE', 'INVEST']]"
   ]
  },
  {
   "cell_type": "markdown",
   "metadata": {},
   "source": [
    "## Closed Position"
   ]
  },
  {
   "cell_type": "code",
   "execution_count": null,
   "metadata": {},
   "outputs": [],
   "source": [
    "sell = position.loc[position.SELL == True].copy()\n",
    "# tcknaming(sell)\n",
    "# sell = sell[['DATE', 'TICKER', 'NAME', 'CAP', 'ACCOUNT']]\n",
    "\n",
    "sellcap = sell[['DATE', 'CAP']].groupby(['DATE']).sum()\n",
    "# sellcap.index = pd.to_datetime(sellcap.index)\n",
    "sellcap.plot(kind= 'bar', figsize= (12, 3), title= 'Closed Position by Date - Million ₩')"
   ]
  },
  {
   "cell_type": "code",
   "execution_count": null,
   "metadata": {},
   "outputs": [],
   "source": [
    "closed.style.format({\"PROFIT%\": \"{:,.1f}\", \"CAP_CHANGE\": \"{:,.0f}\"})"
   ]
  },
  {
   "cell_type": "code",
   "execution_count": null,
   "metadata": {},
   "outputs": [],
   "source": [
    "print('Total Closed Capital    ₩', f'{sell.CAP.sum():,}')\n",
    "print('Total Closed Profit     ₩' ,f'{closed.CAP_CHANGE.sum():,}')\n",
    "print('--------------------------')\n",
    "print('Total Closed Profit     {:.1f} %'.format(closed.CAP_CHANGE.sum() / sell.CAP.sum() * 100))"
   ]
  },
  {
   "cell_type": "code",
   "execution_count": null,
   "metadata": {},
   "outputs": [],
   "source": [
    "closed[['DATE', 'NAME', 'PROFIT%', 'CAP_CHANGE']].sort_values('CAP_CHANGE', ascending= False).style.format({\"PROFIT%\": \"{:,.1f}\", \"CAP_CHANGE\": \"{:,.0f}\"})"
   ]
  },
  {
   "cell_type": "code",
   "execution_count": null,
   "metadata": {},
   "outputs": [],
   "source": [
    "closed[['NAME', 'CAP_CHANGE']].set_index('NAME').sort_values('CAP_CHANGE', ascending= False).plot(kind= 'bar', figsize= (12, 4), title= 'Closed Position - ₩')"
   ]
  },
  {
   "cell_type": "code",
   "execution_count": null,
   "metadata": {},
   "outputs": [],
   "source": [
    "closed[['DATE', 'NAME', 'PROFIT%', 'CAP_CHANGE']].sort_values('PROFIT%', ascending= False).style.format({\"PROFIT%\": \"{:,.1f}\", \"CAP_CHANGE\": \"{:,.0f}\"})"
   ]
  },
  {
   "cell_type": "code",
   "execution_count": null,
   "metadata": {},
   "outputs": [],
   "source": [
    "closed[['NAME', 'PROFIT%']].set_index('NAME').sort_values('PROFIT%', ascending= False).plot(kind= 'bar', figsize= (12, 4))"
   ]
  },
  {
   "cell_type": "markdown",
   "metadata": {},
   "source": [
    "## Open Position"
   ]
  },
  {
   "cell_type": "code",
   "execution_count": null,
   "metadata": {},
   "outputs": [],
   "source": [
    "market = open.copy()\n",
    "market[['AVG_PRICE', 'INVEST']] = market[['AVG_PRICE', 'INVEST']].astype('int')\n",
    "\n",
    "marketprice = []\n",
    "\n",
    "for tk in market.TICKER.to_list():\n",
    "    tk_yahoo = yf.Ticker(tk + '.KS')\n",
    "    data = tk_yahoo.history().tail(1)['Close'].iloc[0]\n",
    "    marketprice.append(data)\n",
    "\n",
    "# CV: 현재평가액 = 현재가 x 보유수, EVA: 평가증감 = 포지션 - 현재평가액\n",
    "market['MARKET_PRICE'] = marketprice\n",
    "market['CV'] = market.MARKET_PRICE * market.STOCKS\n",
    "market['PROFIT'] = market.CV + market.INVEST\n",
    "market['PROFIT%'] = market.PROFIT / market.INVEST * -100"
   ]
  },
  {
   "cell_type": "code",
   "execution_count": null,
   "metadata": {
    "scrolled": true
   },
   "outputs": [],
   "source": [
    "print('Current Portfolio Total')\n",
    "print('-----------------------------')\n",
    "print('Values    ₩', f'{int(market.CV.sum()):,}')\n",
    "print('Profit    ₩', f'{int(market.PROFIT.sum()):,}')\n",
    "print('Profit%   {:.2f} %'.format(market.PROFIT.sum() / market.INVEST.sum() * -100))"
   ]
  },
  {
   "cell_type": "code",
   "execution_count": null,
   "metadata": {},
   "outputs": [],
   "source": [
    "colformat = {\"PROFIT%\": \"{:,.1f}\", \n",
    "             \"AVG_PRICE\": \"{:,.0f}\", \"INVEST\": \"{:,.0f}\", \"MARKET_PRICE\": \"{:,.0f}\", \n",
    "             \"CV\": \"{:,.0f}\", \"PROFIT\": \"{:,.0f}\"}\n",
    "market.style.format(colformat)\n",
    "\n",
    "# 현재 평가액이 큰 순서대로 배열\n",
    "market.sort_values(by=['CV'], ascending= False, ignore_index=False)"
   ]
  },
  {
   "cell_type": "code",
   "execution_count": null,
   "metadata": {
    "scrolled": false
   },
   "outputs": [],
   "source": [
    "market[['NAME', 'CV']].set_index('NAME').sort_values('CV', ascending= False).plot(kind= 'bar', figsize= (12, 4), title= 'Open Position by CV ₩')"
   ]
  },
  {
   "cell_type": "code",
   "execution_count": null,
   "metadata": {},
   "outputs": [],
   "source": [
    "# 투자수익이 큰 순서대로 배열\n",
    "market.sort_values(by=['PROFIT'], ascending= False, ignore_index=False)"
   ]
  },
  {
   "cell_type": "code",
   "execution_count": null,
   "metadata": {},
   "outputs": [],
   "source": [
    "market[['NAME', 'PROFIT']].set_index('NAME').sort_values('PROFIT', ascending= False).plot(kind= 'bar', figsize= (12, 4), title= 'Open Position by Profit ₩')"
   ]
  },
  {
   "cell_type": "code",
   "execution_count": null,
   "metadata": {
    "scrolled": false
   },
   "outputs": [],
   "source": [
    "market[['NAME', 'PROFIT%']].set_index('NAME').sort_values('PROFIT%', ascending= False).plot(kind= 'bar', figsize= (12, 4), title= 'Open Position by Profit%')"
   ]
  },
  {
   "cell_type": "markdown",
   "metadata": {},
   "source": [
    "## Trend - Closed"
   ]
  },
  {
   "cell_type": "code",
   "execution_count": null,
   "metadata": {},
   "outputs": [],
   "source": [
    "today = datetime.today()\n",
    "\n",
    "start = (today + timedelta(days= -180)).strftime('%Y-%m-%d')\n",
    "end = today.strftime('%Y-%m-%d')\n",
    "\n",
    "# start = datetime.now() - relativedelta(days=7)\n",
    "# end = datetime.now()"
   ]
  },
  {
   "cell_type": "code",
   "execution_count": null,
   "metadata": {
    "scrolled": false
   },
   "outputs": [],
   "source": [
    "for i, row in closed.iterrows():\n",
    "    try:\n",
    "        data = web.naver.NaverDailyReader(row.TICKER, start= start, end= end).read().astype('int')\n",
    "        print('***', row.NAME, '***')\n",
    "        fig, axlist = mpf.plot(data, type='candle', style= s, figsize= (12, 3), returnfig= True)\n",
    "\n",
    "        # Annotation\n",
    "        for pi, prow in position.loc[position.TICKER == row.TICKER].iterrows():\n",
    "            if data.index[0] < pd.to_datetime(prow.DATE):\n",
    "                x = data.reset_index().index[data.index == prow.DATE].item()\n",
    "#                 y = data.loc[data.index == prow.DATE, 'Close'].item()\n",
    "                y = prow.PRICE\n",
    "                cap = str(prow.CAP * -1)\n",
    "                stocks = str(prow.STOCKS)\n",
    "                sb = 'SELL' if prow.SELL else 'BUY'\n",
    "                axlist[0].annotate(sb + ', ' + stocks, (x, y), xytext=(x, y*0.95), arrowprops= dict(arrowstyle='->'))\n",
    "        plt.show()\n",
    "    except:\n",
    "        print('************* ERROR on', row.NAME)\n",
    "        pass"
   ]
  },
  {
   "cell_type": "markdown",
   "metadata": {},
   "source": [
    "## Trend - Open"
   ]
  },
  {
   "cell_type": "code",
   "execution_count": null,
   "metadata": {
    "scrolled": false
   },
   "outputs": [],
   "source": [
    "for i, row in open.iterrows():\n",
    "    try:\n",
    "        data = web.naver.NaverDailyReader(row.TICKER, start= start, end= end).read().astype('int')\n",
    "        print('***', row.NAME, '***')\n",
    "        fig, axlist = mpf.plot(data, type='candle', style= s, figsize= (12, 3), returnfig= True)\n",
    "\n",
    "        # Annotation\n",
    "        for pi, prow in position.loc[position.TICKER == row.TICKER].iterrows():\n",
    "            if data.index[0] < pd.to_datetime(prow.DATE):\n",
    "                x = data.reset_index().index[data.index == prow.DATE].item()\n",
    "#                 y = data.loc[data.index == prow.DATE, 'Close'].item()\n",
    "                y = prow.PRICE\n",
    "                cap = str(prow.CAP * -1)\n",
    "                stocks = str(prow.STOCKS)\n",
    "                sb = 'SELL' if prow.SELL else 'BUY'\n",
    "                axlist[0].annotate(sb + ', ' + stocks, (x, y), xytext=(x, y*0.95), arrowprops= dict(arrowstyle='->'))\n",
    "        plt.show()\n",
    "    except:\n",
    "        print('************* ERROR on', row.NAME)\n",
    "        pass"
   ]
  },
  {
   "cell_type": "markdown",
   "metadata": {},
   "source": [
    "## Trend with Benchmark"
   ]
  },
  {
   "cell_type": "code",
   "execution_count": null,
   "metadata": {},
   "outputs": [],
   "source": [
    "# KODEX200 : 069500, TIGER 미국S&P500 : 360750, TIGER 미국나스닥100 : 133690\n",
    "\n",
    "kospi = web.naver.NaverDailyReader('069500', start= start, end= end).read().astype('int')\n",
    "kospi = kospi / kospi.Close[0] * 100\n",
    "\n",
    "sp500 = web.naver.NaverDailyReader('360750', start= start, end= end).read().astype('int')\n",
    "sp500 = sp500 / sp500.Close[0] * 100"
   ]
  },
  {
   "cell_type": "code",
   "execution_count": null,
   "metadata": {
    "scrolled": false
   },
   "outputs": [],
   "source": [
    "for i, row in open.iterrows():\n",
    "    try:\n",
    "        record = web.naver.NaverDailyReader(row.TICKER, start= start, end= end).read().astype('int')\n",
    "        data = record / record.Close[0] * 100\n",
    "        \n",
    "        if ticker[row.TICKER][1] == 'KR':\n",
    "            apdict = mpf.make_addplot(kospi.Close, type='line')\n",
    "            bmindex = 'KOSPI'\n",
    "        else:\n",
    "            apdict = mpf.make_addplot(sp500.Close)\n",
    "            bmindex = 'S&P500'\n",
    "            \n",
    "        print(row.NAME, ' vs.', bmindex, '(Benchmark)')\n",
    "        fig, axlist = mpf.plot(data, type='candle', style= s, figsize= (12, 3), returnfig= True, addplot= apdict)\n",
    "\n",
    "        # Annotation\n",
    "        for pi, prow in position.loc[position.TICKER == row.TICKER].iterrows():\n",
    "            if data.index[0] < pd.to_datetime(prow.DATE):\n",
    "                x = data.reset_index().index[data.index == prow.DATE].item()\n",
    "                y = data.loc[data.index == prow.DATE, 'Close'].item()\n",
    "#                 y = prow.PRICE\n",
    "                cap = str(prow.CAP * -1)\n",
    "                stocks = str(prow.STOCKS)\n",
    "                sb = 'SELL' if prow.SELL else 'BUY'\n",
    "                axlist[0].annotate(sb + ', ' + stocks, (x, y), xytext=(x, y*0.95), arrowprops= dict(arrowstyle='->'))\n",
    "\n",
    "        plt.show()\n",
    "    except:\n",
    "        print('************* ERROR on', row.NAME)\n",
    "        pass"
   ]
  },
  {
   "cell_type": "code",
   "execution_count": null,
   "metadata": {},
   "outputs": [],
   "source": []
  }
 ],
 "metadata": {
  "colab": {
   "collapsed_sections": [],
   "name": "postion.ipynb",
   "provenance": []
  },
  "kernelspec": {
   "display_name": "Python 3",
   "language": "python",
   "name": "python3"
  },
  "language_info": {
   "codemirror_mode": {
    "name": "ipython",
    "version": 3
   },
   "file_extension": ".py",
   "mimetype": "text/x-python",
   "name": "python",
   "nbconvert_exporter": "python",
   "pygments_lexer": "ipython3",
   "version": "3.8.3"
  }
 },
 "nbformat": 4,
 "nbformat_minor": 1
}
