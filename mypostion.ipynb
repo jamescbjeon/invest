{
 "cells": [
  {
   "cell_type": "markdown",
   "metadata": {},
   "source": [
    "## Manual Input"
   ]
  },
  {
   "cell_type": "code",
   "execution_count": 1,
   "metadata": {},
   "outputs": [],
   "source": [
    "# 투자금 변화 입력\n",
    "list_capital = [\n",
    "    ['2021-12-10', 1500000, 2000000, 0, 17100000],\n",
    "    ['2022-03-21', 1500000, 2000000, 750000, 17100000],\n",
    "    ['2022-04-21', 1500000, 2000000, 1000000, 17100000] \n",
    "]\n",
    "\n",
    "# 주차별 자산평가액 입력\n",
    "list_eva = [\n",
    "    ['2021-12-10', 1500000, 2000000, 0, 17100000],\n",
    "    ['2022-04-01', 1320963, 1815919, 745075, 17169766],\n",
    "    ['2022-04-08', 1328128, 1824105, 739964, 17110423],\n",
    "    ['2022-04-20', 1306232, 1843025, 734283, 17122584],\n",
    "    ['2022-04-26', 1300044, 1825530, 974443, 16710626]\n",
    "]\n",
    "\n",
    "# 종목 정보 - 신규 종목 매수 시, 별도 지정 필요\n",
    "ticker = {\n",
    "    '005930': ['삼성전자',  'KR',  'STOCK'],\n",
    "    '000660': ['SK하이닉스',  'KR',  'STOCK'],\n",
    "    '035420': ['NAVER',  'KR',  'STOCK'],\n",
    "    '069500': ['KODEX 200',  'KR',  'ETF'],\n",
    "    '088980': ['맥쿼리인프라',  'KR',  'STOCK'],\n",
    "    '123310': ['TIGER 인버스',  'KR',  'ETF'],\n",
    "    '133690': ['TIGER 미국나스닥100',  'KR',  'ETF'],\n",
    "    '139280': ['TIGER 경기방어',  'KR',  'ETF'],\n",
    "    '157490': ['TIGER 소프트웨어',  'KR',  'ETF'],\n",
    "    '195980': ['ARIRANG 신흥국MSCI(합성 H)',  'KR',  'ETF'],\n",
    "    '219390': ['KBSTAR 미국S&P원유생산기업(합성 H)',  'KR',  'ETF'],\n",
    "    '266410': ['KODEX 필수소비재',  'KR',  'ETF'],\n",
    "    '271050': ['KODEX WTI원유선물인버스(H)',  'KR',  'ETF'],\n",
    "    '319640': ['TIGER 골드선물(H)',  'KR',  'ETF'],\n",
    "    '334690': ['KBSTAR 팔라듐선물(H)',  'KR',  'ETF'],\n",
    "    '332610': ['ARIRANG 미국단기우량회사채',  'KR',  'ETF'],\n",
    "    '360750': ['TIGER 미국S&P500',  'KR',  'ETF'],\n",
    "    '371450': ['TIGER 글로벌클라우드컴퓨팅INDXX',  'KR',  'ETF'],\n",
    "    '371460': ['TIGER 차이나전기차SOLACTIVE',  'KR',  'ETF'],\n",
    "    '373790': ['KOSEF 미국방어배당성장나스닥',  'KR',  'ETF'],\n",
    "    '394350': ['KOSEF 릭소글로벌퓨처모빌리티MSCI',  'KR',  'ETF'],\n",
    "    '409810': ['KODEX 미국나스닥100선물인버스(H)',  'KR',  'ETF'],\n",
    "    '411420': ['KODEX 미국메타버스나스닥액티브',  'KR',  'ETF'],\n",
    "    '510006': ['대신 인버스 니켈선물 ETN(H)',  'KR',  'ETF'],\n",
    "    '530020': ['삼성 미국 대형 가치주 ETN',  'KR',  'ETF'],\n",
    "    '570049': ['TRUE S&P500 양매도 4% OTM ETN(H)',  'KR',  'ETF'],\n",
    "    '590018': ['미래에셋 중국 심천 100 ETN',  'KR',  'ETF'],\n",
    "    '329200': ['TIGER 리츠부동산인프라', 'KR', 'ETF']\n",
    "}\n",
    "\n",
    "# 일자, Ticker, 주식수, 체결가격, Bank account\n",
    "# Price: 매수+, 매도-\n",
    "actions = [\n",
    "    ['2021-12-13', '005930', 1, 77100, '14'],\n",
    "    ['2021-12-13', '069500', 2, 40027, '14'],\n",
    "    ['2020-12-13', '360750', 7, 14028, '14'],\n",
    "    ['2021-12-21', '005930', 2, 78200, '14'],\n",
    "    ['2021-12-22', '000660', 1, 128500, '14'],\n",
    "    ['2021-12-22', '005930', 2, 79100, '14'],\n",
    "    ['2021-12-22', '035420', 1, 378000, '14'],\n",
    "    ['2021-12-23', '088980', 7, 14150, '14'],\n",
    "    ['2021-12-23', '133690', 3, 86165, '01'],\n",
    "    ['2021-12-24', '005930', 2, 80800, '14'],\n",
    "    ['2021-12-24', '133690', 3, 86600, '01'],\n",
    "    ['2021-12-24', '360750', 15, 14125, '01'],\n",
    "    ['2022-01-03', '411420', 20, 10150, '01'],\n",
    "    ['2022-01-04', '530020', 9, 17512, '14'],\n",
    "    ['2022-01-06', '133690', 5, 84920, '14'],\n",
    "    ['2022-01-06', '530020', 7, 17870, '14'],\n",
    "    ['2022-01-06', '590018', 15, 20085, '14'],\n",
    "    ['2022-01-06', '360750', 14, 14215, '14'],\n",
    "    ['2022-01-06', '005930', -7, 77500, '14'],\n",
    "    ['2022-01-06', '035420', -1, 346000, '14'],\n",
    "    ['2022-01-06', '069500', -2, 39435, '14'],\n",
    "    ['2022-01-06', '088980', -7, 13800, '14'],\n",
    "    ['2022-01-24', '334690', 19, 12090, '01'],\n",
    "    ['2022-01-24', '411420', -20, 8475, '01'],\n",
    "    ['2022-01-28', '510006', 53, 3820, '01'],\n",
    "    ['2022-01-28', '000660', -1, 119500, '14'],\n",
    "    ['2022-02-14', '409810', 41, 11230, '01'],\n",
    "    ['2022-02-14', '133690', -6, 76300, '01'],\n",
    "    ['2022-02-15', '271050', 17, 5835, '01'],\n",
    "    ['2022-02-24', '510006', -53, 3360, '01'],\n",
    "    ['2022-02-24', '360750', -15, 12535, '01'],\n",
    "    ['2022-02-24', '133690', -5, 70930, '14'],\n",
    "    ['2022-02-24', '360750', -21, 12552, '14'],\n",
    "    ['2022-03-04', '195980', 11, 11045, '29'],\n",
    "    ['2022-03-04', '360750', 9, 13225, '29'],\n",
    "    ['2022-03-07', '271050', 95, 4249, '14'],\n",
    "    ['2022-03-10', '334690', -19, 16735, '01'],\n",
    "    ['2022-03-14', '319640', 14, 14270, '14'],\n",
    "    ['2022-03-14', '570049', 17, 11670, '14'],\n",
    "    ['2022-03-14', '123310', 20, 4895, '01'],\n",
    "    ['2022-03-14', '219390', 180, 5545, '28'],\n",
    "    ['2022-03-14', '332610', 10, 102840, '28'],\n",
    "    ['2022-03-14', '373790', 77, 12950, '28'],\n",
    "    ['2022-03-16', '590018', -15, 16243, '14'],\n",
    "    ['2022-03-16', '195980', -11, 9865, '29'],\n",
    "    ['2022-03-23', '123310', -19, 4770, '01'],\n",
    "    ['2022-03-23', '271050', -94, 4450, '14'],\n",
    "    ['2022-03-23', '266410', 127, 7910, '28'],\n",
    "    ['2022-03-30', '409810', -40, 10390, '01'],\n",
    "    ['2022-03-30', '570049', 25, 11715, '14'],\n",
    "    ['2022-03-30', '360750', 9, 14115, '29'],\n",
    "    ['2022-03-30', '133690', 1, 82580, '29'],\n",
    "    ['2022-03-30', '139280', 99, 10130, '28'],\n",
    "    ['2022-03-30', '371450', 101, 9900, '28'],\n",
    "    ['2022-03-30', '157490', 70, 14325, '28'],\n",
    "    ['2022-03-30', '394350', 91, 10984, '28'],\n",
    "    ['2022-03-30', '371460', 68, 14720, '28'],\n",
    "    ['2022-04-21', '329200', 154, 6495, '28']\n",
    "]"
   ]
  },
  {
   "cell_type": "markdown",
   "metadata": {},
   "source": [
    "## Preparation"
   ]
  },
  {
   "cell_type": "code",
   "execution_count": 2,
   "metadata": {
    "colab": {
     "base_uri": "https://localhost:8080/"
    },
    "id": "eCR4Z9-30PnW",
    "outputId": "88f0f028-471f-4732-f6f9-aad2fac2fc16"
   },
   "outputs": [],
   "source": [
    "# Import libraries\n",
    "from datetime import datetime\n",
    "\n",
    "import pandas as pd\n",
    "import numpy as np\n",
    "\n",
    "import matplotlib.pyplot as plt\n",
    "plt.rcParams['font.family'] = 'AppleGothic' # Matplotlib 한글서체 오류처리\n",
    "plt.rc('axes', unicode_minus=False)\n",
    "\n",
    "# !pip install yfinance\n",
    "import yfinance as yf"
   ]
  },
  {
   "cell_type": "code",
   "execution_count": 3,
   "metadata": {
    "id": "qx4J9C1BZ-Du"
   },
   "outputs": [],
   "source": [
    "# capital, eva 데이터프레임 생성\n",
    "def define_cap(caplist, total):\n",
    "    df = pd.DataFrame(caplist, columns= ['DATE'] + list(account.values()))\n",
    "    df.DATE = pd.to_datetime(df.DATE)\n",
    "    df.set_index(['DATE'], inplace= True)\n",
    "    df[total] = df.sum(axis=1)\n",
    "    return df\n",
    "\n",
    "# ticker로 해당 종목 이름열인 'NAME'을 생성 - 별도 반환없이 바로 지정된 df에 생성\n",
    "def tcknaming(df):\n",
    "  df['NAME'] = df.TICKER.map(lambda x: ticker[x][0])"
   ]
  },
  {
   "cell_type": "code",
   "execution_count": 4,
   "metadata": {},
   "outputs": [],
   "source": [
    "# Bank Account\n",
    "account = {\n",
    "    '01': 'MY',\n",
    "    '14': 'ISA',\n",
    "    '29': 'IRP',\n",
    "    '28': 'DC'\n",
    "}"
   ]
  },
  {
   "cell_type": "markdown",
   "metadata": {},
   "source": [
    "## Capital and Evaluation"
   ]
  },
  {
   "cell_type": "code",
   "execution_count": 5,
   "metadata": {
    "id": "AvslkIF82dDG"
   },
   "outputs": [
    {
     "data": {
      "text/html": [
       "<style  type=\"text/css\" >\n",
       "</style><table id=\"T_3a21ba82_c630_11ec_93f9_784f438ec1c5\" ><thead>    <tr>        <th class=\"blank level0\" ></th>        <th class=\"col_heading level0 col0\" >MY</th>        <th class=\"col_heading level0 col1\" >ISA</th>        <th class=\"col_heading level0 col2\" >IRP</th>        <th class=\"col_heading level0 col3\" >DC</th>        <th class=\"col_heading level0 col4\" >CAP</th>        <th class=\"col_heading level0 col5\" >DELTA</th>    </tr>    <tr>        <th class=\"index_name level0\" >DATE</th>        <th class=\"blank\" ></th>        <th class=\"blank\" ></th>        <th class=\"blank\" ></th>        <th class=\"blank\" ></th>        <th class=\"blank\" ></th>        <th class=\"blank\" ></th>    </tr></thead><tbody>\n",
       "                <tr>\n",
       "                        <th id=\"T_3a21ba82_c630_11ec_93f9_784f438ec1c5level0_row0\" class=\"row_heading level0 row0\" >2021-12-10 00:00:00</th>\n",
       "                        <td id=\"T_3a21ba82_c630_11ec_93f9_784f438ec1c5row0_col0\" class=\"data row0 col0\" >1,500,000</td>\n",
       "                        <td id=\"T_3a21ba82_c630_11ec_93f9_784f438ec1c5row0_col1\" class=\"data row0 col1\" >2,000,000</td>\n",
       "                        <td id=\"T_3a21ba82_c630_11ec_93f9_784f438ec1c5row0_col2\" class=\"data row0 col2\" >0</td>\n",
       "                        <td id=\"T_3a21ba82_c630_11ec_93f9_784f438ec1c5row0_col3\" class=\"data row0 col3\" >17,100,000</td>\n",
       "                        <td id=\"T_3a21ba82_c630_11ec_93f9_784f438ec1c5row0_col4\" class=\"data row0 col4\" >20,600,000</td>\n",
       "                        <td id=\"T_3a21ba82_c630_11ec_93f9_784f438ec1c5row0_col5\" class=\"data row0 col5\" >nan</td>\n",
       "            </tr>\n",
       "            <tr>\n",
       "                        <th id=\"T_3a21ba82_c630_11ec_93f9_784f438ec1c5level0_row1\" class=\"row_heading level0 row1\" >2022-03-21 00:00:00</th>\n",
       "                        <td id=\"T_3a21ba82_c630_11ec_93f9_784f438ec1c5row1_col0\" class=\"data row1 col0\" >1,500,000</td>\n",
       "                        <td id=\"T_3a21ba82_c630_11ec_93f9_784f438ec1c5row1_col1\" class=\"data row1 col1\" >2,000,000</td>\n",
       "                        <td id=\"T_3a21ba82_c630_11ec_93f9_784f438ec1c5row1_col2\" class=\"data row1 col2\" >750,000</td>\n",
       "                        <td id=\"T_3a21ba82_c630_11ec_93f9_784f438ec1c5row1_col3\" class=\"data row1 col3\" >17,100,000</td>\n",
       "                        <td id=\"T_3a21ba82_c630_11ec_93f9_784f438ec1c5row1_col4\" class=\"data row1 col4\" >21,350,000</td>\n",
       "                        <td id=\"T_3a21ba82_c630_11ec_93f9_784f438ec1c5row1_col5\" class=\"data row1 col5\" >750,000</td>\n",
       "            </tr>\n",
       "            <tr>\n",
       "                        <th id=\"T_3a21ba82_c630_11ec_93f9_784f438ec1c5level0_row2\" class=\"row_heading level0 row2\" >2022-04-21 00:00:00</th>\n",
       "                        <td id=\"T_3a21ba82_c630_11ec_93f9_784f438ec1c5row2_col0\" class=\"data row2 col0\" >1,500,000</td>\n",
       "                        <td id=\"T_3a21ba82_c630_11ec_93f9_784f438ec1c5row2_col1\" class=\"data row2 col1\" >2,000,000</td>\n",
       "                        <td id=\"T_3a21ba82_c630_11ec_93f9_784f438ec1c5row2_col2\" class=\"data row2 col2\" >1,000,000</td>\n",
       "                        <td id=\"T_3a21ba82_c630_11ec_93f9_784f438ec1c5row2_col3\" class=\"data row2 col3\" >17,100,000</td>\n",
       "                        <td id=\"T_3a21ba82_c630_11ec_93f9_784f438ec1c5row2_col4\" class=\"data row2 col4\" >21,600,000</td>\n",
       "                        <td id=\"T_3a21ba82_c630_11ec_93f9_784f438ec1c5row2_col5\" class=\"data row2 col5\" >250,000</td>\n",
       "            </tr>\n",
       "    </tbody></table>"
      ],
      "text/plain": [
       "<pandas.io.formats.style.Styler at 0x7fd465efcaf0>"
      ]
     },
     "execution_count": 5,
     "metadata": {},
     "output_type": "execute_result"
    }
   ],
   "source": [
    "# 투자금 현황\n",
    "capital = define_cap(list_capital, 'CAP')\n",
    "capital['DELTA'] = capital.CAP.diff()\n",
    "\n",
    "capital.style.format(\"{:,.0f}\")"
   ]
  },
  {
   "cell_type": "code",
   "execution_count": 6,
   "metadata": {},
   "outputs": [
    {
     "data": {
      "text/plain": [
       "<matplotlib.axes._subplots.AxesSubplot at 0x7fd4684e4100>"
      ]
     },
     "execution_count": 6,
     "metadata": {},
     "output_type": "execute_result"
    },
    {
     "data": {
      "image/png": "[encoded data removed]",
      "text/plain": [
       "<Figure size 864x216 with 1 Axes>"
      ]
     },
     "metadata": {
      "needs_background": "light"
     },
     "output_type": "display_data"
    }
   ],
   "source": [
    "capital[['MY', 'ISA', 'IRP', 'DC']].plot(kind='bar', stacked=True, figsize=(12, 3))"
   ]
  },
  {
   "cell_type": "code",
   "execution_count": 7,
   "metadata": {},
   "outputs": [
    {
     "data": {
      "text/html": [
       "<style  type=\"text/css\" >\n",
       "</style><table id=\"T_3a4ce86a_c630_11ec_93f9_784f438ec1c5\" ><thead>    <tr>        <th class=\"blank level0\" ></th>        <th class=\"col_heading level0 col0\" >MY</th>        <th class=\"col_heading level0 col1\" >ISA</th>        <th class=\"col_heading level0 col2\" >IRP</th>        <th class=\"col_heading level0 col3\" >DC</th>        <th class=\"col_heading level0 col4\" >EVA</th>        <th class=\"col_heading level0 col5\" >CAP</th>        <th class=\"col_heading level0 col6\" >PROFIT</th>        <th class=\"col_heading level0 col7\" >PROFIT%</th>    </tr>    <tr>        <th class=\"index_name level0\" >DATE</th>        <th class=\"blank\" ></th>        <th class=\"blank\" ></th>        <th class=\"blank\" ></th>        <th class=\"blank\" ></th>        <th class=\"blank\" ></th>        <th class=\"blank\" ></th>        <th class=\"blank\" ></th>        <th class=\"blank\" ></th>    </tr></thead><tbody>\n",
       "                <tr>\n",
       "                        <th id=\"T_3a4ce86a_c630_11ec_93f9_784f438ec1c5level0_row0\" class=\"row_heading level0 row0\" >2021-12-10 00:00:00</th>\n",
       "                        <td id=\"T_3a4ce86a_c630_11ec_93f9_784f438ec1c5row0_col0\" class=\"data row0 col0\" >1,500,000</td>\n",
       "                        <td id=\"T_3a4ce86a_c630_11ec_93f9_784f438ec1c5row0_col1\" class=\"data row0 col1\" >2,000,000</td>\n",
       "                        <td id=\"T_3a4ce86a_c630_11ec_93f9_784f438ec1c5row0_col2\" class=\"data row0 col2\" >0</td>\n",
       "                        <td id=\"T_3a4ce86a_c630_11ec_93f9_784f438ec1c5row0_col3\" class=\"data row0 col3\" >17,100,000</td>\n",
       "                        <td id=\"T_3a4ce86a_c630_11ec_93f9_784f438ec1c5row0_col4\" class=\"data row0 col4\" >20,600,000</td>\n",
       "                        <td id=\"T_3a4ce86a_c630_11ec_93f9_784f438ec1c5row0_col5\" class=\"data row0 col5\" >20,600,000</td>\n",
       "                        <td id=\"T_3a4ce86a_c630_11ec_93f9_784f438ec1c5row0_col6\" class=\"data row0 col6\" >0</td>\n",
       "                        <td id=\"T_3a4ce86a_c630_11ec_93f9_784f438ec1c5row0_col7\" class=\"data row0 col7\" >0</td>\n",
       "            </tr>\n",
       "            <tr>\n",
       "                        <th id=\"T_3a4ce86a_c630_11ec_93f9_784f438ec1c5level0_row1\" class=\"row_heading level0 row1\" >2022-04-01 00:00:00</th>\n",
       "                        <td id=\"T_3a4ce86a_c630_11ec_93f9_784f438ec1c5row1_col0\" class=\"data row1 col0\" >1,320,963</td>\n",
       "                        <td id=\"T_3a4ce86a_c630_11ec_93f9_784f438ec1c5row1_col1\" class=\"data row1 col1\" >1,815,919</td>\n",
       "                        <td id=\"T_3a4ce86a_c630_11ec_93f9_784f438ec1c5row1_col2\" class=\"data row1 col2\" >745,075</td>\n",
       "                        <td id=\"T_3a4ce86a_c630_11ec_93f9_784f438ec1c5row1_col3\" class=\"data row1 col3\" >17,169,766</td>\n",
       "                        <td id=\"T_3a4ce86a_c630_11ec_93f9_784f438ec1c5row1_col4\" class=\"data row1 col4\" >21,051,723</td>\n",
       "                        <td id=\"T_3a4ce86a_c630_11ec_93f9_784f438ec1c5row1_col5\" class=\"data row1 col5\" >21,350,000</td>\n",
       "                        <td id=\"T_3a4ce86a_c630_11ec_93f9_784f438ec1c5row1_col6\" class=\"data row1 col6\" >-298,277</td>\n",
       "                        <td id=\"T_3a4ce86a_c630_11ec_93f9_784f438ec1c5row1_col7\" class=\"data row1 col7\" >-1</td>\n",
       "            </tr>\n",
       "            <tr>\n",
       "                        <th id=\"T_3a4ce86a_c630_11ec_93f9_784f438ec1c5level0_row2\" class=\"row_heading level0 row2\" >2022-04-08 00:00:00</th>\n",
       "                        <td id=\"T_3a4ce86a_c630_11ec_93f9_784f438ec1c5row2_col0\" class=\"data row2 col0\" >1,328,128</td>\n",
       "                        <td id=\"T_3a4ce86a_c630_11ec_93f9_784f438ec1c5row2_col1\" class=\"data row2 col1\" >1,824,105</td>\n",
       "                        <td id=\"T_3a4ce86a_c630_11ec_93f9_784f438ec1c5row2_col2\" class=\"data row2 col2\" >739,964</td>\n",
       "                        <td id=\"T_3a4ce86a_c630_11ec_93f9_784f438ec1c5row2_col3\" class=\"data row2 col3\" >17,110,423</td>\n",
       "                        <td id=\"T_3a4ce86a_c630_11ec_93f9_784f438ec1c5row2_col4\" class=\"data row2 col4\" >21,002,620</td>\n",
       "                        <td id=\"T_3a4ce86a_c630_11ec_93f9_784f438ec1c5row2_col5\" class=\"data row2 col5\" >21,350,000</td>\n",
       "                        <td id=\"T_3a4ce86a_c630_11ec_93f9_784f438ec1c5row2_col6\" class=\"data row2 col6\" >-347,380</td>\n",
       "                        <td id=\"T_3a4ce86a_c630_11ec_93f9_784f438ec1c5row2_col7\" class=\"data row2 col7\" >-2</td>\n",
       "            </tr>\n",
       "            <tr>\n",
       "                        <th id=\"T_3a4ce86a_c630_11ec_93f9_784f438ec1c5level0_row3\" class=\"row_heading level0 row3\" >2022-04-20 00:00:00</th>\n",
       "                        <td id=\"T_3a4ce86a_c630_11ec_93f9_784f438ec1c5row3_col0\" class=\"data row3 col0\" >1,306,232</td>\n",
       "                        <td id=\"T_3a4ce86a_c630_11ec_93f9_784f438ec1c5row3_col1\" class=\"data row3 col1\" >1,843,025</td>\n",
       "                        <td id=\"T_3a4ce86a_c630_11ec_93f9_784f438ec1c5row3_col2\" class=\"data row3 col2\" >734,283</td>\n",
       "                        <td id=\"T_3a4ce86a_c630_11ec_93f9_784f438ec1c5row3_col3\" class=\"data row3 col3\" >17,122,584</td>\n",
       "                        <td id=\"T_3a4ce86a_c630_11ec_93f9_784f438ec1c5row3_col4\" class=\"data row3 col4\" >21,006,124</td>\n",
       "                        <td id=\"T_3a4ce86a_c630_11ec_93f9_784f438ec1c5row3_col5\" class=\"data row3 col5\" >21,350,000</td>\n",
       "                        <td id=\"T_3a4ce86a_c630_11ec_93f9_784f438ec1c5row3_col6\" class=\"data row3 col6\" >-343,876</td>\n",
       "                        <td id=\"T_3a4ce86a_c630_11ec_93f9_784f438ec1c5row3_col7\" class=\"data row3 col7\" >-2</td>\n",
       "            </tr>\n",
       "            <tr>\n",
       "                        <th id=\"T_3a4ce86a_c630_11ec_93f9_784f438ec1c5level0_row4\" class=\"row_heading level0 row4\" >2022-04-26 00:00:00</th>\n",
       "                        <td id=\"T_3a4ce86a_c630_11ec_93f9_784f438ec1c5row4_col0\" class=\"data row4 col0\" >1,300,044</td>\n",
       "                        <td id=\"T_3a4ce86a_c630_11ec_93f9_784f438ec1c5row4_col1\" class=\"data row4 col1\" >1,825,530</td>\n",
       "                        <td id=\"T_3a4ce86a_c630_11ec_93f9_784f438ec1c5row4_col2\" class=\"data row4 col2\" >974,443</td>\n",
       "                        <td id=\"T_3a4ce86a_c630_11ec_93f9_784f438ec1c5row4_col3\" class=\"data row4 col3\" >16,710,626</td>\n",
       "                        <td id=\"T_3a4ce86a_c630_11ec_93f9_784f438ec1c5row4_col4\" class=\"data row4 col4\" >20,810,643</td>\n",
       "                        <td id=\"T_3a4ce86a_c630_11ec_93f9_784f438ec1c5row4_col5\" class=\"data row4 col5\" >21,600,000</td>\n",
       "                        <td id=\"T_3a4ce86a_c630_11ec_93f9_784f438ec1c5row4_col6\" class=\"data row4 col6\" >-789,357</td>\n",
       "                        <td id=\"T_3a4ce86a_c630_11ec_93f9_784f438ec1c5row4_col7\" class=\"data row4 col7\" >-4</td>\n",
       "            </tr>\n",
       "    </tbody></table>"
      ],
      "text/plain": [
       "<pandas.io.formats.style.Styler at 0x7fd4685131c0>"
      ]
     },
     "execution_count": 7,
     "metadata": {},
     "output_type": "execute_result"
    }
   ],
   "source": [
    "# 입력된 값으로 1) df 생성, 2) capital 내 CAP열 값과 Join, 3) front fill로 없는 행 생성, 4) 불필요 행 삭제\n",
    "eva = define_cap(list_eva, 'EVA').join(capital.CAP, how= 'outer', sort= True)\n",
    "eva.CAP = eva.CAP.fillna(method= 'ffill')\n",
    "eva.dropna(inplace= True)\n",
    "eva = eva.astype('int')\n",
    "\n",
    "eva['PROFIT'] = eva.EVA - eva.CAP\n",
    "eva['PROFIT%'] = eva.PROFIT / eva.CAP * 100\n",
    "\n",
    "eva.style.format(\"{:,.0f}\")"
   ]
  },
  {
   "cell_type": "code",
   "execution_count": 8,
   "metadata": {},
   "outputs": [
    {
     "name": "stdout",
     "output_type": "stream",
     "text": [
      "Latest Position\n",
      "------------------------------\n",
      "Capital        ₩ 21,600,000\n",
      "Evaluation     ₩ 20,810,643\n",
      "Profit         ₩ -789,357\n",
      "Profit%        -3.7 %\n"
     ]
    }
   ],
   "source": [
    "print(\"Latest Position\")\n",
    "print(\"------------------------------\")\n",
    "print(\"Capital        ₩\", f'{eva.CAP[-1]:,}')\n",
    "print(\"Evaluation     ₩\", f'{eva.EVA[-1]:,}')\n",
    "print(\"Profit         ₩\", f'{eva.PROFIT[-1]:,}')\n",
    "print(\"Profit%        {:.1f} %\".format(eva['PROFIT%'][-1]))"
   ]
  },
  {
   "cell_type": "code",
   "execution_count": 9,
   "metadata": {},
   "outputs": [
    {
     "data": {
      "text/plain": [
       "<matplotlib.axes._subplots.AxesSubplot at 0x7fd465efc7f0>"
      ]
     },
     "execution_count": 9,
     "metadata": {},
     "output_type": "execute_result"
    },
    {
     "data": {
      "image/png": "[encoded data removed]",
      "text/plain": [
       "<Figure size 864x216 with 1 Axes>"
      ]
     },
     "metadata": {
      "needs_background": "light"
     },
     "output_type": "display_data"
    }
   ],
   "source": [
    "eva.PROFIT.plot(marker='o', figsize=(12, 3))"
   ]
  },
  {
   "cell_type": "code",
   "execution_count": 10,
   "metadata": {},
   "outputs": [
    {
     "data": {
      "text/plain": [
       "<matplotlib.axes._subplots.AxesSubplot at 0x7fd468773a30>"
      ]
     },
     "execution_count": 10,
     "metadata": {},
     "output_type": "execute_result"
    },
    {
     "data": {
      "image/png": "[encoded data removed]",
      "text/plain": [
       "<Figure size 864x216 with 1 Axes>"
      ]
     },
     "metadata": {
      "needs_background": "light"
     },
     "output_type": "display_data"
    }
   ],
   "source": [
    "eva['PROFIT%'].plot(marker='o', figsize=(12, 3))"
   ]
  },
  {
   "cell_type": "code",
   "execution_count": 11,
   "metadata": {},
   "outputs": [
    {
     "data": {
      "text/html": [
       "<style  type=\"text/css\" >\n",
       "</style><table id=\"T_3b65a156_c630_11ec_93f9_784f438ec1c5\" ><thead>    <tr>        <th class=\"blank level0\" ></th>        <th class=\"col_heading level0 col0\" >EVA</th>        <th class=\"col_heading level0 col1\" >CAP</th>        <th class=\"col_heading level0 col2\" >PROFIT</th>        <th class=\"col_heading level0 col3\" >PROFIT%</th>        <th class=\"col_heading level0 col4\" >S&P500</th>        <th class=\"col_heading level0 col5\" >Nasdaq</th>        <th class=\"col_heading level0 col6\" >KOSPI</th>        <th class=\"col_heading level0 col7\" >BM_SP500</th>        <th class=\"col_heading level0 col8\" >BM_Nasdaq</th>        <th class=\"col_heading level0 col9\" >BM_KOSPI</th>        <th class=\"col_heading level0 col10\" >MY_BM</th>    </tr></thead><tbody>\n",
       "                <tr>\n",
       "                        <th id=\"T_3b65a156_c630_11ec_93f9_784f438ec1c5level0_row0\" class=\"row_heading level0 row0\" >2021-12-10 00:00:00</th>\n",
       "                        <td id=\"T_3b65a156_c630_11ec_93f9_784f438ec1c5row0_col0\" class=\"data row0 col0\" >20,600,000</td>\n",
       "                        <td id=\"T_3b65a156_c630_11ec_93f9_784f438ec1c5row0_col1\" class=\"data row0 col1\" >20,600,000</td>\n",
       "                        <td id=\"T_3b65a156_c630_11ec_93f9_784f438ec1c5row0_col2\" class=\"data row0 col2\" >0</td>\n",
       "                        <td id=\"T_3b65a156_c630_11ec_93f9_784f438ec1c5row0_col3\" class=\"data row0 col3\" >0</td>\n",
       "                        <td id=\"T_3b65a156_c630_11ec_93f9_784f438ec1c5row0_col4\" class=\"data row0 col4\" >4,712</td>\n",
       "                        <td id=\"T_3b65a156_c630_11ec_93f9_784f438ec1c5row0_col5\" class=\"data row0 col5\" >15,630</td>\n",
       "                        <td id=\"T_3b65a156_c630_11ec_93f9_784f438ec1c5row0_col6\" class=\"data row0 col6\" >3,010</td>\n",
       "                        <td id=\"T_3b65a156_c630_11ec_93f9_784f438ec1c5row0_col7\" class=\"data row0 col7\" >0</td>\n",
       "                        <td id=\"T_3b65a156_c630_11ec_93f9_784f438ec1c5row0_col8\" class=\"data row0 col8\" >0</td>\n",
       "                        <td id=\"T_3b65a156_c630_11ec_93f9_784f438ec1c5row0_col9\" class=\"data row0 col9\" >0</td>\n",
       "                        <td id=\"T_3b65a156_c630_11ec_93f9_784f438ec1c5row0_col10\" class=\"data row0 col10\" >0</td>\n",
       "            </tr>\n",
       "            <tr>\n",
       "                        <th id=\"T_3b65a156_c630_11ec_93f9_784f438ec1c5level0_row1\" class=\"row_heading level0 row1\" >2022-04-01 00:00:00</th>\n",
       "                        <td id=\"T_3b65a156_c630_11ec_93f9_784f438ec1c5row1_col0\" class=\"data row1 col0\" >21,051,723</td>\n",
       "                        <td id=\"T_3b65a156_c630_11ec_93f9_784f438ec1c5row1_col1\" class=\"data row1 col1\" >21,350,000</td>\n",
       "                        <td id=\"T_3b65a156_c630_11ec_93f9_784f438ec1c5row1_col2\" class=\"data row1 col2\" >-298,277</td>\n",
       "                        <td id=\"T_3b65a156_c630_11ec_93f9_784f438ec1c5row1_col3\" class=\"data row1 col3\" >-1</td>\n",
       "                        <td id=\"T_3b65a156_c630_11ec_93f9_784f438ec1c5row1_col4\" class=\"data row1 col4\" >4,545</td>\n",
       "                        <td id=\"T_3b65a156_c630_11ec_93f9_784f438ec1c5row1_col5\" class=\"data row1 col5\" >14,261</td>\n",
       "                        <td id=\"T_3b65a156_c630_11ec_93f9_784f438ec1c5row1_col6\" class=\"data row1 col6\" >2,739</td>\n",
       "                        <td id=\"T_3b65a156_c630_11ec_93f9_784f438ec1c5row1_col7\" class=\"data row1 col7\" >-4</td>\n",
       "                        <td id=\"T_3b65a156_c630_11ec_93f9_784f438ec1c5row1_col8\" class=\"data row1 col8\" >-9</td>\n",
       "                        <td id=\"T_3b65a156_c630_11ec_93f9_784f438ec1c5row1_col9\" class=\"data row1 col9\" >-9</td>\n",
       "                        <td id=\"T_3b65a156_c630_11ec_93f9_784f438ec1c5row1_col10\" class=\"data row1 col10\" >-1</td>\n",
       "            </tr>\n",
       "            <tr>\n",
       "                        <th id=\"T_3b65a156_c630_11ec_93f9_784f438ec1c5level0_row2\" class=\"row_heading level0 row2\" >2022-04-08 00:00:00</th>\n",
       "                        <td id=\"T_3b65a156_c630_11ec_93f9_784f438ec1c5row2_col0\" class=\"data row2 col0\" >21,002,620</td>\n",
       "                        <td id=\"T_3b65a156_c630_11ec_93f9_784f438ec1c5row2_col1\" class=\"data row2 col1\" >21,350,000</td>\n",
       "                        <td id=\"T_3b65a156_c630_11ec_93f9_784f438ec1c5row2_col2\" class=\"data row2 col2\" >-347,380</td>\n",
       "                        <td id=\"T_3b65a156_c630_11ec_93f9_784f438ec1c5row2_col3\" class=\"data row2 col3\" >-2</td>\n",
       "                        <td id=\"T_3b65a156_c630_11ec_93f9_784f438ec1c5row2_col4\" class=\"data row2 col4\" >4,488</td>\n",
       "                        <td id=\"T_3b65a156_c630_11ec_93f9_784f438ec1c5row2_col5\" class=\"data row2 col5\" >13,711</td>\n",
       "                        <td id=\"T_3b65a156_c630_11ec_93f9_784f438ec1c5row2_col6\" class=\"data row2 col6\" >2,700</td>\n",
       "                        <td id=\"T_3b65a156_c630_11ec_93f9_784f438ec1c5row2_col7\" class=\"data row2 col7\" >-5</td>\n",
       "                        <td id=\"T_3b65a156_c630_11ec_93f9_784f438ec1c5row2_col8\" class=\"data row2 col8\" >-12</td>\n",
       "                        <td id=\"T_3b65a156_c630_11ec_93f9_784f438ec1c5row2_col9\" class=\"data row2 col9\" >-10</td>\n",
       "                        <td id=\"T_3b65a156_c630_11ec_93f9_784f438ec1c5row2_col10\" class=\"data row2 col10\" >-2</td>\n",
       "            </tr>\n",
       "            <tr>\n",
       "                        <th id=\"T_3b65a156_c630_11ec_93f9_784f438ec1c5level0_row3\" class=\"row_heading level0 row3\" >2022-04-20 00:00:00</th>\n",
       "                        <td id=\"T_3b65a156_c630_11ec_93f9_784f438ec1c5row3_col0\" class=\"data row3 col0\" >21,006,124</td>\n",
       "                        <td id=\"T_3b65a156_c630_11ec_93f9_784f438ec1c5row3_col1\" class=\"data row3 col1\" >21,350,000</td>\n",
       "                        <td id=\"T_3b65a156_c630_11ec_93f9_784f438ec1c5row3_col2\" class=\"data row3 col2\" >-343,876</td>\n",
       "                        <td id=\"T_3b65a156_c630_11ec_93f9_784f438ec1c5row3_col3\" class=\"data row3 col3\" >-2</td>\n",
       "                        <td id=\"T_3b65a156_c630_11ec_93f9_784f438ec1c5row3_col4\" class=\"data row3 col4\" >4,459</td>\n",
       "                        <td id=\"T_3b65a156_c630_11ec_93f9_784f438ec1c5row3_col5\" class=\"data row3 col5\" >13,453</td>\n",
       "                        <td id=\"T_3b65a156_c630_11ec_93f9_784f438ec1c5row3_col6\" class=\"data row3 col6\" >2,718</td>\n",
       "                        <td id=\"T_3b65a156_c630_11ec_93f9_784f438ec1c5row3_col7\" class=\"data row3 col7\" >-5</td>\n",
       "                        <td id=\"T_3b65a156_c630_11ec_93f9_784f438ec1c5row3_col8\" class=\"data row3 col8\" >-14</td>\n",
       "                        <td id=\"T_3b65a156_c630_11ec_93f9_784f438ec1c5row3_col9\" class=\"data row3 col9\" >-10</td>\n",
       "                        <td id=\"T_3b65a156_c630_11ec_93f9_784f438ec1c5row3_col10\" class=\"data row3 col10\" >-2</td>\n",
       "            </tr>\n",
       "            <tr>\n",
       "                        <th id=\"T_3b65a156_c630_11ec_93f9_784f438ec1c5level0_row4\" class=\"row_heading level0 row4\" >2022-04-26 00:00:00</th>\n",
       "                        <td id=\"T_3b65a156_c630_11ec_93f9_784f438ec1c5row4_col0\" class=\"data row4 col0\" >20,810,643</td>\n",
       "                        <td id=\"T_3b65a156_c630_11ec_93f9_784f438ec1c5row4_col1\" class=\"data row4 col1\" >21,600,000</td>\n",
       "                        <td id=\"T_3b65a156_c630_11ec_93f9_784f438ec1c5row4_col2\" class=\"data row4 col2\" >-789,357</td>\n",
       "                        <td id=\"T_3b65a156_c630_11ec_93f9_784f438ec1c5row4_col3\" class=\"data row4 col3\" >-4</td>\n",
       "                        <td id=\"T_3b65a156_c630_11ec_93f9_784f438ec1c5row4_col4\" class=\"data row4 col4\" >4,175</td>\n",
       "                        <td id=\"T_3b65a156_c630_11ec_93f9_784f438ec1c5row4_col5\" class=\"data row4 col5\" >12,490</td>\n",
       "                        <td id=\"T_3b65a156_c630_11ec_93f9_784f438ec1c5row4_col6\" class=\"data row4 col6\" >2,668</td>\n",
       "                        <td id=\"T_3b65a156_c630_11ec_93f9_784f438ec1c5row4_col7\" class=\"data row4 col7\" >-11</td>\n",
       "                        <td id=\"T_3b65a156_c630_11ec_93f9_784f438ec1c5row4_col8\" class=\"data row4 col8\" >-20</td>\n",
       "                        <td id=\"T_3b65a156_c630_11ec_93f9_784f438ec1c5row4_col9\" class=\"data row4 col9\" >-11</td>\n",
       "                        <td id=\"T_3b65a156_c630_11ec_93f9_784f438ec1c5row4_col10\" class=\"data row4 col10\" >-4</td>\n",
       "            </tr>\n",
       "    </tbody></table>"
      ],
      "text/plain": [
       "<pandas.io.formats.style.Styler at 0x7fd4687580d0>"
      ]
     },
     "execution_count": 11,
     "metadata": {},
     "output_type": "execute_result"
    }
   ],
   "source": [
    "# 주요 벤치마크 지표와 Performance 비교\n",
    "\n",
    "bmticker = {'S&P500': '^GSPC', 'Nasdaq': '^IXIC', 'KOSPI':'^KS11'}\n",
    "bmdf = pd.DataFrame()\n",
    "\n",
    "for tk in bmticker:\n",
    "    tk_yahoo = yf.Ticker(bmticker[tk])\n",
    "    data = tk_yahoo.history(start= eva.index[0])['Close']\n",
    "    bmdf[tk] = data\n",
    "    \n",
    "bmdf = bmdf.dropna().astype('int32')\n",
    "\n",
    "evabm = eva[['EVA', 'CAP', 'PROFIT', 'PROFIT%']].join(bmdf, how= 'inner', sort= True)\n",
    "\n",
    "evabm['BM_SP500'] = evabm['S&P500'] / evabm['S&P500'][0] * 100 - 100\n",
    "evabm['BM_Nasdaq'] = evabm['Nasdaq'] / evabm['Nasdaq'][0] * 100 - 100\n",
    "evabm['BM_KOSPI'] = evabm['KOSPI'] / evabm['KOSPI'][0] * 100 - 100\n",
    "\n",
    "evabm['MY_BM'] = evabm['PROFIT%'] - evabm['PROFIT%'][0]\n",
    "\n",
    "evabm.style.format(\"{:,.0f}\")"
   ]
  },
  {
   "cell_type": "code",
   "execution_count": 12,
   "metadata": {},
   "outputs": [
    {
     "data": {
      "text/plain": [
       "<matplotlib.axes._subplots.AxesSubplot at 0x7fd4687cf910>"
      ]
     },
     "execution_count": 12,
     "metadata": {},
     "output_type": "execute_result"
    },
    {
     "data": {
      "image/png": "[encoded data removed]",
      "text/plain": [
       "<Figure size 864x216 with 1 Axes>"
      ]
     },
     "metadata": {
      "needs_background": "light"
     },
     "output_type": "display_data"
    }
   ],
   "source": [
    "evabm[['MY_BM', 'BM_SP500', 'BM_Nasdaq', 'BM_KOSPI']].plot(marker='o', figsize=(12, 3))"
   ]
  },
  {
   "cell_type": "markdown",
   "metadata": {},
   "source": [
    "## Position"
   ]
  },
  {
   "cell_type": "code",
   "execution_count": 13,
   "metadata": {
    "colab": {
     "base_uri": "https://localhost:8080/",
     "height": 206
    },
    "id": "miEOOoJS0SYu",
    "outputId": "ab7998ed-dc71-4221-bb35-f30e31a80127"
   },
   "outputs": [
    {
     "data": {
      "text/html": [
       "<div>\n",
       "<style scoped>\n",
       "    .dataframe tbody tr th:only-of-type {\n",
       "        vertical-align: middle;\n",
       "    }\n",
       "\n",
       "    .dataframe tbody tr th {\n",
       "        vertical-align: top;\n",
       "    }\n",
       "\n",
       "    .dataframe thead th {\n",
       "        text-align: right;\n",
       "    }\n",
       "</style>\n",
       "<table border=\"1\" class=\"dataframe\">\n",
       "  <thead>\n",
       "    <tr style=\"text-align: right;\">\n",
       "      <th></th>\n",
       "      <th>DATE</th>\n",
       "      <th>TICKER</th>\n",
       "      <th>STOCKS</th>\n",
       "      <th>PRICE</th>\n",
       "      <th>ACCOUNT</th>\n",
       "      <th>CAP</th>\n",
       "      <th>SELL</th>\n",
       "    </tr>\n",
       "  </thead>\n",
       "  <tbody>\n",
       "    <tr>\n",
       "      <th>53</th>\n",
       "      <td>2022-03-30</td>\n",
       "      <td>371450</td>\n",
       "      <td>101</td>\n",
       "      <td>9900</td>\n",
       "      <td>28</td>\n",
       "      <td>-999900</td>\n",
       "      <td>False</td>\n",
       "    </tr>\n",
       "    <tr>\n",
       "      <th>54</th>\n",
       "      <td>2022-03-30</td>\n",
       "      <td>157490</td>\n",
       "      <td>70</td>\n",
       "      <td>14325</td>\n",
       "      <td>28</td>\n",
       "      <td>-1002750</td>\n",
       "      <td>False</td>\n",
       "    </tr>\n",
       "    <tr>\n",
       "      <th>55</th>\n",
       "      <td>2022-03-30</td>\n",
       "      <td>394350</td>\n",
       "      <td>91</td>\n",
       "      <td>10984</td>\n",
       "      <td>28</td>\n",
       "      <td>-999544</td>\n",
       "      <td>False</td>\n",
       "    </tr>\n",
       "    <tr>\n",
       "      <th>56</th>\n",
       "      <td>2022-03-30</td>\n",
       "      <td>371460</td>\n",
       "      <td>68</td>\n",
       "      <td>14720</td>\n",
       "      <td>28</td>\n",
       "      <td>-1000960</td>\n",
       "      <td>False</td>\n",
       "    </tr>\n",
       "    <tr>\n",
       "      <th>57</th>\n",
       "      <td>2022-04-21</td>\n",
       "      <td>329200</td>\n",
       "      <td>154</td>\n",
       "      <td>6495</td>\n",
       "      <td>28</td>\n",
       "      <td>-1000230</td>\n",
       "      <td>False</td>\n",
       "    </tr>\n",
       "  </tbody>\n",
       "</table>\n",
       "</div>"
      ],
      "text/plain": [
       "          DATE  TICKER  STOCKS  PRICE ACCOUNT      CAP   SELL\n",
       "53  2022-03-30  371450     101   9900      28  -999900  False\n",
       "54  2022-03-30  157490      70  14325      28 -1002750  False\n",
       "55  2022-03-30  394350      91  10984      28  -999544  False\n",
       "56  2022-03-30  371460      68  14720      28 -1000960  False\n",
       "57  2022-04-21  329200     154   6495      28 -1000230  False"
      ]
     },
     "execution_count": 13,
     "metadata": {},
     "output_type": "execute_result"
    }
   ],
   "source": [
    "position = pd.DataFrame(actions, columns=['DATE', 'TICKER', 'STOCKS', 'PRICE', 'ACCOUNT'])\n",
    "# position.set_index('TICKER', inplace= True)\n",
    "\n",
    "# 총 거래 가격. 현금 유출/유입으로 계산하므로 -1로 부호 반전\n",
    "position['CAP'] = -1 * position.STOCKS * position.PRICE\n",
    "# 매도 여부를 Boolean 형태로 별도 열 생성\n",
    "position['SELL'] = position.STOCKS.apply(lambda x: True if x < 0 else False)\n",
    "\n",
    "position.tail()"
   ]
  },
  {
   "cell_type": "code",
   "execution_count": 14,
   "metadata": {
    "colab": {
     "base_uri": "https://localhost:8080/"
    },
    "id": "88sTbDwmSSET",
    "outputId": "556271ca-9aea-4437-902d-125f8d82a522"
   },
   "outputs": [
    {
     "name": "stdout",
     "output_type": "stream",
     "text": [
      "Total Transaction: 58\n",
      "    Buy   41\n",
      "    Sell  17\n",
      "-----------------------\n",
      "Total Sell Amount    ₩ 4,389,772\n",
      " \n",
      "Sell Rotation : Target < 100%/year\n",
      "    20.3 % / 132 days\n",
      "    56.2 % / year\n"
     ]
    }
   ],
   "source": [
    "# 전체 거래횟수\n",
    "print('Total Transaction:', len(position))\n",
    "print('    Buy  ', len(position) - position.SELL.sum())\n",
    "print('    Sell ', position.SELL.sum())\n",
    "print('-----------------------')\n",
    "\n",
    "# 거래회전량 계산 - 매도기준\n",
    "total_action_cap = position.loc[position.SELL == True, 'CAP'].sum()\n",
    "rotation_rate = total_action_cap / eva.CAP[-1] * 100\n",
    "rotation_days = (pd.Timestamp(position.DATE.iloc[-1]) - capital.index[0]).days\n",
    "rotation_per_year = rotation_rate / rotation_days * 365\n",
    "\n",
    "print(\"Total Sell Amount    ₩\", f'{total_action_cap:,}')\n",
    "print(\" \")\n",
    "print(\"Sell Rotation : Target < 100%/year\")\n",
    "print(\"    {:.1f} %\".format(rotation_rate), \"/\", rotation_days, \"days\")\n",
    "print(\"    {:.1f} %\".format(rotation_per_year), \"/ year\")"
   ]
  },
  {
   "cell_type": "code",
   "execution_count": 15,
   "metadata": {
    "id": "YtxcIrGcg0fT"
   },
   "outputs": [],
   "source": [
    "# open - 보유 중인 계약, closed - 종료된 거래을 담기 위한 각각의 df 생성\n",
    "open = pd.DataFrame(columns=['TICKER', 'STOCKS', 'INVEST', 'AVG_PRICE'])\n",
    "closed = pd.DataFrame(columns=['TICKER', 'DATE', 'BUY', 'SELL', 'DELTA', 'PROFIT%', 'STOCKS', 'CAP_CHANGE'])\n",
    "\n",
    "# postion df를 loop하면서 SELL여부를 기준으로 open/closed df에 이력 추가 및 계산\n",
    "for i, row in position.iterrows():\n",
    "  # 매도일 경우, 1) closed df에 이력 추가. 2) open df에서는 주식수만 삭감하며 투자금액은 기존 평균가로 재산출\n",
    "  if row['SELL'] == True:\n",
    "    # print(i, 'SELL', row['TICKER'], row['TICKER'], row['DATE'], row['PRICE'],row['STOCKS'])\n",
    "    buy = -1 * int(open.loc[open.TICKER == row['TICKER'], 'AVG_PRICE'])\n",
    "    delta =  row['PRICE'] - buy\n",
    "    profitper = delta / buy * 100\n",
    "    capchange = -1 * delta * row['STOCKS']\n",
    "    closed.loc[len(closed)] = [row['TICKER'], row['DATE'], buy, row['PRICE'], delta, profitper, row['STOCKS'], capchange]\n",
    "    # print(closed)\n",
    "    open.loc[i] = [row['TICKER'], row['STOCKS'], row['CAP'], 0]\n",
    "    open = open.groupby(['TICKER']).sum().reset_index()\n",
    "    open = open[open.STOCKS != 0]\n",
    "    open.INVEST = open.STOCKS * open.AVG_PRICE\n",
    "\n",
    "  # 매수일 경우, 주식수/거래대금을 기재 후 종목으로 합산 후 평균가 재산출\n",
    "  else:\n",
    "    # print(i, 'BUY', row['TICKER'], row['STOCKS'], row['CAP'])\n",
    "    open.loc[i] = [row['TICKER'], row['STOCKS'], row['CAP'], np.nan]\n",
    "    open = open.groupby(['TICKER']).sum().reset_index()\n",
    "    # open = open[open.STOCKS != 0]\n",
    "    open['AVG_PRICE'] = open.INVEST / open.STOCKS\n",
    "    # print(open)\n",
    "    # print(\"***********\")\n",
    "    # print(\" \")\n",
    "\n",
    "# 용이성을 위해 종목명을 병기하고 열 순서 변경\n",
    "tcknaming(closed)\n",
    "closed = closed[['DATE', 'TICKER', 'NAME', 'BUY', 'SELL', 'DELTA', 'PROFIT%', 'STOCKS', 'CAP_CHANGE']]\n",
    "tcknaming(open)\n",
    "open = open[['TICKER', 'NAME', 'STOCKS', 'AVG_PRICE', 'INVEST']]"
   ]
  },
  {
   "cell_type": "markdown",
   "metadata": {},
   "source": [
    "## Closed Position"
   ]
  },
  {
   "cell_type": "code",
   "execution_count": 16,
   "metadata": {},
   "outputs": [
    {
     "data": {
      "text/plain": [
       "<matplotlib.axes._subplots.AxesSubplot at 0x7fd46929caf0>"
      ]
     },
     "execution_count": 16,
     "metadata": {},
     "output_type": "execute_result"
    },
    {
     "data": {
      "image/png": "[encoded data removed]",
      "text/plain": [
       "<Figure size 864x216 with 1 Axes>"
      ]
     },
     "metadata": {
      "needs_background": "light"
     },
     "output_type": "display_data"
    }
   ],
   "source": [
    "sell = position.loc[position.SELL == True].copy()\n",
    "# tcknaming(sell)\n",
    "# sell = sell[['DATE', 'TICKER', 'NAME', 'CAP', 'ACCOUNT']]\n",
    "\n",
    "sellcap = sell[['DATE', 'CAP']].groupby(['DATE']).sum()\n",
    "# sellcap.index = pd.to_datetime(sellcap.index)\n",
    "sellcap.plot(kind= 'bar', figsize= (12, 3))"
   ]
  },
  {
   "cell_type": "code",
   "execution_count": 17,
   "metadata": {},
   "outputs": [
    {
     "data": {
      "text/html": [
       "<style  type=\"text/css\" >\n",
       "</style><table id=\"T_3c02c080_c630_11ec_93f9_784f438ec1c5\" ><thead>    <tr>        <th class=\"blank level0\" ></th>        <th class=\"col_heading level0 col0\" >DATE</th>        <th class=\"col_heading level0 col1\" >TICKER</th>        <th class=\"col_heading level0 col2\" >NAME</th>        <th class=\"col_heading level0 col3\" >BUY</th>        <th class=\"col_heading level0 col4\" >SELL</th>        <th class=\"col_heading level0 col5\" >DELTA</th>        <th class=\"col_heading level0 col6\" >PROFIT%</th>        <th class=\"col_heading level0 col7\" >STOCKS</th>        <th class=\"col_heading level0 col8\" >CAP_CHANGE</th>    </tr></thead><tbody>\n",
       "                <tr>\n",
       "                        <th id=\"T_3c02c080_c630_11ec_93f9_784f438ec1c5level0_row0\" class=\"row_heading level0 row0\" >0</th>\n",
       "                        <td id=\"T_3c02c080_c630_11ec_93f9_784f438ec1c5row0_col0\" class=\"data row0 col0\" >2022-01-06</td>\n",
       "                        <td id=\"T_3c02c080_c630_11ec_93f9_784f438ec1c5row0_col1\" class=\"data row0 col1\" >005930</td>\n",
       "                        <td id=\"T_3c02c080_c630_11ec_93f9_784f438ec1c5row0_col2\" class=\"data row0 col2\" >삼성전자</td>\n",
       "                        <td id=\"T_3c02c080_c630_11ec_93f9_784f438ec1c5row0_col3\" class=\"data row0 col3\" >79042</td>\n",
       "                        <td id=\"T_3c02c080_c630_11ec_93f9_784f438ec1c5row0_col4\" class=\"data row0 col4\" >77500</td>\n",
       "                        <td id=\"T_3c02c080_c630_11ec_93f9_784f438ec1c5row0_col5\" class=\"data row0 col5\" >-1542</td>\n",
       "                        <td id=\"T_3c02c080_c630_11ec_93f9_784f438ec1c5row0_col6\" class=\"data row0 col6\" >-2.0</td>\n",
       "                        <td id=\"T_3c02c080_c630_11ec_93f9_784f438ec1c5row0_col7\" class=\"data row0 col7\" >-7</td>\n",
       "                        <td id=\"T_3c02c080_c630_11ec_93f9_784f438ec1c5row0_col8\" class=\"data row0 col8\" >-10,794</td>\n",
       "            </tr>\n",
       "            <tr>\n",
       "                        <th id=\"T_3c02c080_c630_11ec_93f9_784f438ec1c5level0_row1\" class=\"row_heading level0 row1\" >1</th>\n",
       "                        <td id=\"T_3c02c080_c630_11ec_93f9_784f438ec1c5row1_col0\" class=\"data row1 col0\" >2022-01-06</td>\n",
       "                        <td id=\"T_3c02c080_c630_11ec_93f9_784f438ec1c5row1_col1\" class=\"data row1 col1\" >035420</td>\n",
       "                        <td id=\"T_3c02c080_c630_11ec_93f9_784f438ec1c5row1_col2\" class=\"data row1 col2\" >NAVER</td>\n",
       "                        <td id=\"T_3c02c080_c630_11ec_93f9_784f438ec1c5row1_col3\" class=\"data row1 col3\" >378000</td>\n",
       "                        <td id=\"T_3c02c080_c630_11ec_93f9_784f438ec1c5row1_col4\" class=\"data row1 col4\" >346000</td>\n",
       "                        <td id=\"T_3c02c080_c630_11ec_93f9_784f438ec1c5row1_col5\" class=\"data row1 col5\" >-32000</td>\n",
       "                        <td id=\"T_3c02c080_c630_11ec_93f9_784f438ec1c5row1_col6\" class=\"data row1 col6\" >-8.5</td>\n",
       "                        <td id=\"T_3c02c080_c630_11ec_93f9_784f438ec1c5row1_col7\" class=\"data row1 col7\" >-1</td>\n",
       "                        <td id=\"T_3c02c080_c630_11ec_93f9_784f438ec1c5row1_col8\" class=\"data row1 col8\" >-32,000</td>\n",
       "            </tr>\n",
       "            <tr>\n",
       "                        <th id=\"T_3c02c080_c630_11ec_93f9_784f438ec1c5level0_row2\" class=\"row_heading level0 row2\" >2</th>\n",
       "                        <td id=\"T_3c02c080_c630_11ec_93f9_784f438ec1c5row2_col0\" class=\"data row2 col0\" >2022-01-06</td>\n",
       "                        <td id=\"T_3c02c080_c630_11ec_93f9_784f438ec1c5row2_col1\" class=\"data row2 col1\" >069500</td>\n",
       "                        <td id=\"T_3c02c080_c630_11ec_93f9_784f438ec1c5row2_col2\" class=\"data row2 col2\" >KODEX 200</td>\n",
       "                        <td id=\"T_3c02c080_c630_11ec_93f9_784f438ec1c5row2_col3\" class=\"data row2 col3\" >40027</td>\n",
       "                        <td id=\"T_3c02c080_c630_11ec_93f9_784f438ec1c5row2_col4\" class=\"data row2 col4\" >39435</td>\n",
       "                        <td id=\"T_3c02c080_c630_11ec_93f9_784f438ec1c5row2_col5\" class=\"data row2 col5\" >-592</td>\n",
       "                        <td id=\"T_3c02c080_c630_11ec_93f9_784f438ec1c5row2_col6\" class=\"data row2 col6\" >-1.5</td>\n",
       "                        <td id=\"T_3c02c080_c630_11ec_93f9_784f438ec1c5row2_col7\" class=\"data row2 col7\" >-2</td>\n",
       "                        <td id=\"T_3c02c080_c630_11ec_93f9_784f438ec1c5row2_col8\" class=\"data row2 col8\" >-1,184</td>\n",
       "            </tr>\n",
       "            <tr>\n",
       "                        <th id=\"T_3c02c080_c630_11ec_93f9_784f438ec1c5level0_row3\" class=\"row_heading level0 row3\" >3</th>\n",
       "                        <td id=\"T_3c02c080_c630_11ec_93f9_784f438ec1c5row3_col0\" class=\"data row3 col0\" >2022-01-06</td>\n",
       "                        <td id=\"T_3c02c080_c630_11ec_93f9_784f438ec1c5row3_col1\" class=\"data row3 col1\" >088980</td>\n",
       "                        <td id=\"T_3c02c080_c630_11ec_93f9_784f438ec1c5row3_col2\" class=\"data row3 col2\" >맥쿼리인프라</td>\n",
       "                        <td id=\"T_3c02c080_c630_11ec_93f9_784f438ec1c5row3_col3\" class=\"data row3 col3\" >14150</td>\n",
       "                        <td id=\"T_3c02c080_c630_11ec_93f9_784f438ec1c5row3_col4\" class=\"data row3 col4\" >13800</td>\n",
       "                        <td id=\"T_3c02c080_c630_11ec_93f9_784f438ec1c5row3_col5\" class=\"data row3 col5\" >-350</td>\n",
       "                        <td id=\"T_3c02c080_c630_11ec_93f9_784f438ec1c5row3_col6\" class=\"data row3 col6\" >-2.5</td>\n",
       "                        <td id=\"T_3c02c080_c630_11ec_93f9_784f438ec1c5row3_col7\" class=\"data row3 col7\" >-7</td>\n",
       "                        <td id=\"T_3c02c080_c630_11ec_93f9_784f438ec1c5row3_col8\" class=\"data row3 col8\" >-2,450</td>\n",
       "            </tr>\n",
       "            <tr>\n",
       "                        <th id=\"T_3c02c080_c630_11ec_93f9_784f438ec1c5level0_row4\" class=\"row_heading level0 row4\" >4</th>\n",
       "                        <td id=\"T_3c02c080_c630_11ec_93f9_784f438ec1c5row4_col0\" class=\"data row4 col0\" >2022-01-24</td>\n",
       "                        <td id=\"T_3c02c080_c630_11ec_93f9_784f438ec1c5row4_col1\" class=\"data row4 col1\" >411420</td>\n",
       "                        <td id=\"T_3c02c080_c630_11ec_93f9_784f438ec1c5row4_col2\" class=\"data row4 col2\" >KODEX 미국메타버스나스닥액티브</td>\n",
       "                        <td id=\"T_3c02c080_c630_11ec_93f9_784f438ec1c5row4_col3\" class=\"data row4 col3\" >10150</td>\n",
       "                        <td id=\"T_3c02c080_c630_11ec_93f9_784f438ec1c5row4_col4\" class=\"data row4 col4\" >8475</td>\n",
       "                        <td id=\"T_3c02c080_c630_11ec_93f9_784f438ec1c5row4_col5\" class=\"data row4 col5\" >-1675</td>\n",
       "                        <td id=\"T_3c02c080_c630_11ec_93f9_784f438ec1c5row4_col6\" class=\"data row4 col6\" >-16.5</td>\n",
       "                        <td id=\"T_3c02c080_c630_11ec_93f9_784f438ec1c5row4_col7\" class=\"data row4 col7\" >-20</td>\n",
       "                        <td id=\"T_3c02c080_c630_11ec_93f9_784f438ec1c5row4_col8\" class=\"data row4 col8\" >-33,500</td>\n",
       "            </tr>\n",
       "            <tr>\n",
       "                        <th id=\"T_3c02c080_c630_11ec_93f9_784f438ec1c5level0_row5\" class=\"row_heading level0 row5\" >5</th>\n",
       "                        <td id=\"T_3c02c080_c630_11ec_93f9_784f438ec1c5row5_col0\" class=\"data row5 col0\" >2022-01-28</td>\n",
       "                        <td id=\"T_3c02c080_c630_11ec_93f9_784f438ec1c5row5_col1\" class=\"data row5 col1\" >000660</td>\n",
       "                        <td id=\"T_3c02c080_c630_11ec_93f9_784f438ec1c5row5_col2\" class=\"data row5 col2\" >SK하이닉스</td>\n",
       "                        <td id=\"T_3c02c080_c630_11ec_93f9_784f438ec1c5row5_col3\" class=\"data row5 col3\" >128500</td>\n",
       "                        <td id=\"T_3c02c080_c630_11ec_93f9_784f438ec1c5row5_col4\" class=\"data row5 col4\" >119500</td>\n",
       "                        <td id=\"T_3c02c080_c630_11ec_93f9_784f438ec1c5row5_col5\" class=\"data row5 col5\" >-9000</td>\n",
       "                        <td id=\"T_3c02c080_c630_11ec_93f9_784f438ec1c5row5_col6\" class=\"data row5 col6\" >-7.0</td>\n",
       "                        <td id=\"T_3c02c080_c630_11ec_93f9_784f438ec1c5row5_col7\" class=\"data row5 col7\" >-1</td>\n",
       "                        <td id=\"T_3c02c080_c630_11ec_93f9_784f438ec1c5row5_col8\" class=\"data row5 col8\" >-9,000</td>\n",
       "            </tr>\n",
       "            <tr>\n",
       "                        <th id=\"T_3c02c080_c630_11ec_93f9_784f438ec1c5level0_row6\" class=\"row_heading level0 row6\" >6</th>\n",
       "                        <td id=\"T_3c02c080_c630_11ec_93f9_784f438ec1c5row6_col0\" class=\"data row6 col0\" >2022-02-14</td>\n",
       "                        <td id=\"T_3c02c080_c630_11ec_93f9_784f438ec1c5row6_col1\" class=\"data row6 col1\" >133690</td>\n",
       "                        <td id=\"T_3c02c080_c630_11ec_93f9_784f438ec1c5row6_col2\" class=\"data row6 col2\" >TIGER 미국나스닥100</td>\n",
       "                        <td id=\"T_3c02c080_c630_11ec_93f9_784f438ec1c5row6_col3\" class=\"data row6 col3\" >85717</td>\n",
       "                        <td id=\"T_3c02c080_c630_11ec_93f9_784f438ec1c5row6_col4\" class=\"data row6 col4\" >76300</td>\n",
       "                        <td id=\"T_3c02c080_c630_11ec_93f9_784f438ec1c5row6_col5\" class=\"data row6 col5\" >-9417</td>\n",
       "                        <td id=\"T_3c02c080_c630_11ec_93f9_784f438ec1c5row6_col6\" class=\"data row6 col6\" >-11.0</td>\n",
       "                        <td id=\"T_3c02c080_c630_11ec_93f9_784f438ec1c5row6_col7\" class=\"data row6 col7\" >-6</td>\n",
       "                        <td id=\"T_3c02c080_c630_11ec_93f9_784f438ec1c5row6_col8\" class=\"data row6 col8\" >-56,502</td>\n",
       "            </tr>\n",
       "            <tr>\n",
       "                        <th id=\"T_3c02c080_c630_11ec_93f9_784f438ec1c5level0_row7\" class=\"row_heading level0 row7\" >7</th>\n",
       "                        <td id=\"T_3c02c080_c630_11ec_93f9_784f438ec1c5row7_col0\" class=\"data row7 col0\" >2022-02-24</td>\n",
       "                        <td id=\"T_3c02c080_c630_11ec_93f9_784f438ec1c5row7_col1\" class=\"data row7 col1\" >510006</td>\n",
       "                        <td id=\"T_3c02c080_c630_11ec_93f9_784f438ec1c5row7_col2\" class=\"data row7 col2\" >대신 인버스 니켈선물 ETN(H)</td>\n",
       "                        <td id=\"T_3c02c080_c630_11ec_93f9_784f438ec1c5row7_col3\" class=\"data row7 col3\" >3820</td>\n",
       "                        <td id=\"T_3c02c080_c630_11ec_93f9_784f438ec1c5row7_col4\" class=\"data row7 col4\" >3360</td>\n",
       "                        <td id=\"T_3c02c080_c630_11ec_93f9_784f438ec1c5row7_col5\" class=\"data row7 col5\" >-460</td>\n",
       "                        <td id=\"T_3c02c080_c630_11ec_93f9_784f438ec1c5row7_col6\" class=\"data row7 col6\" >-12.0</td>\n",
       "                        <td id=\"T_3c02c080_c630_11ec_93f9_784f438ec1c5row7_col7\" class=\"data row7 col7\" >-53</td>\n",
       "                        <td id=\"T_3c02c080_c630_11ec_93f9_784f438ec1c5row7_col8\" class=\"data row7 col8\" >-24,380</td>\n",
       "            </tr>\n",
       "            <tr>\n",
       "                        <th id=\"T_3c02c080_c630_11ec_93f9_784f438ec1c5level0_row8\" class=\"row_heading level0 row8\" >8</th>\n",
       "                        <td id=\"T_3c02c080_c630_11ec_93f9_784f438ec1c5row8_col0\" class=\"data row8 col0\" >2022-02-24</td>\n",
       "                        <td id=\"T_3c02c080_c630_11ec_93f9_784f438ec1c5row8_col1\" class=\"data row8 col1\" >360750</td>\n",
       "                        <td id=\"T_3c02c080_c630_11ec_93f9_784f438ec1c5row8_col2\" class=\"data row8 col2\" >TIGER 미국S&P500</td>\n",
       "                        <td id=\"T_3c02c080_c630_11ec_93f9_784f438ec1c5row8_col3\" class=\"data row8 col3\" >14141</td>\n",
       "                        <td id=\"T_3c02c080_c630_11ec_93f9_784f438ec1c5row8_col4\" class=\"data row8 col4\" >12535</td>\n",
       "                        <td id=\"T_3c02c080_c630_11ec_93f9_784f438ec1c5row8_col5\" class=\"data row8 col5\" >-1606</td>\n",
       "                        <td id=\"T_3c02c080_c630_11ec_93f9_784f438ec1c5row8_col6\" class=\"data row8 col6\" >-11.4</td>\n",
       "                        <td id=\"T_3c02c080_c630_11ec_93f9_784f438ec1c5row8_col7\" class=\"data row8 col7\" >-15</td>\n",
       "                        <td id=\"T_3c02c080_c630_11ec_93f9_784f438ec1c5row8_col8\" class=\"data row8 col8\" >-24,090</td>\n",
       "            </tr>\n",
       "            <tr>\n",
       "                        <th id=\"T_3c02c080_c630_11ec_93f9_784f438ec1c5level0_row9\" class=\"row_heading level0 row9\" >9</th>\n",
       "                        <td id=\"T_3c02c080_c630_11ec_93f9_784f438ec1c5row9_col0\" class=\"data row9 col0\" >2022-02-24</td>\n",
       "                        <td id=\"T_3c02c080_c630_11ec_93f9_784f438ec1c5row9_col1\" class=\"data row9 col1\" >133690</td>\n",
       "                        <td id=\"T_3c02c080_c630_11ec_93f9_784f438ec1c5row9_col2\" class=\"data row9 col2\" >TIGER 미국나스닥100</td>\n",
       "                        <td id=\"T_3c02c080_c630_11ec_93f9_784f438ec1c5row9_col3\" class=\"data row9 col3\" >85717</td>\n",
       "                        <td id=\"T_3c02c080_c630_11ec_93f9_784f438ec1c5row9_col4\" class=\"data row9 col4\" >70930</td>\n",
       "                        <td id=\"T_3c02c080_c630_11ec_93f9_784f438ec1c5row9_col5\" class=\"data row9 col5\" >-14787</td>\n",
       "                        <td id=\"T_3c02c080_c630_11ec_93f9_784f438ec1c5row9_col6\" class=\"data row9 col6\" >-17.3</td>\n",
       "                        <td id=\"T_3c02c080_c630_11ec_93f9_784f438ec1c5row9_col7\" class=\"data row9 col7\" >-5</td>\n",
       "                        <td id=\"T_3c02c080_c630_11ec_93f9_784f438ec1c5row9_col8\" class=\"data row9 col8\" >-73,935</td>\n",
       "            </tr>\n",
       "            <tr>\n",
       "                        <th id=\"T_3c02c080_c630_11ec_93f9_784f438ec1c5level0_row10\" class=\"row_heading level0 row10\" >10</th>\n",
       "                        <td id=\"T_3c02c080_c630_11ec_93f9_784f438ec1c5row10_col0\" class=\"data row10 col0\" >2022-02-24</td>\n",
       "                        <td id=\"T_3c02c080_c630_11ec_93f9_784f438ec1c5row10_col1\" class=\"data row10 col1\" >360750</td>\n",
       "                        <td id=\"T_3c02c080_c630_11ec_93f9_784f438ec1c5row10_col2\" class=\"data row10 col2\" >TIGER 미국S&P500</td>\n",
       "                        <td id=\"T_3c02c080_c630_11ec_93f9_784f438ec1c5row10_col3\" class=\"data row10 col3\" >14141</td>\n",
       "                        <td id=\"T_3c02c080_c630_11ec_93f9_784f438ec1c5row10_col4\" class=\"data row10 col4\" >12552</td>\n",
       "                        <td id=\"T_3c02c080_c630_11ec_93f9_784f438ec1c5row10_col5\" class=\"data row10 col5\" >-1589</td>\n",
       "                        <td id=\"T_3c02c080_c630_11ec_93f9_784f438ec1c5row10_col6\" class=\"data row10 col6\" >-11.2</td>\n",
       "                        <td id=\"T_3c02c080_c630_11ec_93f9_784f438ec1c5row10_col7\" class=\"data row10 col7\" >-21</td>\n",
       "                        <td id=\"T_3c02c080_c630_11ec_93f9_784f438ec1c5row10_col8\" class=\"data row10 col8\" >-33,369</td>\n",
       "            </tr>\n",
       "            <tr>\n",
       "                        <th id=\"T_3c02c080_c630_11ec_93f9_784f438ec1c5level0_row11\" class=\"row_heading level0 row11\" >11</th>\n",
       "                        <td id=\"T_3c02c080_c630_11ec_93f9_784f438ec1c5row11_col0\" class=\"data row11 col0\" >2022-03-10</td>\n",
       "                        <td id=\"T_3c02c080_c630_11ec_93f9_784f438ec1c5row11_col1\" class=\"data row11 col1\" >334690</td>\n",
       "                        <td id=\"T_3c02c080_c630_11ec_93f9_784f438ec1c5row11_col2\" class=\"data row11 col2\" >KBSTAR 팔라듐선물(H)</td>\n",
       "                        <td id=\"T_3c02c080_c630_11ec_93f9_784f438ec1c5row11_col3\" class=\"data row11 col3\" >12090</td>\n",
       "                        <td id=\"T_3c02c080_c630_11ec_93f9_784f438ec1c5row11_col4\" class=\"data row11 col4\" >16735</td>\n",
       "                        <td id=\"T_3c02c080_c630_11ec_93f9_784f438ec1c5row11_col5\" class=\"data row11 col5\" >4645</td>\n",
       "                        <td id=\"T_3c02c080_c630_11ec_93f9_784f438ec1c5row11_col6\" class=\"data row11 col6\" >38.4</td>\n",
       "                        <td id=\"T_3c02c080_c630_11ec_93f9_784f438ec1c5row11_col7\" class=\"data row11 col7\" >-19</td>\n",
       "                        <td id=\"T_3c02c080_c630_11ec_93f9_784f438ec1c5row11_col8\" class=\"data row11 col8\" >88,255</td>\n",
       "            </tr>\n",
       "            <tr>\n",
       "                        <th id=\"T_3c02c080_c630_11ec_93f9_784f438ec1c5level0_row12\" class=\"row_heading level0 row12\" >12</th>\n",
       "                        <td id=\"T_3c02c080_c630_11ec_93f9_784f438ec1c5row12_col0\" class=\"data row12 col0\" >2022-03-16</td>\n",
       "                        <td id=\"T_3c02c080_c630_11ec_93f9_784f438ec1c5row12_col1\" class=\"data row12 col1\" >590018</td>\n",
       "                        <td id=\"T_3c02c080_c630_11ec_93f9_784f438ec1c5row12_col2\" class=\"data row12 col2\" >미래에셋 중국 심천 100 ETN</td>\n",
       "                        <td id=\"T_3c02c080_c630_11ec_93f9_784f438ec1c5row12_col3\" class=\"data row12 col3\" >20085</td>\n",
       "                        <td id=\"T_3c02c080_c630_11ec_93f9_784f438ec1c5row12_col4\" class=\"data row12 col4\" >16243</td>\n",
       "                        <td id=\"T_3c02c080_c630_11ec_93f9_784f438ec1c5row12_col5\" class=\"data row12 col5\" >-3842</td>\n",
       "                        <td id=\"T_3c02c080_c630_11ec_93f9_784f438ec1c5row12_col6\" class=\"data row12 col6\" >-19.1</td>\n",
       "                        <td id=\"T_3c02c080_c630_11ec_93f9_784f438ec1c5row12_col7\" class=\"data row12 col7\" >-15</td>\n",
       "                        <td id=\"T_3c02c080_c630_11ec_93f9_784f438ec1c5row12_col8\" class=\"data row12 col8\" >-57,630</td>\n",
       "            </tr>\n",
       "            <tr>\n",
       "                        <th id=\"T_3c02c080_c630_11ec_93f9_784f438ec1c5level0_row13\" class=\"row_heading level0 row13\" >13</th>\n",
       "                        <td id=\"T_3c02c080_c630_11ec_93f9_784f438ec1c5row13_col0\" class=\"data row13 col0\" >2022-03-16</td>\n",
       "                        <td id=\"T_3c02c080_c630_11ec_93f9_784f438ec1c5row13_col1\" class=\"data row13 col1\" >195980</td>\n",
       "                        <td id=\"T_3c02c080_c630_11ec_93f9_784f438ec1c5row13_col2\" class=\"data row13 col2\" >ARIRANG 신흥국MSCI(합성 H)</td>\n",
       "                        <td id=\"T_3c02c080_c630_11ec_93f9_784f438ec1c5row13_col3\" class=\"data row13 col3\" >11045</td>\n",
       "                        <td id=\"T_3c02c080_c630_11ec_93f9_784f438ec1c5row13_col4\" class=\"data row13 col4\" >9865</td>\n",
       "                        <td id=\"T_3c02c080_c630_11ec_93f9_784f438ec1c5row13_col5\" class=\"data row13 col5\" >-1180</td>\n",
       "                        <td id=\"T_3c02c080_c630_11ec_93f9_784f438ec1c5row13_col6\" class=\"data row13 col6\" >-10.7</td>\n",
       "                        <td id=\"T_3c02c080_c630_11ec_93f9_784f438ec1c5row13_col7\" class=\"data row13 col7\" >-11</td>\n",
       "                        <td id=\"T_3c02c080_c630_11ec_93f9_784f438ec1c5row13_col8\" class=\"data row13 col8\" >-12,980</td>\n",
       "            </tr>\n",
       "            <tr>\n",
       "                        <th id=\"T_3c02c080_c630_11ec_93f9_784f438ec1c5level0_row14\" class=\"row_heading level0 row14\" >14</th>\n",
       "                        <td id=\"T_3c02c080_c630_11ec_93f9_784f438ec1c5row14_col0\" class=\"data row14 col0\" >2022-03-23</td>\n",
       "                        <td id=\"T_3c02c080_c630_11ec_93f9_784f438ec1c5row14_col1\" class=\"data row14 col1\" >123310</td>\n",
       "                        <td id=\"T_3c02c080_c630_11ec_93f9_784f438ec1c5row14_col2\" class=\"data row14 col2\" >TIGER 인버스</td>\n",
       "                        <td id=\"T_3c02c080_c630_11ec_93f9_784f438ec1c5row14_col3\" class=\"data row14 col3\" >4895</td>\n",
       "                        <td id=\"T_3c02c080_c630_11ec_93f9_784f438ec1c5row14_col4\" class=\"data row14 col4\" >4770</td>\n",
       "                        <td id=\"T_3c02c080_c630_11ec_93f9_784f438ec1c5row14_col5\" class=\"data row14 col5\" >-125</td>\n",
       "                        <td id=\"T_3c02c080_c630_11ec_93f9_784f438ec1c5row14_col6\" class=\"data row14 col6\" >-2.6</td>\n",
       "                        <td id=\"T_3c02c080_c630_11ec_93f9_784f438ec1c5row14_col7\" class=\"data row14 col7\" >-19</td>\n",
       "                        <td id=\"T_3c02c080_c630_11ec_93f9_784f438ec1c5row14_col8\" class=\"data row14 col8\" >-2,375</td>\n",
       "            </tr>\n",
       "            <tr>\n",
       "                        <th id=\"T_3c02c080_c630_11ec_93f9_784f438ec1c5level0_row15\" class=\"row_heading level0 row15\" >15</th>\n",
       "                        <td id=\"T_3c02c080_c630_11ec_93f9_784f438ec1c5row15_col0\" class=\"data row15 col0\" >2022-03-23</td>\n",
       "                        <td id=\"T_3c02c080_c630_11ec_93f9_784f438ec1c5row15_col1\" class=\"data row15 col1\" >271050</td>\n",
       "                        <td id=\"T_3c02c080_c630_11ec_93f9_784f438ec1c5row15_col2\" class=\"data row15 col2\" >KODEX WTI원유선물인버스(H)</td>\n",
       "                        <td id=\"T_3c02c080_c630_11ec_93f9_784f438ec1c5row15_col3\" class=\"data row15 col3\" >4489</td>\n",
       "                        <td id=\"T_3c02c080_c630_11ec_93f9_784f438ec1c5row15_col4\" class=\"data row15 col4\" >4450</td>\n",
       "                        <td id=\"T_3c02c080_c630_11ec_93f9_784f438ec1c5row15_col5\" class=\"data row15 col5\" >-39</td>\n",
       "                        <td id=\"T_3c02c080_c630_11ec_93f9_784f438ec1c5row15_col6\" class=\"data row15 col6\" >-0.9</td>\n",
       "                        <td id=\"T_3c02c080_c630_11ec_93f9_784f438ec1c5row15_col7\" class=\"data row15 col7\" >-94</td>\n",
       "                        <td id=\"T_3c02c080_c630_11ec_93f9_784f438ec1c5row15_col8\" class=\"data row15 col8\" >-3,666</td>\n",
       "            </tr>\n",
       "            <tr>\n",
       "                        <th id=\"T_3c02c080_c630_11ec_93f9_784f438ec1c5level0_row16\" class=\"row_heading level0 row16\" >16</th>\n",
       "                        <td id=\"T_3c02c080_c630_11ec_93f9_784f438ec1c5row16_col0\" class=\"data row16 col0\" >2022-03-30</td>\n",
       "                        <td id=\"T_3c02c080_c630_11ec_93f9_784f438ec1c5row16_col1\" class=\"data row16 col1\" >409810</td>\n",
       "                        <td id=\"T_3c02c080_c630_11ec_93f9_784f438ec1c5row16_col2\" class=\"data row16 col2\" >KODEX 미국나스닥100선물인버스(H)</td>\n",
       "                        <td id=\"T_3c02c080_c630_11ec_93f9_784f438ec1c5row16_col3\" class=\"data row16 col3\" >11230</td>\n",
       "                        <td id=\"T_3c02c080_c630_11ec_93f9_784f438ec1c5row16_col4\" class=\"data row16 col4\" >10390</td>\n",
       "                        <td id=\"T_3c02c080_c630_11ec_93f9_784f438ec1c5row16_col5\" class=\"data row16 col5\" >-840</td>\n",
       "                        <td id=\"T_3c02c080_c630_11ec_93f9_784f438ec1c5row16_col6\" class=\"data row16 col6\" >-7.5</td>\n",
       "                        <td id=\"T_3c02c080_c630_11ec_93f9_784f438ec1c5row16_col7\" class=\"data row16 col7\" >-40</td>\n",
       "                        <td id=\"T_3c02c080_c630_11ec_93f9_784f438ec1c5row16_col8\" class=\"data row16 col8\" >-33,600</td>\n",
       "            </tr>\n",
       "    </tbody></table>"
      ],
      "text/plain": [
       "<pandas.io.formats.style.Styler at 0x7fd469329a90>"
      ]
     },
     "execution_count": 17,
     "metadata": {},
     "output_type": "execute_result"
    }
   ],
   "source": [
    "closed.style.format({\"PROFIT%\": \"{:,.1f}\", \"CAP_CHANGE\": \"{:,.0f}\"})"
   ]
  },
  {
   "cell_type": "code",
   "execution_count": 18,
   "metadata": {},
   "outputs": [
    {
     "name": "stdout",
     "output_type": "stream",
     "text": [
      "Total Closed Capital    ₩ 4,389,772\n",
      "Total Closed Profit     ₩ -323,200\n",
      "--------------------------\n",
      "Total Closed Profit     -7.4 %\n"
     ]
    }
   ],
   "source": [
    "print('Total Closed Capital    ₩', f'{sell.CAP.sum():,}')\n",
    "print('Total Closed Profit     ₩' ,f'{closed.CAP_CHANGE.sum():,}')\n",
    "print('--------------------------')\n",
    "print('Total Closed Profit     {:.1f} %'.format(closed.CAP_CHANGE.sum() / sell.CAP.sum() * 100))"
   ]
  },
  {
   "cell_type": "code",
   "execution_count": 19,
   "metadata": {},
   "outputs": [
    {
     "data": {
      "text/html": [
       "<style  type=\"text/css\" >\n",
       "</style><table id=\"T_3c09248e_c630_11ec_93f9_784f438ec1c5\" ><thead>    <tr>        <th class=\"blank level0\" ></th>        <th class=\"col_heading level0 col0\" >DATE</th>        <th class=\"col_heading level0 col1\" >NAME</th>        <th class=\"col_heading level0 col2\" >PROFIT%</th>        <th class=\"col_heading level0 col3\" >CAP_CHANGE</th>    </tr></thead><tbody>\n",
       "                <tr>\n",
       "                        <th id=\"T_3c09248e_c630_11ec_93f9_784f438ec1c5level0_row0\" class=\"row_heading level0 row0\" >11</th>\n",
       "                        <td id=\"T_3c09248e_c630_11ec_93f9_784f438ec1c5row0_col0\" class=\"data row0 col0\" >2022-03-10</td>\n",
       "                        <td id=\"T_3c09248e_c630_11ec_93f9_784f438ec1c5row0_col1\" class=\"data row0 col1\" >KBSTAR 팔라듐선물(H)</td>\n",
       "                        <td id=\"T_3c09248e_c630_11ec_93f9_784f438ec1c5row0_col2\" class=\"data row0 col2\" >38.4</td>\n",
       "                        <td id=\"T_3c09248e_c630_11ec_93f9_784f438ec1c5row0_col3\" class=\"data row0 col3\" >88,255</td>\n",
       "            </tr>\n",
       "            <tr>\n",
       "                        <th id=\"T_3c09248e_c630_11ec_93f9_784f438ec1c5level0_row1\" class=\"row_heading level0 row1\" >2</th>\n",
       "                        <td id=\"T_3c09248e_c630_11ec_93f9_784f438ec1c5row1_col0\" class=\"data row1 col0\" >2022-01-06</td>\n",
       "                        <td id=\"T_3c09248e_c630_11ec_93f9_784f438ec1c5row1_col1\" class=\"data row1 col1\" >KODEX 200</td>\n",
       "                        <td id=\"T_3c09248e_c630_11ec_93f9_784f438ec1c5row1_col2\" class=\"data row1 col2\" >-1.5</td>\n",
       "                        <td id=\"T_3c09248e_c630_11ec_93f9_784f438ec1c5row1_col3\" class=\"data row1 col3\" >-1,184</td>\n",
       "            </tr>\n",
       "            <tr>\n",
       "                        <th id=\"T_3c09248e_c630_11ec_93f9_784f438ec1c5level0_row2\" class=\"row_heading level0 row2\" >14</th>\n",
       "                        <td id=\"T_3c09248e_c630_11ec_93f9_784f438ec1c5row2_col0\" class=\"data row2 col0\" >2022-03-23</td>\n",
       "                        <td id=\"T_3c09248e_c630_11ec_93f9_784f438ec1c5row2_col1\" class=\"data row2 col1\" >TIGER 인버스</td>\n",
       "                        <td id=\"T_3c09248e_c630_11ec_93f9_784f438ec1c5row2_col2\" class=\"data row2 col2\" >-2.6</td>\n",
       "                        <td id=\"T_3c09248e_c630_11ec_93f9_784f438ec1c5row2_col3\" class=\"data row2 col3\" >-2,375</td>\n",
       "            </tr>\n",
       "            <tr>\n",
       "                        <th id=\"T_3c09248e_c630_11ec_93f9_784f438ec1c5level0_row3\" class=\"row_heading level0 row3\" >3</th>\n",
       "                        <td id=\"T_3c09248e_c630_11ec_93f9_784f438ec1c5row3_col0\" class=\"data row3 col0\" >2022-01-06</td>\n",
       "                        <td id=\"T_3c09248e_c630_11ec_93f9_784f438ec1c5row3_col1\" class=\"data row3 col1\" >맥쿼리인프라</td>\n",
       "                        <td id=\"T_3c09248e_c630_11ec_93f9_784f438ec1c5row3_col2\" class=\"data row3 col2\" >-2.5</td>\n",
       "                        <td id=\"T_3c09248e_c630_11ec_93f9_784f438ec1c5row3_col3\" class=\"data row3 col3\" >-2,450</td>\n",
       "            </tr>\n",
       "            <tr>\n",
       "                        <th id=\"T_3c09248e_c630_11ec_93f9_784f438ec1c5level0_row4\" class=\"row_heading level0 row4\" >15</th>\n",
       "                        <td id=\"T_3c09248e_c630_11ec_93f9_784f438ec1c5row4_col0\" class=\"data row4 col0\" >2022-03-23</td>\n",
       "                        <td id=\"T_3c09248e_c630_11ec_93f9_784f438ec1c5row4_col1\" class=\"data row4 col1\" >KODEX WTI원유선물인버스(H)</td>\n",
       "                        <td id=\"T_3c09248e_c630_11ec_93f9_784f438ec1c5row4_col2\" class=\"data row4 col2\" >-0.9</td>\n",
       "                        <td id=\"T_3c09248e_c630_11ec_93f9_784f438ec1c5row4_col3\" class=\"data row4 col3\" >-3,666</td>\n",
       "            </tr>\n",
       "            <tr>\n",
       "                        <th id=\"T_3c09248e_c630_11ec_93f9_784f438ec1c5level0_row5\" class=\"row_heading level0 row5\" >5</th>\n",
       "                        <td id=\"T_3c09248e_c630_11ec_93f9_784f438ec1c5row5_col0\" class=\"data row5 col0\" >2022-01-28</td>\n",
       "                        <td id=\"T_3c09248e_c630_11ec_93f9_784f438ec1c5row5_col1\" class=\"data row5 col1\" >SK하이닉스</td>\n",
       "                        <td id=\"T_3c09248e_c630_11ec_93f9_784f438ec1c5row5_col2\" class=\"data row5 col2\" >-7.0</td>\n",
       "                        <td id=\"T_3c09248e_c630_11ec_93f9_784f438ec1c5row5_col3\" class=\"data row5 col3\" >-9,000</td>\n",
       "            </tr>\n",
       "            <tr>\n",
       "                        <th id=\"T_3c09248e_c630_11ec_93f9_784f438ec1c5level0_row6\" class=\"row_heading level0 row6\" >0</th>\n",
       "                        <td id=\"T_3c09248e_c630_11ec_93f9_784f438ec1c5row6_col0\" class=\"data row6 col0\" >2022-01-06</td>\n",
       "                        <td id=\"T_3c09248e_c630_11ec_93f9_784f438ec1c5row6_col1\" class=\"data row6 col1\" >삼성전자</td>\n",
       "                        <td id=\"T_3c09248e_c630_11ec_93f9_784f438ec1c5row6_col2\" class=\"data row6 col2\" >-2.0</td>\n",
       "                        <td id=\"T_3c09248e_c630_11ec_93f9_784f438ec1c5row6_col3\" class=\"data row6 col3\" >-10,794</td>\n",
       "            </tr>\n",
       "            <tr>\n",
       "                        <th id=\"T_3c09248e_c630_11ec_93f9_784f438ec1c5level0_row7\" class=\"row_heading level0 row7\" >13</th>\n",
       "                        <td id=\"T_3c09248e_c630_11ec_93f9_784f438ec1c5row7_col0\" class=\"data row7 col0\" >2022-03-16</td>\n",
       "                        <td id=\"T_3c09248e_c630_11ec_93f9_784f438ec1c5row7_col1\" class=\"data row7 col1\" >ARIRANG 신흥국MSCI(합성 H)</td>\n",
       "                        <td id=\"T_3c09248e_c630_11ec_93f9_784f438ec1c5row7_col2\" class=\"data row7 col2\" >-10.7</td>\n",
       "                        <td id=\"T_3c09248e_c630_11ec_93f9_784f438ec1c5row7_col3\" class=\"data row7 col3\" >-12,980</td>\n",
       "            </tr>\n",
       "            <tr>\n",
       "                        <th id=\"T_3c09248e_c630_11ec_93f9_784f438ec1c5level0_row8\" class=\"row_heading level0 row8\" >8</th>\n",
       "                        <td id=\"T_3c09248e_c630_11ec_93f9_784f438ec1c5row8_col0\" class=\"data row8 col0\" >2022-02-24</td>\n",
       "                        <td id=\"T_3c09248e_c630_11ec_93f9_784f438ec1c5row8_col1\" class=\"data row8 col1\" >TIGER 미국S&P500</td>\n",
       "                        <td id=\"T_3c09248e_c630_11ec_93f9_784f438ec1c5row8_col2\" class=\"data row8 col2\" >-11.4</td>\n",
       "                        <td id=\"T_3c09248e_c630_11ec_93f9_784f438ec1c5row8_col3\" class=\"data row8 col3\" >-24,090</td>\n",
       "            </tr>\n",
       "            <tr>\n",
       "                        <th id=\"T_3c09248e_c630_11ec_93f9_784f438ec1c5level0_row9\" class=\"row_heading level0 row9\" >7</th>\n",
       "                        <td id=\"T_3c09248e_c630_11ec_93f9_784f438ec1c5row9_col0\" class=\"data row9 col0\" >2022-02-24</td>\n",
       "                        <td id=\"T_3c09248e_c630_11ec_93f9_784f438ec1c5row9_col1\" class=\"data row9 col1\" >대신 인버스 니켈선물 ETN(H)</td>\n",
       "                        <td id=\"T_3c09248e_c630_11ec_93f9_784f438ec1c5row9_col2\" class=\"data row9 col2\" >-12.0</td>\n",
       "                        <td id=\"T_3c09248e_c630_11ec_93f9_784f438ec1c5row9_col3\" class=\"data row9 col3\" >-24,380</td>\n",
       "            </tr>\n",
       "            <tr>\n",
       "                        <th id=\"T_3c09248e_c630_11ec_93f9_784f438ec1c5level0_row10\" class=\"row_heading level0 row10\" >1</th>\n",
       "                        <td id=\"T_3c09248e_c630_11ec_93f9_784f438ec1c5row10_col0\" class=\"data row10 col0\" >2022-01-06</td>\n",
       "                        <td id=\"T_3c09248e_c630_11ec_93f9_784f438ec1c5row10_col1\" class=\"data row10 col1\" >NAVER</td>\n",
       "                        <td id=\"T_3c09248e_c630_11ec_93f9_784f438ec1c5row10_col2\" class=\"data row10 col2\" >-8.5</td>\n",
       "                        <td id=\"T_3c09248e_c630_11ec_93f9_784f438ec1c5row10_col3\" class=\"data row10 col3\" >-32,000</td>\n",
       "            </tr>\n",
       "            <tr>\n",
       "                        <th id=\"T_3c09248e_c630_11ec_93f9_784f438ec1c5level0_row11\" class=\"row_heading level0 row11\" >10</th>\n",
       "                        <td id=\"T_3c09248e_c630_11ec_93f9_784f438ec1c5row11_col0\" class=\"data row11 col0\" >2022-02-24</td>\n",
       "                        <td id=\"T_3c09248e_c630_11ec_93f9_784f438ec1c5row11_col1\" class=\"data row11 col1\" >TIGER 미국S&P500</td>\n",
       "                        <td id=\"T_3c09248e_c630_11ec_93f9_784f438ec1c5row11_col2\" class=\"data row11 col2\" >-11.2</td>\n",
       "                        <td id=\"T_3c09248e_c630_11ec_93f9_784f438ec1c5row11_col3\" class=\"data row11 col3\" >-33,369</td>\n",
       "            </tr>\n",
       "            <tr>\n",
       "                        <th id=\"T_3c09248e_c630_11ec_93f9_784f438ec1c5level0_row12\" class=\"row_heading level0 row12\" >4</th>\n",
       "                        <td id=\"T_3c09248e_c630_11ec_93f9_784f438ec1c5row12_col0\" class=\"data row12 col0\" >2022-01-24</td>\n",
       "                        <td id=\"T_3c09248e_c630_11ec_93f9_784f438ec1c5row12_col1\" class=\"data row12 col1\" >KODEX 미국메타버스나스닥액티브</td>\n",
       "                        <td id=\"T_3c09248e_c630_11ec_93f9_784f438ec1c5row12_col2\" class=\"data row12 col2\" >-16.5</td>\n",
       "                        <td id=\"T_3c09248e_c630_11ec_93f9_784f438ec1c5row12_col3\" class=\"data row12 col3\" >-33,500</td>\n",
       "            </tr>\n",
       "            <tr>\n",
       "                        <th id=\"T_3c09248e_c630_11ec_93f9_784f438ec1c5level0_row13\" class=\"row_heading level0 row13\" >16</th>\n",
       "                        <td id=\"T_3c09248e_c630_11ec_93f9_784f438ec1c5row13_col0\" class=\"data row13 col0\" >2022-03-30</td>\n",
       "                        <td id=\"T_3c09248e_c630_11ec_93f9_784f438ec1c5row13_col1\" class=\"data row13 col1\" >KODEX 미국나스닥100선물인버스(H)</td>\n",
       "                        <td id=\"T_3c09248e_c630_11ec_93f9_784f438ec1c5row13_col2\" class=\"data row13 col2\" >-7.5</td>\n",
       "                        <td id=\"T_3c09248e_c630_11ec_93f9_784f438ec1c5row13_col3\" class=\"data row13 col3\" >-33,600</td>\n",
       "            </tr>\n",
       "            <tr>\n",
       "                        <th id=\"T_3c09248e_c630_11ec_93f9_784f438ec1c5level0_row14\" class=\"row_heading level0 row14\" >6</th>\n",
       "                        <td id=\"T_3c09248e_c630_11ec_93f9_784f438ec1c5row14_col0\" class=\"data row14 col0\" >2022-02-14</td>\n",
       "                        <td id=\"T_3c09248e_c630_11ec_93f9_784f438ec1c5row14_col1\" class=\"data row14 col1\" >TIGER 미국나스닥100</td>\n",
       "                        <td id=\"T_3c09248e_c630_11ec_93f9_784f438ec1c5row14_col2\" class=\"data row14 col2\" >-11.0</td>\n",
       "                        <td id=\"T_3c09248e_c630_11ec_93f9_784f438ec1c5row14_col3\" class=\"data row14 col3\" >-56,502</td>\n",
       "            </tr>\n",
       "            <tr>\n",
       "                        <th id=\"T_3c09248e_c630_11ec_93f9_784f438ec1c5level0_row15\" class=\"row_heading level0 row15\" >12</th>\n",
       "                        <td id=\"T_3c09248e_c630_11ec_93f9_784f438ec1c5row15_col0\" class=\"data row15 col0\" >2022-03-16</td>\n",
       "                        <td id=\"T_3c09248e_c630_11ec_93f9_784f438ec1c5row15_col1\" class=\"data row15 col1\" >미래에셋 중국 심천 100 ETN</td>\n",
       "                        <td id=\"T_3c09248e_c630_11ec_93f9_784f438ec1c5row15_col2\" class=\"data row15 col2\" >-19.1</td>\n",
       "                        <td id=\"T_3c09248e_c630_11ec_93f9_784f438ec1c5row15_col3\" class=\"data row15 col3\" >-57,630</td>\n",
       "            </tr>\n",
       "            <tr>\n",
       "                        <th id=\"T_3c09248e_c630_11ec_93f9_784f438ec1c5level0_row16\" class=\"row_heading level0 row16\" >9</th>\n",
       "                        <td id=\"T_3c09248e_c630_11ec_93f9_784f438ec1c5row16_col0\" class=\"data row16 col0\" >2022-02-24</td>\n",
       "                        <td id=\"T_3c09248e_c630_11ec_93f9_784f438ec1c5row16_col1\" class=\"data row16 col1\" >TIGER 미국나스닥100</td>\n",
       "                        <td id=\"T_3c09248e_c630_11ec_93f9_784f438ec1c5row16_col2\" class=\"data row16 col2\" >-17.3</td>\n",
       "                        <td id=\"T_3c09248e_c630_11ec_93f9_784f438ec1c5row16_col3\" class=\"data row16 col3\" >-73,935</td>\n",
       "            </tr>\n",
       "    </tbody></table>"
      ],
      "text/plain": [
       "<pandas.io.formats.style.Styler at 0x7fd4693414f0>"
      ]
     },
     "execution_count": 19,
     "metadata": {},
     "output_type": "execute_result"
    }
   ],
   "source": [
    "closed[['DATE', 'NAME', 'PROFIT%', 'CAP_CHANGE']].sort_values('CAP_CHANGE', ascending= False).style.format({\"PROFIT%\": \"{:,.1f}\", \"CAP_CHANGE\": \"{:,.0f}\"})"
   ]
  },
  {
   "cell_type": "code",
   "execution_count": 20,
   "metadata": {},
   "outputs": [
    {
     "data": {
      "text/plain": [
       "<matplotlib.axes._subplots.AxesSubplot at 0x7fd469338dc0>"
      ]
     },
     "execution_count": 20,
     "metadata": {},
     "output_type": "execute_result"
    },
    {
     "data": {
      "image/png": "[encoded data removed]",
      "text/plain": [
       "<Figure size 864x288 with 1 Axes>"
      ]
     },
     "metadata": {
      "needs_background": "light"
     },
     "output_type": "display_data"
    }
   ],
   "source": [
    "closed[['NAME', 'CAP_CHANGE']].set_index('NAME').sort_values('CAP_CHANGE', ascending= False).plot(kind= 'bar', figsize= (12, 4))"
   ]
  },
  {
   "cell_type": "code",
   "execution_count": 21,
   "metadata": {},
   "outputs": [
    {
     "data": {
      "text/html": [
       "<style  type=\"text/css\" >\n",
       "</style><table id=\"T_3c34a636_c630_11ec_93f9_784f438ec1c5\" ><thead>    <tr>        <th class=\"blank level0\" ></th>        <th class=\"col_heading level0 col0\" >DATE</th>        <th class=\"col_heading level0 col1\" >NAME</th>        <th class=\"col_heading level0 col2\" >PROFIT%</th>        <th class=\"col_heading level0 col3\" >CAP_CHANGE</th>    </tr></thead><tbody>\n",
       "                <tr>\n",
       "                        <th id=\"T_3c34a636_c630_11ec_93f9_784f438ec1c5level0_row0\" class=\"row_heading level0 row0\" >11</th>\n",
       "                        <td id=\"T_3c34a636_c630_11ec_93f9_784f438ec1c5row0_col0\" class=\"data row0 col0\" >2022-03-10</td>\n",
       "                        <td id=\"T_3c34a636_c630_11ec_93f9_784f438ec1c5row0_col1\" class=\"data row0 col1\" >KBSTAR 팔라듐선물(H)</td>\n",
       "                        <td id=\"T_3c34a636_c630_11ec_93f9_784f438ec1c5row0_col2\" class=\"data row0 col2\" >38.4</td>\n",
       "                        <td id=\"T_3c34a636_c630_11ec_93f9_784f438ec1c5row0_col3\" class=\"data row0 col3\" >88,255</td>\n",
       "            </tr>\n",
       "            <tr>\n",
       "                        <th id=\"T_3c34a636_c630_11ec_93f9_784f438ec1c5level0_row1\" class=\"row_heading level0 row1\" >15</th>\n",
       "                        <td id=\"T_3c34a636_c630_11ec_93f9_784f438ec1c5row1_col0\" class=\"data row1 col0\" >2022-03-23</td>\n",
       "                        <td id=\"T_3c34a636_c630_11ec_93f9_784f438ec1c5row1_col1\" class=\"data row1 col1\" >KODEX WTI원유선물인버스(H)</td>\n",
       "                        <td id=\"T_3c34a636_c630_11ec_93f9_784f438ec1c5row1_col2\" class=\"data row1 col2\" >-0.9</td>\n",
       "                        <td id=\"T_3c34a636_c630_11ec_93f9_784f438ec1c5row1_col3\" class=\"data row1 col3\" >-3,666</td>\n",
       "            </tr>\n",
       "            <tr>\n",
       "                        <th id=\"T_3c34a636_c630_11ec_93f9_784f438ec1c5level0_row2\" class=\"row_heading level0 row2\" >2</th>\n",
       "                        <td id=\"T_3c34a636_c630_11ec_93f9_784f438ec1c5row2_col0\" class=\"data row2 col0\" >2022-01-06</td>\n",
       "                        <td id=\"T_3c34a636_c630_11ec_93f9_784f438ec1c5row2_col1\" class=\"data row2 col1\" >KODEX 200</td>\n",
       "                        <td id=\"T_3c34a636_c630_11ec_93f9_784f438ec1c5row2_col2\" class=\"data row2 col2\" >-1.5</td>\n",
       "                        <td id=\"T_3c34a636_c630_11ec_93f9_784f438ec1c5row2_col3\" class=\"data row2 col3\" >-1,184</td>\n",
       "            </tr>\n",
       "            <tr>\n",
       "                        <th id=\"T_3c34a636_c630_11ec_93f9_784f438ec1c5level0_row3\" class=\"row_heading level0 row3\" >0</th>\n",
       "                        <td id=\"T_3c34a636_c630_11ec_93f9_784f438ec1c5row3_col0\" class=\"data row3 col0\" >2022-01-06</td>\n",
       "                        <td id=\"T_3c34a636_c630_11ec_93f9_784f438ec1c5row3_col1\" class=\"data row3 col1\" >삼성전자</td>\n",
       "                        <td id=\"T_3c34a636_c630_11ec_93f9_784f438ec1c5row3_col2\" class=\"data row3 col2\" >-2.0</td>\n",
       "                        <td id=\"T_3c34a636_c630_11ec_93f9_784f438ec1c5row3_col3\" class=\"data row3 col3\" >-10,794</td>\n",
       "            </tr>\n",
       "            <tr>\n",
       "                        <th id=\"T_3c34a636_c630_11ec_93f9_784f438ec1c5level0_row4\" class=\"row_heading level0 row4\" >3</th>\n",
       "                        <td id=\"T_3c34a636_c630_11ec_93f9_784f438ec1c5row4_col0\" class=\"data row4 col0\" >2022-01-06</td>\n",
       "                        <td id=\"T_3c34a636_c630_11ec_93f9_784f438ec1c5row4_col1\" class=\"data row4 col1\" >맥쿼리인프라</td>\n",
       "                        <td id=\"T_3c34a636_c630_11ec_93f9_784f438ec1c5row4_col2\" class=\"data row4 col2\" >-2.5</td>\n",
       "                        <td id=\"T_3c34a636_c630_11ec_93f9_784f438ec1c5row4_col3\" class=\"data row4 col3\" >-2,450</td>\n",
       "            </tr>\n",
       "            <tr>\n",
       "                        <th id=\"T_3c34a636_c630_11ec_93f9_784f438ec1c5level0_row5\" class=\"row_heading level0 row5\" >14</th>\n",
       "                        <td id=\"T_3c34a636_c630_11ec_93f9_784f438ec1c5row5_col0\" class=\"data row5 col0\" >2022-03-23</td>\n",
       "                        <td id=\"T_3c34a636_c630_11ec_93f9_784f438ec1c5row5_col1\" class=\"data row5 col1\" >TIGER 인버스</td>\n",
       "                        <td id=\"T_3c34a636_c630_11ec_93f9_784f438ec1c5row5_col2\" class=\"data row5 col2\" >-2.6</td>\n",
       "                        <td id=\"T_3c34a636_c630_11ec_93f9_784f438ec1c5row5_col3\" class=\"data row5 col3\" >-2,375</td>\n",
       "            </tr>\n",
       "            <tr>\n",
       "                        <th id=\"T_3c34a636_c630_11ec_93f9_784f438ec1c5level0_row6\" class=\"row_heading level0 row6\" >5</th>\n",
       "                        <td id=\"T_3c34a636_c630_11ec_93f9_784f438ec1c5row6_col0\" class=\"data row6 col0\" >2022-01-28</td>\n",
       "                        <td id=\"T_3c34a636_c630_11ec_93f9_784f438ec1c5row6_col1\" class=\"data row6 col1\" >SK하이닉스</td>\n",
       "                        <td id=\"T_3c34a636_c630_11ec_93f9_784f438ec1c5row6_col2\" class=\"data row6 col2\" >-7.0</td>\n",
       "                        <td id=\"T_3c34a636_c630_11ec_93f9_784f438ec1c5row6_col3\" class=\"data row6 col3\" >-9,000</td>\n",
       "            </tr>\n",
       "            <tr>\n",
       "                        <th id=\"T_3c34a636_c630_11ec_93f9_784f438ec1c5level0_row7\" class=\"row_heading level0 row7\" >16</th>\n",
       "                        <td id=\"T_3c34a636_c630_11ec_93f9_784f438ec1c5row7_col0\" class=\"data row7 col0\" >2022-03-30</td>\n",
       "                        <td id=\"T_3c34a636_c630_11ec_93f9_784f438ec1c5row7_col1\" class=\"data row7 col1\" >KODEX 미국나스닥100선물인버스(H)</td>\n",
       "                        <td id=\"T_3c34a636_c630_11ec_93f9_784f438ec1c5row7_col2\" class=\"data row7 col2\" >-7.5</td>\n",
       "                        <td id=\"T_3c34a636_c630_11ec_93f9_784f438ec1c5row7_col3\" class=\"data row7 col3\" >-33,600</td>\n",
       "            </tr>\n",
       "            <tr>\n",
       "                        <th id=\"T_3c34a636_c630_11ec_93f9_784f438ec1c5level0_row8\" class=\"row_heading level0 row8\" >1</th>\n",
       "                        <td id=\"T_3c34a636_c630_11ec_93f9_784f438ec1c5row8_col0\" class=\"data row8 col0\" >2022-01-06</td>\n",
       "                        <td id=\"T_3c34a636_c630_11ec_93f9_784f438ec1c5row8_col1\" class=\"data row8 col1\" >NAVER</td>\n",
       "                        <td id=\"T_3c34a636_c630_11ec_93f9_784f438ec1c5row8_col2\" class=\"data row8 col2\" >-8.5</td>\n",
       "                        <td id=\"T_3c34a636_c630_11ec_93f9_784f438ec1c5row8_col3\" class=\"data row8 col3\" >-32,000</td>\n",
       "            </tr>\n",
       "            <tr>\n",
       "                        <th id=\"T_3c34a636_c630_11ec_93f9_784f438ec1c5level0_row9\" class=\"row_heading level0 row9\" >13</th>\n",
       "                        <td id=\"T_3c34a636_c630_11ec_93f9_784f438ec1c5row9_col0\" class=\"data row9 col0\" >2022-03-16</td>\n",
       "                        <td id=\"T_3c34a636_c630_11ec_93f9_784f438ec1c5row9_col1\" class=\"data row9 col1\" >ARIRANG 신흥국MSCI(합성 H)</td>\n",
       "                        <td id=\"T_3c34a636_c630_11ec_93f9_784f438ec1c5row9_col2\" class=\"data row9 col2\" >-10.7</td>\n",
       "                        <td id=\"T_3c34a636_c630_11ec_93f9_784f438ec1c5row9_col3\" class=\"data row9 col3\" >-12,980</td>\n",
       "            </tr>\n",
       "            <tr>\n",
       "                        <th id=\"T_3c34a636_c630_11ec_93f9_784f438ec1c5level0_row10\" class=\"row_heading level0 row10\" >6</th>\n",
       "                        <td id=\"T_3c34a636_c630_11ec_93f9_784f438ec1c5row10_col0\" class=\"data row10 col0\" >2022-02-14</td>\n",
       "                        <td id=\"T_3c34a636_c630_11ec_93f9_784f438ec1c5row10_col1\" class=\"data row10 col1\" >TIGER 미국나스닥100</td>\n",
       "                        <td id=\"T_3c34a636_c630_11ec_93f9_784f438ec1c5row10_col2\" class=\"data row10 col2\" >-11.0</td>\n",
       "                        <td id=\"T_3c34a636_c630_11ec_93f9_784f438ec1c5row10_col3\" class=\"data row10 col3\" >-56,502</td>\n",
       "            </tr>\n",
       "            <tr>\n",
       "                        <th id=\"T_3c34a636_c630_11ec_93f9_784f438ec1c5level0_row11\" class=\"row_heading level0 row11\" >10</th>\n",
       "                        <td id=\"T_3c34a636_c630_11ec_93f9_784f438ec1c5row11_col0\" class=\"data row11 col0\" >2022-02-24</td>\n",
       "                        <td id=\"T_3c34a636_c630_11ec_93f9_784f438ec1c5row11_col1\" class=\"data row11 col1\" >TIGER 미국S&P500</td>\n",
       "                        <td id=\"T_3c34a636_c630_11ec_93f9_784f438ec1c5row11_col2\" class=\"data row11 col2\" >-11.2</td>\n",
       "                        <td id=\"T_3c34a636_c630_11ec_93f9_784f438ec1c5row11_col3\" class=\"data row11 col3\" >-33,369</td>\n",
       "            </tr>\n",
       "            <tr>\n",
       "                        <th id=\"T_3c34a636_c630_11ec_93f9_784f438ec1c5level0_row12\" class=\"row_heading level0 row12\" >8</th>\n",
       "                        <td id=\"T_3c34a636_c630_11ec_93f9_784f438ec1c5row12_col0\" class=\"data row12 col0\" >2022-02-24</td>\n",
       "                        <td id=\"T_3c34a636_c630_11ec_93f9_784f438ec1c5row12_col1\" class=\"data row12 col1\" >TIGER 미국S&P500</td>\n",
       "                        <td id=\"T_3c34a636_c630_11ec_93f9_784f438ec1c5row12_col2\" class=\"data row12 col2\" >-11.4</td>\n",
       "                        <td id=\"T_3c34a636_c630_11ec_93f9_784f438ec1c5row12_col3\" class=\"data row12 col3\" >-24,090</td>\n",
       "            </tr>\n",
       "            <tr>\n",
       "                        <th id=\"T_3c34a636_c630_11ec_93f9_784f438ec1c5level0_row13\" class=\"row_heading level0 row13\" >7</th>\n",
       "                        <td id=\"T_3c34a636_c630_11ec_93f9_784f438ec1c5row13_col0\" class=\"data row13 col0\" >2022-02-24</td>\n",
       "                        <td id=\"T_3c34a636_c630_11ec_93f9_784f438ec1c5row13_col1\" class=\"data row13 col1\" >대신 인버스 니켈선물 ETN(H)</td>\n",
       "                        <td id=\"T_3c34a636_c630_11ec_93f9_784f438ec1c5row13_col2\" class=\"data row13 col2\" >-12.0</td>\n",
       "                        <td id=\"T_3c34a636_c630_11ec_93f9_784f438ec1c5row13_col3\" class=\"data row13 col3\" >-24,380</td>\n",
       "            </tr>\n",
       "            <tr>\n",
       "                        <th id=\"T_3c34a636_c630_11ec_93f9_784f438ec1c5level0_row14\" class=\"row_heading level0 row14\" >4</th>\n",
       "                        <td id=\"T_3c34a636_c630_11ec_93f9_784f438ec1c5row14_col0\" class=\"data row14 col0\" >2022-01-24</td>\n",
       "                        <td id=\"T_3c34a636_c630_11ec_93f9_784f438ec1c5row14_col1\" class=\"data row14 col1\" >KODEX 미국메타버스나스닥액티브</td>\n",
       "                        <td id=\"T_3c34a636_c630_11ec_93f9_784f438ec1c5row14_col2\" class=\"data row14 col2\" >-16.5</td>\n",
       "                        <td id=\"T_3c34a636_c630_11ec_93f9_784f438ec1c5row14_col3\" class=\"data row14 col3\" >-33,500</td>\n",
       "            </tr>\n",
       "            <tr>\n",
       "                        <th id=\"T_3c34a636_c630_11ec_93f9_784f438ec1c5level0_row15\" class=\"row_heading level0 row15\" >9</th>\n",
       "                        <td id=\"T_3c34a636_c630_11ec_93f9_784f438ec1c5row15_col0\" class=\"data row15 col0\" >2022-02-24</td>\n",
       "                        <td id=\"T_3c34a636_c630_11ec_93f9_784f438ec1c5row15_col1\" class=\"data row15 col1\" >TIGER 미국나스닥100</td>\n",
       "                        <td id=\"T_3c34a636_c630_11ec_93f9_784f438ec1c5row15_col2\" class=\"data row15 col2\" >-17.3</td>\n",
       "                        <td id=\"T_3c34a636_c630_11ec_93f9_784f438ec1c5row15_col3\" class=\"data row15 col3\" >-73,935</td>\n",
       "            </tr>\n",
       "            <tr>\n",
       "                        <th id=\"T_3c34a636_c630_11ec_93f9_784f438ec1c5level0_row16\" class=\"row_heading level0 row16\" >12</th>\n",
       "                        <td id=\"T_3c34a636_c630_11ec_93f9_784f438ec1c5row16_col0\" class=\"data row16 col0\" >2022-03-16</td>\n",
       "                        <td id=\"T_3c34a636_c630_11ec_93f9_784f438ec1c5row16_col1\" class=\"data row16 col1\" >미래에셋 중국 심천 100 ETN</td>\n",
       "                        <td id=\"T_3c34a636_c630_11ec_93f9_784f438ec1c5row16_col2\" class=\"data row16 col2\" >-19.1</td>\n",
       "                        <td id=\"T_3c34a636_c630_11ec_93f9_784f438ec1c5row16_col3\" class=\"data row16 col3\" >-57,630</td>\n",
       "            </tr>\n",
       "    </tbody></table>"
      ],
      "text/plain": [
       "<pandas.io.formats.style.Styler at 0x7fd4694a6d90>"
      ]
     },
     "execution_count": 21,
     "metadata": {},
     "output_type": "execute_result"
    }
   ],
   "source": [
    "closed[['DATE', 'NAME', 'PROFIT%', 'CAP_CHANGE']].sort_values('PROFIT%', ascending= False).style.format({\"PROFIT%\": \"{:,.1f}\", \"CAP_CHANGE\": \"{:,.0f}\"})"
   ]
  },
  {
   "cell_type": "code",
   "execution_count": 22,
   "metadata": {},
   "outputs": [
    {
     "data": {
      "text/plain": [
       "<matplotlib.axes._subplots.AxesSubplot at 0x7fd4694be400>"
      ]
     },
     "execution_count": 22,
     "metadata": {},
     "output_type": "execute_result"
    },
    {
     "data": {
      "image/png": "[encoded data removed]",
      "text/plain": [
       "<Figure size 864x288 with 1 Axes>"
      ]
     },
     "metadata": {
      "needs_background": "light"
     },
     "output_type": "display_data"
    }
   ],
   "source": [
    "closed[['NAME', 'PROFIT%']].set_index('NAME').sort_values('PROFIT%', ascending= False).plot(kind= 'bar', figsize= (12, 4))"
   ]
  },
  {
   "cell_type": "markdown",
   "metadata": {},
   "source": [
    "## Open Position"
   ]
  },
  {
   "cell_type": "code",
   "execution_count": 23,
   "metadata": {
    "colab": {
     "base_uri": "https://localhost:8080/",
     "height": 582
    },
    "id": "4qkWi-eQfrLu",
    "outputId": "d01d4c34-ae36-47fa-e791-c5c0092f3751"
   },
   "outputs": [
    {
     "data": {
      "text/html": [
       "<div>\n",
       "<style scoped>\n",
       "    .dataframe tbody tr th:only-of-type {\n",
       "        vertical-align: middle;\n",
       "    }\n",
       "\n",
       "    .dataframe tbody tr th {\n",
       "        vertical-align: top;\n",
       "    }\n",
       "\n",
       "    .dataframe thead th {\n",
       "        text-align: right;\n",
       "    }\n",
       "</style>\n",
       "<table border=\"1\" class=\"dataframe\">\n",
       "  <thead>\n",
       "    <tr style=\"text-align: right;\">\n",
       "      <th></th>\n",
       "      <th>TICKER</th>\n",
       "      <th>NAME</th>\n",
       "      <th>STOCKS</th>\n",
       "      <th>AVG_PRICE</th>\n",
       "      <th>INVEST</th>\n",
       "    </tr>\n",
       "  </thead>\n",
       "  <tbody>\n",
       "    <tr>\n",
       "      <th>0</th>\n",
       "      <td>123310</td>\n",
       "      <td>TIGER 인버스</td>\n",
       "      <td>1</td>\n",
       "      <td>-4895</td>\n",
       "      <td>-4895</td>\n",
       "    </tr>\n",
       "    <tr>\n",
       "      <th>1</th>\n",
       "      <td>133690</td>\n",
       "      <td>TIGER 미국나스닥100</td>\n",
       "      <td>1</td>\n",
       "      <td>-82580</td>\n",
       "      <td>-82580</td>\n",
       "    </tr>\n",
       "    <tr>\n",
       "      <th>2</th>\n",
       "      <td>139280</td>\n",
       "      <td>TIGER 경기방어</td>\n",
       "      <td>99</td>\n",
       "      <td>-10130</td>\n",
       "      <td>-1002870</td>\n",
       "    </tr>\n",
       "    <tr>\n",
       "      <th>3</th>\n",
       "      <td>157490</td>\n",
       "      <td>TIGER 소프트웨어</td>\n",
       "      <td>70</td>\n",
       "      <td>-14325</td>\n",
       "      <td>-1002750</td>\n",
       "    </tr>\n",
       "    <tr>\n",
       "      <th>4</th>\n",
       "      <td>219390</td>\n",
       "      <td>KBSTAR 미국S&amp;P원유생산기업(합성 H)</td>\n",
       "      <td>180</td>\n",
       "      <td>-5545</td>\n",
       "      <td>-998100</td>\n",
       "    </tr>\n",
       "    <tr>\n",
       "      <th>5</th>\n",
       "      <td>266410</td>\n",
       "      <td>KODEX 필수소비재</td>\n",
       "      <td>127</td>\n",
       "      <td>-7910</td>\n",
       "      <td>-1004570</td>\n",
       "    </tr>\n",
       "    <tr>\n",
       "      <th>6</th>\n",
       "      <td>271050</td>\n",
       "      <td>KODEX WTI원유선물인버스(H)</td>\n",
       "      <td>18</td>\n",
       "      <td>-4489</td>\n",
       "      <td>-80815</td>\n",
       "    </tr>\n",
       "    <tr>\n",
       "      <th>7</th>\n",
       "      <td>319640</td>\n",
       "      <td>TIGER 골드선물(H)</td>\n",
       "      <td>14</td>\n",
       "      <td>-14270</td>\n",
       "      <td>-199780</td>\n",
       "    </tr>\n",
       "    <tr>\n",
       "      <th>8</th>\n",
       "      <td>329200</td>\n",
       "      <td>TIGER 리츠부동산인프라</td>\n",
       "      <td>154</td>\n",
       "      <td>-6495</td>\n",
       "      <td>-1000230</td>\n",
       "    </tr>\n",
       "    <tr>\n",
       "      <th>9</th>\n",
       "      <td>332610</td>\n",
       "      <td>ARIRANG 미국단기우량회사채</td>\n",
       "      <td>10</td>\n",
       "      <td>-102840</td>\n",
       "      <td>-1028400</td>\n",
       "    </tr>\n",
       "    <tr>\n",
       "      <th>10</th>\n",
       "      <td>360750</td>\n",
       "      <td>TIGER 미국S&amp;P500</td>\n",
       "      <td>18</td>\n",
       "      <td>-13670</td>\n",
       "      <td>-246060</td>\n",
       "    </tr>\n",
       "    <tr>\n",
       "      <th>11</th>\n",
       "      <td>371450</td>\n",
       "      <td>TIGER 글로벌클라우드컴퓨팅INDXX</td>\n",
       "      <td>101</td>\n",
       "      <td>-9900</td>\n",
       "      <td>-999900</td>\n",
       "    </tr>\n",
       "    <tr>\n",
       "      <th>12</th>\n",
       "      <td>371460</td>\n",
       "      <td>TIGER 차이나전기차SOLACTIVE</td>\n",
       "      <td>68</td>\n",
       "      <td>-14720</td>\n",
       "      <td>-1000960</td>\n",
       "    </tr>\n",
       "    <tr>\n",
       "      <th>13</th>\n",
       "      <td>373790</td>\n",
       "      <td>KOSEF 미국방어배당성장나스닥</td>\n",
       "      <td>77</td>\n",
       "      <td>-12950</td>\n",
       "      <td>-997150</td>\n",
       "    </tr>\n",
       "    <tr>\n",
       "      <th>14</th>\n",
       "      <td>394350</td>\n",
       "      <td>KOSEF 릭소글로벌퓨처모빌리티MSCI</td>\n",
       "      <td>91</td>\n",
       "      <td>-10984</td>\n",
       "      <td>-999544</td>\n",
       "    </tr>\n",
       "    <tr>\n",
       "      <th>15</th>\n",
       "      <td>409810</td>\n",
       "      <td>KODEX 미국나스닥100선물인버스(H)</td>\n",
       "      <td>1</td>\n",
       "      <td>-11230</td>\n",
       "      <td>-11230</td>\n",
       "    </tr>\n",
       "    <tr>\n",
       "      <th>16</th>\n",
       "      <td>530020</td>\n",
       "      <td>삼성 미국 대형 가치주 ETN</td>\n",
       "      <td>16</td>\n",
       "      <td>-17668</td>\n",
       "      <td>-282698</td>\n",
       "    </tr>\n",
       "    <tr>\n",
       "      <th>17</th>\n",
       "      <td>570049</td>\n",
       "      <td>TRUE S&amp;P500 양매도 4% OTM ETN(H)</td>\n",
       "      <td>42</td>\n",
       "      <td>-11696</td>\n",
       "      <td>-491265</td>\n",
       "    </tr>\n",
       "  </tbody>\n",
       "</table>\n",
       "</div>"
      ],
      "text/plain": [
       "    TICKER                           NAME  STOCKS  AVG_PRICE   INVEST\n",
       "0   123310                      TIGER 인버스       1      -4895    -4895\n",
       "1   133690                 TIGER 미국나스닥100       1     -82580   -82580\n",
       "2   139280                     TIGER 경기방어      99     -10130 -1002870\n",
       "3   157490                    TIGER 소프트웨어      70     -14325 -1002750\n",
       "4   219390       KBSTAR 미국S&P원유생산기업(합성 H)     180      -5545  -998100\n",
       "5   266410                    KODEX 필수소비재     127      -7910 -1004570\n",
       "6   271050            KODEX WTI원유선물인버스(H)      18      -4489   -80815\n",
       "7   319640                  TIGER 골드선물(H)      14     -14270  -199780\n",
       "8   329200                 TIGER 리츠부동산인프라     154      -6495 -1000230\n",
       "9   332610              ARIRANG 미국단기우량회사채      10    -102840 -1028400\n",
       "10  360750                 TIGER 미국S&P500      18     -13670  -246060\n",
       "11  371450          TIGER 글로벌클라우드컴퓨팅INDXX     101      -9900  -999900\n",
       "12  371460          TIGER 차이나전기차SOLACTIVE      68     -14720 -1000960\n",
       "13  373790              KOSEF 미국방어배당성장나스닥      77     -12950  -997150\n",
       "14  394350          KOSEF 릭소글로벌퓨처모빌리티MSCI      91     -10984  -999544\n",
       "15  409810         KODEX 미국나스닥100선물인버스(H)       1     -11230   -11230\n",
       "16  530020               삼성 미국 대형 가치주 ETN      16     -17668  -282698\n",
       "17  570049  TRUE S&P500 양매도 4% OTM ETN(H)      42     -11696  -491265"
      ]
     },
     "execution_count": 23,
     "metadata": {},
     "output_type": "execute_result"
    }
   ],
   "source": [
    "market = open.copy()\n",
    "market[['AVG_PRICE', 'INVEST']] = market[['AVG_PRICE', 'INVEST']].astype('int')\n",
    "market"
   ]
  },
  {
   "cell_type": "code",
   "execution_count": 24,
   "metadata": {},
   "outputs": [
    {
     "name": "stdout",
     "output_type": "stream",
     "text": [
      "Total Open Profit :  ₩ -374,722.0\n"
     ]
    }
   ],
   "source": [
    "marketprice = []\n",
    "\n",
    "for tk in market.TICKER.to_list():\n",
    "    tk_yahoo = yf.Ticker(tk + '.KS')\n",
    "    data = tk_yahoo.history().tail(1)['Close'].iloc[0]\n",
    "    marketprice.append(data)\n",
    "\n",
    "# CV: 현재평가액 = 현재가 x 보유수, EVA: 평가증감 = 포지션 - 현재평가액\n",
    "market['MARKET_PRICE'] = marketprice\n",
    "market['CV'] = market.MARKET_PRICE * market.STOCKS\n",
    "market['PROFIT'] = market.CV + market.INVEST\n",
    "market['PROFIT%'] = market.PROFIT / market.INVEST * -100\n",
    "\n",
    "print('Total Open Profit :  ₩' ,f'{market.PROFIT.sum():,}')"
   ]
  },
  {
   "cell_type": "code",
   "execution_count": 25,
   "metadata": {},
   "outputs": [
    {
     "data": {
      "text/html": [
       "<style  type=\"text/css\" >\n",
       "</style><table id=\"T_403082e6_c630_11ec_93f9_784f438ec1c5\" ><thead>    <tr>        <th class=\"blank level0\" ></th>        <th class=\"col_heading level0 col0\" >TICKER</th>        <th class=\"col_heading level0 col1\" >NAME</th>        <th class=\"col_heading level0 col2\" >STOCKS</th>        <th class=\"col_heading level0 col3\" >AVG_PRICE</th>        <th class=\"col_heading level0 col4\" >INVEST</th>        <th class=\"col_heading level0 col5\" >MARKET_PRICE</th>        <th class=\"col_heading level0 col6\" >CV</th>        <th class=\"col_heading level0 col7\" >PROFIT</th>        <th class=\"col_heading level0 col8\" >PROFIT%</th>    </tr></thead><tbody>\n",
       "                <tr>\n",
       "                        <th id=\"T_403082e6_c630_11ec_93f9_784f438ec1c5level0_row0\" class=\"row_heading level0 row0\" >13</th>\n",
       "                        <td id=\"T_403082e6_c630_11ec_93f9_784f438ec1c5row0_col0\" class=\"data row0 col0\" >373790</td>\n",
       "                        <td id=\"T_403082e6_c630_11ec_93f9_784f438ec1c5row0_col1\" class=\"data row0 col1\" >KOSEF 미국방어배당성장나스닥</td>\n",
       "                        <td id=\"T_403082e6_c630_11ec_93f9_784f438ec1c5row0_col2\" class=\"data row0 col2\" >77</td>\n",
       "                        <td id=\"T_403082e6_c630_11ec_93f9_784f438ec1c5row0_col3\" class=\"data row0 col3\" >-12,950</td>\n",
       "                        <td id=\"T_403082e6_c630_11ec_93f9_784f438ec1c5row0_col4\" class=\"data row0 col4\" >-997,150</td>\n",
       "                        <td id=\"T_403082e6_c630_11ec_93f9_784f438ec1c5row0_col5\" class=\"data row0 col5\" >14,065</td>\n",
       "                        <td id=\"T_403082e6_c630_11ec_93f9_784f438ec1c5row0_col6\" class=\"data row0 col6\" >1,083,005</td>\n",
       "                        <td id=\"T_403082e6_c630_11ec_93f9_784f438ec1c5row0_col7\" class=\"data row0 col7\" >85,855</td>\n",
       "                        <td id=\"T_403082e6_c630_11ec_93f9_784f438ec1c5row0_col8\" class=\"data row0 col8\" >8.6</td>\n",
       "            </tr>\n",
       "            <tr>\n",
       "                        <th id=\"T_403082e6_c630_11ec_93f9_784f438ec1c5level0_row1\" class=\"row_heading level0 row1\" >4</th>\n",
       "                        <td id=\"T_403082e6_c630_11ec_93f9_784f438ec1c5row1_col0\" class=\"data row1 col0\" >219390</td>\n",
       "                        <td id=\"T_403082e6_c630_11ec_93f9_784f438ec1c5row1_col1\" class=\"data row1 col1\" >KBSTAR 미국S&P원유생산기업(합성 H)</td>\n",
       "                        <td id=\"T_403082e6_c630_11ec_93f9_784f438ec1c5row1_col2\" class=\"data row1 col2\" >180</td>\n",
       "                        <td id=\"T_403082e6_c630_11ec_93f9_784f438ec1c5row1_col3\" class=\"data row1 col3\" >-5,545</td>\n",
       "                        <td id=\"T_403082e6_c630_11ec_93f9_784f438ec1c5row1_col4\" class=\"data row1 col4\" >-998,100</td>\n",
       "                        <td id=\"T_403082e6_c630_11ec_93f9_784f438ec1c5row1_col5\" class=\"data row1 col5\" >5,915</td>\n",
       "                        <td id=\"T_403082e6_c630_11ec_93f9_784f438ec1c5row1_col6\" class=\"data row1 col6\" >1,064,700</td>\n",
       "                        <td id=\"T_403082e6_c630_11ec_93f9_784f438ec1c5row1_col7\" class=\"data row1 col7\" >66,600</td>\n",
       "                        <td id=\"T_403082e6_c630_11ec_93f9_784f438ec1c5row1_col8\" class=\"data row1 col8\" >6.7</td>\n",
       "            </tr>\n",
       "            <tr>\n",
       "                        <th id=\"T_403082e6_c630_11ec_93f9_784f438ec1c5level0_row2\" class=\"row_heading level0 row2\" >5</th>\n",
       "                        <td id=\"T_403082e6_c630_11ec_93f9_784f438ec1c5row2_col0\" class=\"data row2 col0\" >266410</td>\n",
       "                        <td id=\"T_403082e6_c630_11ec_93f9_784f438ec1c5row2_col1\" class=\"data row2 col1\" >KODEX 필수소비재</td>\n",
       "                        <td id=\"T_403082e6_c630_11ec_93f9_784f438ec1c5row2_col2\" class=\"data row2 col2\" >127</td>\n",
       "                        <td id=\"T_403082e6_c630_11ec_93f9_784f438ec1c5row2_col3\" class=\"data row2 col3\" >-7,910</td>\n",
       "                        <td id=\"T_403082e6_c630_11ec_93f9_784f438ec1c5row2_col4\" class=\"data row2 col4\" >-1,004,570</td>\n",
       "                        <td id=\"T_403082e6_c630_11ec_93f9_784f438ec1c5row2_col5\" class=\"data row2 col5\" >8,155</td>\n",
       "                        <td id=\"T_403082e6_c630_11ec_93f9_784f438ec1c5row2_col6\" class=\"data row2 col6\" >1,035,685</td>\n",
       "                        <td id=\"T_403082e6_c630_11ec_93f9_784f438ec1c5row2_col7\" class=\"data row2 col7\" >31,115</td>\n",
       "                        <td id=\"T_403082e6_c630_11ec_93f9_784f438ec1c5row2_col8\" class=\"data row2 col8\" >3.1</td>\n",
       "            </tr>\n",
       "            <tr>\n",
       "                        <th id=\"T_403082e6_c630_11ec_93f9_784f438ec1c5level0_row3\" class=\"row_heading level0 row3\" >16</th>\n",
       "                        <td id=\"T_403082e6_c630_11ec_93f9_784f438ec1c5row3_col0\" class=\"data row3 col0\" >530020</td>\n",
       "                        <td id=\"T_403082e6_c630_11ec_93f9_784f438ec1c5row3_col1\" class=\"data row3 col1\" >삼성 미국 대형 가치주 ETN</td>\n",
       "                        <td id=\"T_403082e6_c630_11ec_93f9_784f438ec1c5row3_col2\" class=\"data row3 col2\" >16</td>\n",
       "                        <td id=\"T_403082e6_c630_11ec_93f9_784f438ec1c5row3_col3\" class=\"data row3 col3\" >-17,668</td>\n",
       "                        <td id=\"T_403082e6_c630_11ec_93f9_784f438ec1c5row3_col4\" class=\"data row3 col4\" >-282,698</td>\n",
       "                        <td id=\"T_403082e6_c630_11ec_93f9_784f438ec1c5row3_col5\" class=\"data row3 col5\" >18,625</td>\n",
       "                        <td id=\"T_403082e6_c630_11ec_93f9_784f438ec1c5row3_col6\" class=\"data row3 col6\" >298,000</td>\n",
       "                        <td id=\"T_403082e6_c630_11ec_93f9_784f438ec1c5row3_col7\" class=\"data row3 col7\" >15,302</td>\n",
       "                        <td id=\"T_403082e6_c630_11ec_93f9_784f438ec1c5row3_col8\" class=\"data row3 col8\" >5.4</td>\n",
       "            </tr>\n",
       "            <tr>\n",
       "                        <th id=\"T_403082e6_c630_11ec_93f9_784f438ec1c5level0_row4\" class=\"row_heading level0 row4\" >8</th>\n",
       "                        <td id=\"T_403082e6_c630_11ec_93f9_784f438ec1c5row4_col0\" class=\"data row4 col0\" >329200</td>\n",
       "                        <td id=\"T_403082e6_c630_11ec_93f9_784f438ec1c5row4_col1\" class=\"data row4 col1\" >TIGER 리츠부동산인프라</td>\n",
       "                        <td id=\"T_403082e6_c630_11ec_93f9_784f438ec1c5row4_col2\" class=\"data row4 col2\" >154</td>\n",
       "                        <td id=\"T_403082e6_c630_11ec_93f9_784f438ec1c5row4_col3\" class=\"data row4 col3\" >-6,495</td>\n",
       "                        <td id=\"T_403082e6_c630_11ec_93f9_784f438ec1c5row4_col4\" class=\"data row4 col4\" >-1,000,230</td>\n",
       "                        <td id=\"T_403082e6_c630_11ec_93f9_784f438ec1c5row4_col5\" class=\"data row4 col5\" >6,570</td>\n",
       "                        <td id=\"T_403082e6_c630_11ec_93f9_784f438ec1c5row4_col6\" class=\"data row4 col6\" >1,011,780</td>\n",
       "                        <td id=\"T_403082e6_c630_11ec_93f9_784f438ec1c5row4_col7\" class=\"data row4 col7\" >11,550</td>\n",
       "                        <td id=\"T_403082e6_c630_11ec_93f9_784f438ec1c5row4_col8\" class=\"data row4 col8\" >1.2</td>\n",
       "            </tr>\n",
       "            <tr>\n",
       "                        <th id=\"T_403082e6_c630_11ec_93f9_784f438ec1c5level0_row5\" class=\"row_heading level0 row5\" >17</th>\n",
       "                        <td id=\"T_403082e6_c630_11ec_93f9_784f438ec1c5row5_col0\" class=\"data row5 col0\" >570049</td>\n",
       "                        <td id=\"T_403082e6_c630_11ec_93f9_784f438ec1c5row5_col1\" class=\"data row5 col1\" >TRUE S&P500 양매도 4% OTM ETN(H)</td>\n",
       "                        <td id=\"T_403082e6_c630_11ec_93f9_784f438ec1c5row5_col2\" class=\"data row5 col2\" >42</td>\n",
       "                        <td id=\"T_403082e6_c630_11ec_93f9_784f438ec1c5row5_col3\" class=\"data row5 col3\" >-11,696</td>\n",
       "                        <td id=\"T_403082e6_c630_11ec_93f9_784f438ec1c5row5_col4\" class=\"data row5 col4\" >-491,265</td>\n",
       "                        <td id=\"T_403082e6_c630_11ec_93f9_784f438ec1c5row5_col5\" class=\"data row5 col5\" >11,845</td>\n",
       "                        <td id=\"T_403082e6_c630_11ec_93f9_784f438ec1c5row5_col6\" class=\"data row5 col6\" >497,490</td>\n",
       "                        <td id=\"T_403082e6_c630_11ec_93f9_784f438ec1c5row5_col7\" class=\"data row5 col7\" >6,225</td>\n",
       "                        <td id=\"T_403082e6_c630_11ec_93f9_784f438ec1c5row5_col8\" class=\"data row5 col8\" >1.3</td>\n",
       "            </tr>\n",
       "            <tr>\n",
       "                        <th id=\"T_403082e6_c630_11ec_93f9_784f438ec1c5level0_row6\" class=\"row_heading level0 row6\" >9</th>\n",
       "                        <td id=\"T_403082e6_c630_11ec_93f9_784f438ec1c5row6_col0\" class=\"data row6 col0\" >332610</td>\n",
       "                        <td id=\"T_403082e6_c630_11ec_93f9_784f438ec1c5row6_col1\" class=\"data row6 col1\" >ARIRANG 미국단기우량회사채</td>\n",
       "                        <td id=\"T_403082e6_c630_11ec_93f9_784f438ec1c5row6_col2\" class=\"data row6 col2\" >10</td>\n",
       "                        <td id=\"T_403082e6_c630_11ec_93f9_784f438ec1c5row6_col3\" class=\"data row6 col3\" >-102,840</td>\n",
       "                        <td id=\"T_403082e6_c630_11ec_93f9_784f438ec1c5row6_col4\" class=\"data row6 col4\" >-1,028,400</td>\n",
       "                        <td id=\"T_403082e6_c630_11ec_93f9_784f438ec1c5row6_col5\" class=\"data row6 col5\" >103,330</td>\n",
       "                        <td id=\"T_403082e6_c630_11ec_93f9_784f438ec1c5row6_col6\" class=\"data row6 col6\" >1,033,300</td>\n",
       "                        <td id=\"T_403082e6_c630_11ec_93f9_784f438ec1c5row6_col7\" class=\"data row6 col7\" >4,900</td>\n",
       "                        <td id=\"T_403082e6_c630_11ec_93f9_784f438ec1c5row6_col8\" class=\"data row6 col8\" >0.5</td>\n",
       "            </tr>\n",
       "            <tr>\n",
       "                        <th id=\"T_403082e6_c630_11ec_93f9_784f438ec1c5level0_row7\" class=\"row_heading level0 row7\" >6</th>\n",
       "                        <td id=\"T_403082e6_c630_11ec_93f9_784f438ec1c5row7_col0\" class=\"data row7 col0\" >271050</td>\n",
       "                        <td id=\"T_403082e6_c630_11ec_93f9_784f438ec1c5row7_col1\" class=\"data row7 col1\" >KODEX WTI원유선물인버스(H)</td>\n",
       "                        <td id=\"T_403082e6_c630_11ec_93f9_784f438ec1c5row7_col2\" class=\"data row7 col2\" >18</td>\n",
       "                        <td id=\"T_403082e6_c630_11ec_93f9_784f438ec1c5row7_col3\" class=\"data row7 col3\" >-4,489</td>\n",
       "                        <td id=\"T_403082e6_c630_11ec_93f9_784f438ec1c5row7_col4\" class=\"data row7 col4\" >-80,815</td>\n",
       "                        <td id=\"T_403082e6_c630_11ec_93f9_784f438ec1c5row7_col5\" class=\"data row7 col5\" >4,610</td>\n",
       "                        <td id=\"T_403082e6_c630_11ec_93f9_784f438ec1c5row7_col6\" class=\"data row7 col6\" >82,980</td>\n",
       "                        <td id=\"T_403082e6_c630_11ec_93f9_784f438ec1c5row7_col7\" class=\"data row7 col7\" >2,165</td>\n",
       "                        <td id=\"T_403082e6_c630_11ec_93f9_784f438ec1c5row7_col8\" class=\"data row7 col8\" >2.7</td>\n",
       "            </tr>\n",
       "            <tr>\n",
       "                        <th id=\"T_403082e6_c630_11ec_93f9_784f438ec1c5level0_row8\" class=\"row_heading level0 row8\" >15</th>\n",
       "                        <td id=\"T_403082e6_c630_11ec_93f9_784f438ec1c5row8_col0\" class=\"data row8 col0\" >409810</td>\n",
       "                        <td id=\"T_403082e6_c630_11ec_93f9_784f438ec1c5row8_col1\" class=\"data row8 col1\" >KODEX 미국나스닥100선물인버스(H)</td>\n",
       "                        <td id=\"T_403082e6_c630_11ec_93f9_784f438ec1c5row8_col2\" class=\"data row8 col2\" >1</td>\n",
       "                        <td id=\"T_403082e6_c630_11ec_93f9_784f438ec1c5row8_col3\" class=\"data row8 col3\" >-11,230</td>\n",
       "                        <td id=\"T_403082e6_c630_11ec_93f9_784f438ec1c5row8_col4\" class=\"data row8 col4\" >-11,230</td>\n",
       "                        <td id=\"T_403082e6_c630_11ec_93f9_784f438ec1c5row8_col5\" class=\"data row8 col5\" >11,930</td>\n",
       "                        <td id=\"T_403082e6_c630_11ec_93f9_784f438ec1c5row8_col6\" class=\"data row8 col6\" >11,930</td>\n",
       "                        <td id=\"T_403082e6_c630_11ec_93f9_784f438ec1c5row8_col7\" class=\"data row8 col7\" >700</td>\n",
       "                        <td id=\"T_403082e6_c630_11ec_93f9_784f438ec1c5row8_col8\" class=\"data row8 col8\" >6.2</td>\n",
       "            </tr>\n",
       "            <tr>\n",
       "                        <th id=\"T_403082e6_c630_11ec_93f9_784f438ec1c5level0_row9\" class=\"row_heading level0 row9\" >0</th>\n",
       "                        <td id=\"T_403082e6_c630_11ec_93f9_784f438ec1c5row9_col0\" class=\"data row9 col0\" >123310</td>\n",
       "                        <td id=\"T_403082e6_c630_11ec_93f9_784f438ec1c5row9_col1\" class=\"data row9 col1\" >TIGER 인버스</td>\n",
       "                        <td id=\"T_403082e6_c630_11ec_93f9_784f438ec1c5row9_col2\" class=\"data row9 col2\" >1</td>\n",
       "                        <td id=\"T_403082e6_c630_11ec_93f9_784f438ec1c5row9_col3\" class=\"data row9 col3\" >-4,895</td>\n",
       "                        <td id=\"T_403082e6_c630_11ec_93f9_784f438ec1c5row9_col4\" class=\"data row9 col4\" >-4,895</td>\n",
       "                        <td id=\"T_403082e6_c630_11ec_93f9_784f438ec1c5row9_col5\" class=\"data row9 col5\" >5,010</td>\n",
       "                        <td id=\"T_403082e6_c630_11ec_93f9_784f438ec1c5row9_col6\" class=\"data row9 col6\" >5,010</td>\n",
       "                        <td id=\"T_403082e6_c630_11ec_93f9_784f438ec1c5row9_col7\" class=\"data row9 col7\" >115</td>\n",
       "                        <td id=\"T_403082e6_c630_11ec_93f9_784f438ec1c5row9_col8\" class=\"data row9 col8\" >2.3</td>\n",
       "            </tr>\n",
       "            <tr>\n",
       "                        <th id=\"T_403082e6_c630_11ec_93f9_784f438ec1c5level0_row10\" class=\"row_heading level0 row10\" >2</th>\n",
       "                        <td id=\"T_403082e6_c630_11ec_93f9_784f438ec1c5row10_col0\" class=\"data row10 col0\" >139280</td>\n",
       "                        <td id=\"T_403082e6_c630_11ec_93f9_784f438ec1c5row10_col1\" class=\"data row10 col1\" >TIGER 경기방어</td>\n",
       "                        <td id=\"T_403082e6_c630_11ec_93f9_784f438ec1c5row10_col2\" class=\"data row10 col2\" >99</td>\n",
       "                        <td id=\"T_403082e6_c630_11ec_93f9_784f438ec1c5row10_col3\" class=\"data row10 col3\" >-10,130</td>\n",
       "                        <td id=\"T_403082e6_c630_11ec_93f9_784f438ec1c5row10_col4\" class=\"data row10 col4\" >-1,002,870</td>\n",
       "                        <td id=\"T_403082e6_c630_11ec_93f9_784f438ec1c5row10_col5\" class=\"data row10 col5\" >10,100</td>\n",
       "                        <td id=\"T_403082e6_c630_11ec_93f9_784f438ec1c5row10_col6\" class=\"data row10 col6\" >999,900</td>\n",
       "                        <td id=\"T_403082e6_c630_11ec_93f9_784f438ec1c5row10_col7\" class=\"data row10 col7\" >-2,970</td>\n",
       "                        <td id=\"T_403082e6_c630_11ec_93f9_784f438ec1c5row10_col8\" class=\"data row10 col8\" >-0.3</td>\n",
       "            </tr>\n",
       "            <tr>\n",
       "                        <th id=\"T_403082e6_c630_11ec_93f9_784f438ec1c5level0_row11\" class=\"row_heading level0 row11\" >10</th>\n",
       "                        <td id=\"T_403082e6_c630_11ec_93f9_784f438ec1c5row11_col0\" class=\"data row11 col0\" >360750</td>\n",
       "                        <td id=\"T_403082e6_c630_11ec_93f9_784f438ec1c5row11_col1\" class=\"data row11 col1\" >TIGER 미국S&P500</td>\n",
       "                        <td id=\"T_403082e6_c630_11ec_93f9_784f438ec1c5row11_col2\" class=\"data row11 col2\" >18</td>\n",
       "                        <td id=\"T_403082e6_c630_11ec_93f9_784f438ec1c5row11_col3\" class=\"data row11 col3\" >-13,670</td>\n",
       "                        <td id=\"T_403082e6_c630_11ec_93f9_784f438ec1c5row11_col4\" class=\"data row11 col4\" >-246,060</td>\n",
       "                        <td id=\"T_403082e6_c630_11ec_93f9_784f438ec1c5row11_col5\" class=\"data row11 col5\" >13,395</td>\n",
       "                        <td id=\"T_403082e6_c630_11ec_93f9_784f438ec1c5row11_col6\" class=\"data row11 col6\" >241,110</td>\n",
       "                        <td id=\"T_403082e6_c630_11ec_93f9_784f438ec1c5row11_col7\" class=\"data row11 col7\" >-4,950</td>\n",
       "                        <td id=\"T_403082e6_c630_11ec_93f9_784f438ec1c5row11_col8\" class=\"data row11 col8\" >-2.0</td>\n",
       "            </tr>\n",
       "            <tr>\n",
       "                        <th id=\"T_403082e6_c630_11ec_93f9_784f438ec1c5level0_row12\" class=\"row_heading level0 row12\" >7</th>\n",
       "                        <td id=\"T_403082e6_c630_11ec_93f9_784f438ec1c5row12_col0\" class=\"data row12 col0\" >319640</td>\n",
       "                        <td id=\"T_403082e6_c630_11ec_93f9_784f438ec1c5row12_col1\" class=\"data row12 col1\" >TIGER 골드선물(H)</td>\n",
       "                        <td id=\"T_403082e6_c630_11ec_93f9_784f438ec1c5row12_col2\" class=\"data row12 col2\" >14</td>\n",
       "                        <td id=\"T_403082e6_c630_11ec_93f9_784f438ec1c5row12_col3\" class=\"data row12 col3\" >-14,270</td>\n",
       "                        <td id=\"T_403082e6_c630_11ec_93f9_784f438ec1c5row12_col4\" class=\"data row12 col4\" >-199,780</td>\n",
       "                        <td id=\"T_403082e6_c630_11ec_93f9_784f438ec1c5row12_col5\" class=\"data row12 col5\" >13,705</td>\n",
       "                        <td id=\"T_403082e6_c630_11ec_93f9_784f438ec1c5row12_col6\" class=\"data row12 col6\" >191,870</td>\n",
       "                        <td id=\"T_403082e6_c630_11ec_93f9_784f438ec1c5row12_col7\" class=\"data row12 col7\" >-7,910</td>\n",
       "                        <td id=\"T_403082e6_c630_11ec_93f9_784f438ec1c5row12_col8\" class=\"data row12 col8\" >-4.0</td>\n",
       "            </tr>\n",
       "            <tr>\n",
       "                        <th id=\"T_403082e6_c630_11ec_93f9_784f438ec1c5level0_row13\" class=\"row_heading level0 row13\" >1</th>\n",
       "                        <td id=\"T_403082e6_c630_11ec_93f9_784f438ec1c5row13_col0\" class=\"data row13 col0\" >133690</td>\n",
       "                        <td id=\"T_403082e6_c630_11ec_93f9_784f438ec1c5row13_col1\" class=\"data row13 col1\" >TIGER 미국나스닥100</td>\n",
       "                        <td id=\"T_403082e6_c630_11ec_93f9_784f438ec1c5row13_col2\" class=\"data row13 col2\" >1</td>\n",
       "                        <td id=\"T_403082e6_c630_11ec_93f9_784f438ec1c5row13_col3\" class=\"data row13 col3\" >-82,580</td>\n",
       "                        <td id=\"T_403082e6_c630_11ec_93f9_784f438ec1c5row13_col4\" class=\"data row13 col4\" >-82,580</td>\n",
       "                        <td id=\"T_403082e6_c630_11ec_93f9_784f438ec1c5row13_col5\" class=\"data row13 col5\" >74,310</td>\n",
       "                        <td id=\"T_403082e6_c630_11ec_93f9_784f438ec1c5row13_col6\" class=\"data row13 col6\" >74,310</td>\n",
       "                        <td id=\"T_403082e6_c630_11ec_93f9_784f438ec1c5row13_col7\" class=\"data row13 col7\" >-8,270</td>\n",
       "                        <td id=\"T_403082e6_c630_11ec_93f9_784f438ec1c5row13_col8\" class=\"data row13 col8\" >-10.0</td>\n",
       "            </tr>\n",
       "            <tr>\n",
       "                        <th id=\"T_403082e6_c630_11ec_93f9_784f438ec1c5level0_row14\" class=\"row_heading level0 row14\" >11</th>\n",
       "                        <td id=\"T_403082e6_c630_11ec_93f9_784f438ec1c5row14_col0\" class=\"data row14 col0\" >371450</td>\n",
       "                        <td id=\"T_403082e6_c630_11ec_93f9_784f438ec1c5row14_col1\" class=\"data row14 col1\" >TIGER 글로벌클라우드컴퓨팅INDXX</td>\n",
       "                        <td id=\"T_403082e6_c630_11ec_93f9_784f438ec1c5row14_col2\" class=\"data row14 col2\" >101</td>\n",
       "                        <td id=\"T_403082e6_c630_11ec_93f9_784f438ec1c5row14_col3\" class=\"data row14 col3\" >-9,900</td>\n",
       "                        <td id=\"T_403082e6_c630_11ec_93f9_784f438ec1c5row14_col4\" class=\"data row14 col4\" >-999,900</td>\n",
       "                        <td id=\"T_403082e6_c630_11ec_93f9_784f438ec1c5row14_col5\" class=\"data row14 col5\" >8,960</td>\n",
       "                        <td id=\"T_403082e6_c630_11ec_93f9_784f438ec1c5row14_col6\" class=\"data row14 col6\" >904,960</td>\n",
       "                        <td id=\"T_403082e6_c630_11ec_93f9_784f438ec1c5row14_col7\" class=\"data row14 col7\" >-94,940</td>\n",
       "                        <td id=\"T_403082e6_c630_11ec_93f9_784f438ec1c5row14_col8\" class=\"data row14 col8\" >-9.5</td>\n",
       "            </tr>\n",
       "            <tr>\n",
       "                        <th id=\"T_403082e6_c630_11ec_93f9_784f438ec1c5level0_row15\" class=\"row_heading level0 row15\" >14</th>\n",
       "                        <td id=\"T_403082e6_c630_11ec_93f9_784f438ec1c5row15_col0\" class=\"data row15 col0\" >394350</td>\n",
       "                        <td id=\"T_403082e6_c630_11ec_93f9_784f438ec1c5row15_col1\" class=\"data row15 col1\" >KOSEF 릭소글로벌퓨처모빌리티MSCI</td>\n",
       "                        <td id=\"T_403082e6_c630_11ec_93f9_784f438ec1c5row15_col2\" class=\"data row15 col2\" >91</td>\n",
       "                        <td id=\"T_403082e6_c630_11ec_93f9_784f438ec1c5row15_col3\" class=\"data row15 col3\" >-10,984</td>\n",
       "                        <td id=\"T_403082e6_c630_11ec_93f9_784f438ec1c5row15_col4\" class=\"data row15 col4\" >-999,544</td>\n",
       "                        <td id=\"T_403082e6_c630_11ec_93f9_784f438ec1c5row15_col5\" class=\"data row15 col5\" >9,535</td>\n",
       "                        <td id=\"T_403082e6_c630_11ec_93f9_784f438ec1c5row15_col6\" class=\"data row15 col6\" >867,685</td>\n",
       "                        <td id=\"T_403082e6_c630_11ec_93f9_784f438ec1c5row15_col7\" class=\"data row15 col7\" >-131,859</td>\n",
       "                        <td id=\"T_403082e6_c630_11ec_93f9_784f438ec1c5row15_col8\" class=\"data row15 col8\" >-13.2</td>\n",
       "            </tr>\n",
       "            <tr>\n",
       "                        <th id=\"T_403082e6_c630_11ec_93f9_784f438ec1c5level0_row16\" class=\"row_heading level0 row16\" >3</th>\n",
       "                        <td id=\"T_403082e6_c630_11ec_93f9_784f438ec1c5row16_col0\" class=\"data row16 col0\" >157490</td>\n",
       "                        <td id=\"T_403082e6_c630_11ec_93f9_784f438ec1c5row16_col1\" class=\"data row16 col1\" >TIGER 소프트웨어</td>\n",
       "                        <td id=\"T_403082e6_c630_11ec_93f9_784f438ec1c5row16_col2\" class=\"data row16 col2\" >70</td>\n",
       "                        <td id=\"T_403082e6_c630_11ec_93f9_784f438ec1c5row16_col3\" class=\"data row16 col3\" >-14,325</td>\n",
       "                        <td id=\"T_403082e6_c630_11ec_93f9_784f438ec1c5row16_col4\" class=\"data row16 col4\" >-1,002,750</td>\n",
       "                        <td id=\"T_403082e6_c630_11ec_93f9_784f438ec1c5row16_col5\" class=\"data row16 col5\" >12,190</td>\n",
       "                        <td id=\"T_403082e6_c630_11ec_93f9_784f438ec1c5row16_col6\" class=\"data row16 col6\" >853,300</td>\n",
       "                        <td id=\"T_403082e6_c630_11ec_93f9_784f438ec1c5row16_col7\" class=\"data row16 col7\" >-149,450</td>\n",
       "                        <td id=\"T_403082e6_c630_11ec_93f9_784f438ec1c5row16_col8\" class=\"data row16 col8\" >-14.9</td>\n",
       "            </tr>\n",
       "            <tr>\n",
       "                        <th id=\"T_403082e6_c630_11ec_93f9_784f438ec1c5level0_row17\" class=\"row_heading level0 row17\" >12</th>\n",
       "                        <td id=\"T_403082e6_c630_11ec_93f9_784f438ec1c5row17_col0\" class=\"data row17 col0\" >371460</td>\n",
       "                        <td id=\"T_403082e6_c630_11ec_93f9_784f438ec1c5row17_col1\" class=\"data row17 col1\" >TIGER 차이나전기차SOLACTIVE</td>\n",
       "                        <td id=\"T_403082e6_c630_11ec_93f9_784f438ec1c5row17_col2\" class=\"data row17 col2\" >68</td>\n",
       "                        <td id=\"T_403082e6_c630_11ec_93f9_784f438ec1c5row17_col3\" class=\"data row17 col3\" >-14,720</td>\n",
       "                        <td id=\"T_403082e6_c630_11ec_93f9_784f438ec1c5row17_col4\" class=\"data row17 col4\" >-1,000,960</td>\n",
       "                        <td id=\"T_403082e6_c630_11ec_93f9_784f438ec1c5row17_col5\" class=\"data row17 col5\" >11,795</td>\n",
       "                        <td id=\"T_403082e6_c630_11ec_93f9_784f438ec1c5row17_col6\" class=\"data row17 col6\" >802,060</td>\n",
       "                        <td id=\"T_403082e6_c630_11ec_93f9_784f438ec1c5row17_col7\" class=\"data row17 col7\" >-198,900</td>\n",
       "                        <td id=\"T_403082e6_c630_11ec_93f9_784f438ec1c5row17_col8\" class=\"data row17 col8\" >-19.9</td>\n",
       "            </tr>\n",
       "    </tbody></table>"
      ],
      "text/plain": [
       "<pandas.io.formats.style.Styler at 0x7fd468730e80>"
      ]
     },
     "execution_count": 25,
     "metadata": {},
     "output_type": "execute_result"
    }
   ],
   "source": [
    "colformat = {\"PROFIT%\": \"{:,.1f}\", \n",
    "             \"AVG_PRICE\": \"{:,.0f}\", \"INVEST\": \"{:,.0f}\", \"MARKET_PRICE\": \"{:,.0f}\", \n",
    "             \"CV\": \"{:,.0f}\", \"PROFIT\": \"{:,.0f}\"}\n",
    "market.sort_values(by=['PROFIT'], inplace= True, ascending= False, ignore_index=False,)\n",
    "market.style.format(colformat)"
   ]
  },
  {
   "cell_type": "code",
   "execution_count": 26,
   "metadata": {},
   "outputs": [
    {
     "data": {
      "text/plain": [
       "<matplotlib.axes._subplots.AxesSubplot at 0x7fd4687e7760>"
      ]
     },
     "execution_count": 26,
     "metadata": {},
     "output_type": "execute_result"
    },
    {
     "data": {
      "image/png": "[encoded data removed]",
      "text/plain": [
       "<Figure size 864x288 with 1 Axes>"
      ]
     },
     "metadata": {
      "needs_background": "light"
     },
     "output_type": "display_data"
    }
   ],
   "source": [
    "market[['NAME', 'PROFIT']].set_index('NAME').sort_values('PROFIT', ascending= False).plot(kind= 'bar', figsize= (12, 4))"
   ]
  },
  {
   "cell_type": "code",
   "execution_count": 27,
   "metadata": {},
   "outputs": [
    {
     "data": {
      "text/plain": [
       "<matplotlib.axes._subplots.AxesSubplot at 0x7fd4699751f0>"
      ]
     },
     "execution_count": 27,
     "metadata": {},
     "output_type": "execute_result"
    },
    {
     "data": {
      "image/png": "[encoded data removed]",
      "text/plain": [
       "<Figure size 864x288 with 1 Axes>"
      ]
     },
     "metadata": {
      "needs_background": "light"
     },
     "output_type": "display_data"
    }
   ],
   "source": [
    "market[['NAME', 'PROFIT%']].set_index('NAME').sort_values('PROFIT%', ascending= False).plot(kind= 'bar', figsize= (12, 4))"
   ]
  },
  {
   "cell_type": "code",
   "execution_count": 28,
   "metadata": {},
   "outputs": [
    {
     "name": "stdout",
     "output_type": "stream",
     "text": [
      "Current Portfolio Total\n",
      "-----------------------------\n",
      "Values    ₩ 11,059,075\n",
      "Profit    ₩   -374,722\n",
      "Profit%   -3.28 %\n"
     ]
    }
   ],
   "source": [
    "print('Current Portfolio Total')\n",
    "print('-----------------------------')\n",
    "print('Values    ₩', f'{int(market.CV.sum()):,}')\n",
    "print('Profit    ₩  ', f'{int(market.PROFIT.sum()):,}')\n",
    "print('Profit%   {:.2f} %'.format(market.PROFIT.sum() / market.INVEST.sum() * -100))"
   ]
  }
 ],
 "metadata": {
  "colab": {
   "collapsed_sections": [],
   "name": "postion.ipynb",
   "provenance": []
  },
  "kernelspec": {
   "display_name": "Python 3",
   "language": "python",
   "name": "python3"
  },
  "language_info": {
   "codemirror_mode": {
    "name": "ipython",
    "version": 3
   },
   "file_extension": ".py",
   "mimetype": "text/x-python",
   "name": "python",
   "nbconvert_exporter": "python",
   "pygments_lexer": "ipython3",
   "version": "3.8.3"
  }
 },
 "nbformat": 4,
 "nbformat_minor": 1
}
